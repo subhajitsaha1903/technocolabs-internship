{
  "nbformat": 4,
  "nbformat_minor": 0,
  "metadata": {
    "colab": {
      "name": "sentiment_analysis.ipynb",
      "provenance": [],
      "collapsed_sections": []
    },
    "kernelspec": {
      "name": "python3",
      "display_name": "Python 3"
    },
    "language_info": {
      "name": "python"
    }
  },
  "cells": [
    {
      "cell_type": "code",
      "metadata": {
        "id": "H9I8m4aGA9F3"
      },
      "source": [
        "import re\n",
        "import pandas as pd\n",
        "import numpy as np\n"
      ],
      "execution_count": null,
      "outputs": []
    },
    {
      "cell_type": "markdown",
      "metadata": {
        "id": "w6Z4AOGoxwqf"
      },
      "source": [
        "Cleaning and preprocessing"
      ]
    },
    {
      "cell_type": "code",
      "metadata": {
        "colab": {
          "base_uri": "https://localhost:8080/",
          "height": 417
        },
        "id": "csB1H860Eci1",
        "outputId": "b32ebaf6-efa7-4062-add6-fdeee0b31730"
      },
      "source": [
        "twitter_data= pd.read_csv('final_twitterdata_6months/AAPL.csv')\n",
        "twitter_data['Datetime']=twitter_data.Datetime.map(lambda p: (str(p).split(\" \"))[0])\n",
        "twitter_data.rename(columns = {'Datetime':'Date'}, inplace = True)\n",
        "df_copy = twitter_data\n",
        "df_copy"
      ],
      "execution_count": null,
      "outputs": [
        {
          "output_type": "execute_result",
          "data": {
            "text/html": [
              "<div>\n",
              "<style scoped>\n",
              "    .dataframe tbody tr th:only-of-type {\n",
              "        vertical-align: middle;\n",
              "    }\n",
              "\n",
              "    .dataframe tbody tr th {\n",
              "        vertical-align: top;\n",
              "    }\n",
              "\n",
              "    .dataframe thead th {\n",
              "        text-align: right;\n",
              "    }\n",
              "</style>\n",
              "<table border=\"1\" class=\"dataframe\">\n",
              "  <thead>\n",
              "    <tr style=\"text-align: right;\">\n",
              "      <th></th>\n",
              "      <th>Date</th>\n",
              "      <th>Text</th>\n",
              "    </tr>\n",
              "  </thead>\n",
              "  <tbody>\n",
              "    <tr>\n",
              "      <th>0</th>\n",
              "      <td>2021-09-25</td>\n",
              "      <td>This Cannabis Stock Has A Better 1-Year Return...</td>\n",
              "    </tr>\n",
              "    <tr>\n",
              "      <th>1</th>\n",
              "      <td>2021-09-25</td>\n",
              "      <td>#AAPL #DIS This Cannabis Stock Has A Better 1-...</td>\n",
              "    </tr>\n",
              "    <tr>\n",
              "      <th>2</th>\n",
              "      <td>2021-09-25</td>\n",
              "      <td>#AAPL #HPQ U.S. Move To End Huawei Saga Helps ...</td>\n",
              "    </tr>\n",
              "    <tr>\n",
              "      <th>3</th>\n",
              "      <td>2021-09-25</td>\n",
              "      <td>$AAPL charting on the #iPhone13ProMax in the l...</td>\n",
              "    </tr>\n",
              "    <tr>\n",
              "      <th>4</th>\n",
              "      <td>2021-09-25</td>\n",
              "      <td>Remember in 2004 - When #aapl was selling for ...</td>\n",
              "    </tr>\n",
              "    <tr>\n",
              "      <th>...</th>\n",
              "      <td>...</td>\n",
              "      <td>...</td>\n",
              "    </tr>\n",
              "    <tr>\n",
              "      <th>7125</th>\n",
              "      <td>2021-03-26</td>\n",
              "      <td>$AAPL one of the most mentioned on /r/wallstre...</td>\n",
              "    </tr>\n",
              "    <tr>\n",
              "      <th>7126</th>\n",
              "      <td>2021-03-26</td>\n",
              "      <td>Pf+0.5% 50% cash\\nBonds &amp;amp; Treasury #VUTY +...</td>\n",
              "    </tr>\n",
              "    <tr>\n",
              "      <th>7127</th>\n",
              "      <td>2021-03-26</td>\n",
              "      <td>Last day of the week. Selling pressure is stil...</td>\n",
              "    </tr>\n",
              "    <tr>\n",
              "      <th>7128</th>\n",
              "      <td>2021-03-26</td>\n",
              "      <td>@AroraItesh @michaelbatnick Yep, #AAPL, #TSLA,...</td>\n",
              "    </tr>\n",
              "    <tr>\n",
              "      <th>7129</th>\n",
              "      <td>2021-03-26</td>\n",
              "      <td>Wow a white lady spat at me when she walked by...</td>\n",
              "    </tr>\n",
              "  </tbody>\n",
              "</table>\n",
              "<p>7130 rows × 2 columns</p>\n",
              "</div>"
            ],
            "text/plain": [
              "            Date                                               Text\n",
              "0     2021-09-25  This Cannabis Stock Has A Better 1-Year Return...\n",
              "1     2021-09-25  #AAPL #DIS This Cannabis Stock Has A Better 1-...\n",
              "2     2021-09-25  #AAPL #HPQ U.S. Move To End Huawei Saga Helps ...\n",
              "3     2021-09-25  $AAPL charting on the #iPhone13ProMax in the l...\n",
              "4     2021-09-25  Remember in 2004 - When #aapl was selling for ...\n",
              "...          ...                                                ...\n",
              "7125  2021-03-26  $AAPL one of the most mentioned on /r/wallstre...\n",
              "7126  2021-03-26  Pf+0.5% 50% cash\\nBonds &amp; Treasury #VUTY +...\n",
              "7127  2021-03-26  Last day of the week. Selling pressure is stil...\n",
              "7128  2021-03-26  @AroraItesh @michaelbatnick Yep, #AAPL, #TSLA,...\n",
              "7129  2021-03-26  Wow a white lady spat at me when she walked by...\n",
              "\n",
              "[7130 rows x 2 columns]"
            ]
          },
          "metadata": {},
          "execution_count": 138
        }
      ]
    },
    {
      "cell_type": "code",
      "metadata": {
        "colab": {
          "base_uri": "https://localhost:8080/",
          "height": 417
        },
        "id": "YZAk52DVz4Wt",
        "outputId": "ddc03c96-abb5-47cb-b66c-42925e283e86"
      },
      "source": [
        "df_copy=df_copy.dropna()\n",
        "df_copy"
      ],
      "execution_count": null,
      "outputs": [
        {
          "output_type": "execute_result",
          "data": {
            "text/html": [
              "<div>\n",
              "<style scoped>\n",
              "    .dataframe tbody tr th:only-of-type {\n",
              "        vertical-align: middle;\n",
              "    }\n",
              "\n",
              "    .dataframe tbody tr th {\n",
              "        vertical-align: top;\n",
              "    }\n",
              "\n",
              "    .dataframe thead th {\n",
              "        text-align: right;\n",
              "    }\n",
              "</style>\n",
              "<table border=\"1\" class=\"dataframe\">\n",
              "  <thead>\n",
              "    <tr style=\"text-align: right;\">\n",
              "      <th></th>\n",
              "      <th>Date</th>\n",
              "      <th>Text</th>\n",
              "    </tr>\n",
              "  </thead>\n",
              "  <tbody>\n",
              "    <tr>\n",
              "      <th>0</th>\n",
              "      <td>2021-09-25</td>\n",
              "      <td>This Cannabis Stock Has A Better 1-Year Return...</td>\n",
              "    </tr>\n",
              "    <tr>\n",
              "      <th>1</th>\n",
              "      <td>2021-09-25</td>\n",
              "      <td>#AAPL #DIS This Cannabis Stock Has A Better 1-...</td>\n",
              "    </tr>\n",
              "    <tr>\n",
              "      <th>2</th>\n",
              "      <td>2021-09-25</td>\n",
              "      <td>#AAPL #HPQ U.S. Move To End Huawei Saga Helps ...</td>\n",
              "    </tr>\n",
              "    <tr>\n",
              "      <th>3</th>\n",
              "      <td>2021-09-25</td>\n",
              "      <td>$AAPL charting on the #iPhone13ProMax in the l...</td>\n",
              "    </tr>\n",
              "    <tr>\n",
              "      <th>4</th>\n",
              "      <td>2021-09-25</td>\n",
              "      <td>Remember in 2004 - When #aapl was selling for ...</td>\n",
              "    </tr>\n",
              "    <tr>\n",
              "      <th>...</th>\n",
              "      <td>...</td>\n",
              "      <td>...</td>\n",
              "    </tr>\n",
              "    <tr>\n",
              "      <th>7125</th>\n",
              "      <td>2021-03-26</td>\n",
              "      <td>$AAPL one of the most mentioned on /r/wallstre...</td>\n",
              "    </tr>\n",
              "    <tr>\n",
              "      <th>7126</th>\n",
              "      <td>2021-03-26</td>\n",
              "      <td>Pf+0.5% 50% cash\\nBonds &amp;amp; Treasury #VUTY +...</td>\n",
              "    </tr>\n",
              "    <tr>\n",
              "      <th>7127</th>\n",
              "      <td>2021-03-26</td>\n",
              "      <td>Last day of the week. Selling pressure is stil...</td>\n",
              "    </tr>\n",
              "    <tr>\n",
              "      <th>7128</th>\n",
              "      <td>2021-03-26</td>\n",
              "      <td>@AroraItesh @michaelbatnick Yep, #AAPL, #TSLA,...</td>\n",
              "    </tr>\n",
              "    <tr>\n",
              "      <th>7129</th>\n",
              "      <td>2021-03-26</td>\n",
              "      <td>Wow a white lady spat at me when she walked by...</td>\n",
              "    </tr>\n",
              "  </tbody>\n",
              "</table>\n",
              "<p>6542 rows × 2 columns</p>\n",
              "</div>"
            ],
            "text/plain": [
              "            Date                                               Text\n",
              "0     2021-09-25  This Cannabis Stock Has A Better 1-Year Return...\n",
              "1     2021-09-25  #AAPL #DIS This Cannabis Stock Has A Better 1-...\n",
              "2     2021-09-25  #AAPL #HPQ U.S. Move To End Huawei Saga Helps ...\n",
              "3     2021-09-25  $AAPL charting on the #iPhone13ProMax in the l...\n",
              "4     2021-09-25  Remember in 2004 - When #aapl was selling for ...\n",
              "...          ...                                                ...\n",
              "7125  2021-03-26  $AAPL one of the most mentioned on /r/wallstre...\n",
              "7126  2021-03-26  Pf+0.5% 50% cash\\nBonds &amp; Treasury #VUTY +...\n",
              "7127  2021-03-26  Last day of the week. Selling pressure is stil...\n",
              "7128  2021-03-26  @AroraItesh @michaelbatnick Yep, #AAPL, #TSLA,...\n",
              "7129  2021-03-26  Wow a white lady spat at me when she walked by...\n",
              "\n",
              "[6542 rows x 2 columns]"
            ]
          },
          "metadata": {},
          "execution_count": 139
        }
      ]
    },
    {
      "cell_type": "code",
      "metadata": {
        "id": "K9g8sULN1Lm_"
      },
      "source": [
        "df_copy['Date'] = pd.to_datetime(df_copy['Date'], errors='coerce')\n",
        "df_copy['Date'] = df_copy['Date'].apply(lambda x: x.strftime('%Y-%m-%d')if not pd.isnull(x) else '')\n",
        "df_copy.dropna(inplace=True)\n"
      ],
      "execution_count": null,
      "outputs": []
    },
    {
      "cell_type": "code",
      "metadata": {
        "colab": {
          "base_uri": "https://localhost:8080/"
        },
        "id": "Yr6Hs-zazrhJ",
        "outputId": "5379d803-320b-4737-ff80-18a048d2baf7"
      },
      "source": [
        "import re\n",
        "df_copy['Text']=df_copy['Text'].apply(str).str.lower()\n",
        "\n",
        "# Convert text to lowercase\n",
        "    #data['review'] = data['review'].str.strip().str.lower()\n",
        "    \n",
        "for i in range(len(df_copy)):\n",
        "    txt = df_copy.iloc[i][\"Text\"]\n",
        "    txt=re.sub(r'@[A-Z0-9a-z_:]+','',txt)#replace username-tags\n",
        "    txt=re.sub(r'^[RT]+','',txt)#replace RT-tags\n",
        "    txt = re.sub('https?://[A-Za-z0-9./]+','',txt)#replace URLs\n",
        "    txt=re.sub(\"[^a-zA-Z]\", \" \",txt)#replace hashtags\n",
        "    df_copy.at[i,\"Text\"]=txt\n",
        "df_copy.shape  "
      ],
      "execution_count": null,
      "outputs": [
        {
          "output_type": "execute_result",
          "data": {
            "text/plain": [
              "(7130, 2)"
            ]
          },
          "metadata": {},
          "execution_count": 141
        }
      ]
    },
    {
      "cell_type": "code",
      "metadata": {
        "colab": {
          "base_uri": "https://localhost:8080/"
        },
        "id": "UgBJzn1fBU6g",
        "outputId": "6560bbf4-a7ba-42d0-89d1-e4765ecdf597"
      },
      "source": [
        "df_copy.dropna()\n",
        "df_copy.info"
      ],
      "execution_count": null,
      "outputs": [
        {
          "output_type": "execute_result",
          "data": {
            "text/plain": [
              "<bound method DataFrame.info of             Date                                               Text\n",
              "0     2021-09-25  this cannabis stock has a better   year return...\n",
              "1     2021-09-25   aapl  dis this cannabis stock has a better   ...\n",
              "2     2021-09-25   aapl  hpq u s  move to end huawei saga helps ...\n",
              "3     2021-09-25   aapl charting on the  iphone  promax in the l...\n",
              "4     2021-09-25  remember in        when  aapl was selling for ...\n",
              "...          ...                                                ...\n",
              "6441         NaN  signals could not be any clearer on the   min ...\n",
              "6456         NaN  buy the dip and enjoy every minute of it  this...\n",
              "6457         NaN  current market heat map   let us know   source...\n",
              "6463         NaN  pf          cash bonds  amp  treasury  vuty   ...\n",
              "6464         NaN  join  robinhood with my link and we ll both ge...\n",
              "\n",
              "[7130 rows x 2 columns]>"
            ]
          },
          "metadata": {},
          "execution_count": 142
        }
      ]
    },
    {
      "cell_type": "code",
      "metadata": {
        "id": "dpKY5oL_s9bE"
      },
      "source": [
        "import os\n",
        "import pandas as pd\n",
        "import matplotlib.pyplot as plt\n",
        "import seaborn as sns\n",
        "import itertools\n",
        "import collections\n",
        "import tweepy as tw\n",
        "import nltk\n",
        "from nltk.corpus import stopwords\n",
        "import re\n",
        "import networkx\n",
        "from textblob import TextBlob\n",
        "import warnings\n",
        "warnings.filterwarnings(\"ignore\")\n",
        "sns.set(font_scale=1.5)\n",
        "sns.set_style(\"whitegrid\")"
      ],
      "execution_count": null,
      "outputs": []
    },
    {
      "cell_type": "code",
      "metadata": {
        "colab": {
          "base_uri": "https://localhost:8080/"
        },
        "id": "IJ31sTkopUqz",
        "outputId": "fcb84dd9-3611-4b59-e8e4-54350d2e0cf6"
      },
      "source": [
        "type(df_copy['Text'])"
      ],
      "execution_count": null,
      "outputs": [
        {
          "output_type": "execute_result",
          "data": {
            "text/plain": [
              "pandas.core.series.Series"
            ]
          },
          "metadata": {},
          "execution_count": 144
        }
      ]
    },
    {
      "cell_type": "markdown",
      "metadata": {
        "id": "zMk8NiD8PLue"
      },
      "source": [
        ""
      ]
    },
    {
      "cell_type": "code",
      "metadata": {
        "id": "QzMjsborsdwF"
      },
      "source": [
        "tweets=df_copy['Text'].to_list()\n",
        "#tweets"
      ],
      "execution_count": null,
      "outputs": []
    },
    {
      "cell_type": "code",
      "metadata": {
        "id": "o5cUaEmZvNAE"
      },
      "source": [
        "\n",
        "# Create textblob objects of the tweets\n",
        "sentiment_objects = [TextBlob(tweet) for tweet in tweets]\n",
        "sentiment_objects\n",
        "sentiment_objects[1].polarity, sentiment_objects[1]\n",
        "# Create list of polarity values and tweet text\n",
        "sentiment_values = [[tweet.sentiment.polarity, str(tweet)] for tweet in sentiment_objects]\n",
        "#sentiment_values = [[tweet.sentiment.polarity,tweet.sentiment.subjectivity,str(tweet)] for tweet in sentiment_objects]\n",
        "# Create dataframe containing the polarity value and tweet text\n",
        "#sentiment_df = pd.DataFrame(sentiment_values, columns=[\"polarity\",'subjectivity',\"tweet\"])\n",
        "sentiment_df = pd.DataFrame(sentiment_values, columns=[\"polarity\",\"tweet\"])\n",
        "sentiment_df.loc[sentiment_df['polarity']==0,'sentiment']=0\n",
        "sentiment_df.loc[sentiment_df['polarity']<0,'sentiment']=-1\n",
        "sentiment_df.loc[sentiment_df['polarity']>0,'sentiment']=1\n",
        "#new1=df_copy\n",
        "df_copy['sentiment']=sentiment_df['sentiment']\n",
        "df_copy['polarity']=sentiment_df['polarity']\n",
        "df_copy=df_copy.dropna()\n",
        "df_copy['sentiment']=df_copy['sentiment'].astype(int)\n"
      ],
      "execution_count": null,
      "outputs": []
    },
    {
      "cell_type": "markdown",
      "metadata": {
        "id": "EhEcrvYuzmmu"
      },
      "source": [
        "These polarity values can be plotted in a histogram, which can help to highlight in the overall sentiment (i.e. more positivity or negativity) toward the subject."
      ]
    },
    {
      "cell_type": "code",
      "metadata": {
        "colab": {
          "base_uri": "https://localhost:8080/",
          "height": 405
        },
        "id": "2xeSdJgJzSd2",
        "outputId": "0c48bfe9-ef87-4e37-88d7-9c2be02e8486"
      },
      "source": [
        "fig, ax = plt.subplots(figsize=(8, 6))\n",
        "# Plot histogram of the polarity values\n",
        "sentiment_df.hist(bins=[-1, -0.75, -0.5, -0.25, 0.25, 0.5, 0.75, 1],\n",
        "             ax=ax,\n",
        "             color=\"purple\")\n",
        "plt.title(\"Sentiments from Tweets on stock data\")\n",
        "plt.show()"
      ],
      "execution_count": null,
      "outputs": [
        {
          "output_type": "display_data",
          "data": {
            "image/png": "[encoded data removed]",
            "text/plain": [
              "<Figure size 576x432 with 2 Axes>"
            ]
          },
          "metadata": {}
        }
      ]
    },
    {
      "cell_type": "code",
      "metadata": {
        "colab": {
          "base_uri": "https://localhost:8080/",
          "height": 417
        },
        "id": "jMkKDMxizc4d",
        "outputId": "bb663808-7fc4-44c6-e215-8d023e0322f3"
      },
      "source": [
        "df_copy\n"
      ],
      "execution_count": null,
      "outputs": [
        {
          "output_type": "execute_result",
          "data": {
            "text/html": [
              "<div>\n",
              "<style scoped>\n",
              "    .dataframe tbody tr th:only-of-type {\n",
              "        vertical-align: middle;\n",
              "    }\n",
              "\n",
              "    .dataframe tbody tr th {\n",
              "        vertical-align: top;\n",
              "    }\n",
              "\n",
              "    .dataframe thead th {\n",
              "        text-align: right;\n",
              "    }\n",
              "</style>\n",
              "<table border=\"1\" class=\"dataframe\">\n",
              "  <thead>\n",
              "    <tr style=\"text-align: right;\">\n",
              "      <th></th>\n",
              "      <th>Date</th>\n",
              "      <th>Text</th>\n",
              "      <th>sentiment</th>\n",
              "      <th>polarity</th>\n",
              "    </tr>\n",
              "  </thead>\n",
              "  <tbody>\n",
              "    <tr>\n",
              "      <th>0</th>\n",
              "      <td>2021-09-25</td>\n",
              "      <td>this cannabis stock has a better   year return...</td>\n",
              "      <td>1</td>\n",
              "      <td>0.50</td>\n",
              "    </tr>\n",
              "    <tr>\n",
              "      <th>1</th>\n",
              "      <td>2021-09-25</td>\n",
              "      <td>aapl  dis this cannabis stock has a better   ...</td>\n",
              "      <td>1</td>\n",
              "      <td>0.50</td>\n",
              "    </tr>\n",
              "    <tr>\n",
              "      <th>2</th>\n",
              "      <td>2021-09-25</td>\n",
              "      <td>aapl  hpq u s  move to end huawei saga helps ...</td>\n",
              "      <td>0</td>\n",
              "      <td>0.00</td>\n",
              "    </tr>\n",
              "    <tr>\n",
              "      <th>3</th>\n",
              "      <td>2021-09-25</td>\n",
              "      <td>aapl charting on the  iphone  promax in the l...</td>\n",
              "      <td>1</td>\n",
              "      <td>0.10</td>\n",
              "    </tr>\n",
              "    <tr>\n",
              "      <th>4</th>\n",
              "      <td>2021-09-25</td>\n",
              "      <td>remember in        when  aapl was selling for ...</td>\n",
              "      <td>0</td>\n",
              "      <td>0.00</td>\n",
              "    </tr>\n",
              "    <tr>\n",
              "      <th>...</th>\n",
              "      <td>...</td>\n",
              "      <td>...</td>\n",
              "      <td>...</td>\n",
              "      <td>...</td>\n",
              "    </tr>\n",
              "    <tr>\n",
              "      <th>7125</th>\n",
              "      <td>2021-03-26</td>\n",
              "      <td>$aapl one of the most mentioned on /r/wallstre...</td>\n",
              "      <td>1</td>\n",
              "      <td>0.40</td>\n",
              "    </tr>\n",
              "    <tr>\n",
              "      <th>7126</th>\n",
              "      <td>2021-03-26</td>\n",
              "      <td>pf+0.5% 50% cash\\nbonds &amp;amp; treasury #vuty +...</td>\n",
              "      <td>1</td>\n",
              "      <td>0.40</td>\n",
              "    </tr>\n",
              "    <tr>\n",
              "      <th>7127</th>\n",
              "      <td>2021-03-26</td>\n",
              "      <td>last day of the week. selling pressure is stil...</td>\n",
              "      <td>0</td>\n",
              "      <td>0.00</td>\n",
              "    </tr>\n",
              "    <tr>\n",
              "      <th>7128</th>\n",
              "      <td>2021-03-26</td>\n",
              "      <td>@aroraitesh @michaelbatnick yep, #aapl, #tsla,...</td>\n",
              "      <td>1</td>\n",
              "      <td>0.35</td>\n",
              "    </tr>\n",
              "    <tr>\n",
              "      <th>7129</th>\n",
              "      <td>2021-03-26</td>\n",
              "      <td>wow a white lady spat at me when she walked by...</td>\n",
              "      <td>1</td>\n",
              "      <td>0.40</td>\n",
              "    </tr>\n",
              "  </tbody>\n",
              "</table>\n",
              "<p>6542 rows × 4 columns</p>\n",
              "</div>"
            ],
            "text/plain": [
              "            Date  ... polarity\n",
              "0     2021-09-25  ...     0.50\n",
              "1     2021-09-25  ...     0.50\n",
              "2     2021-09-25  ...     0.00\n",
              "3     2021-09-25  ...     0.10\n",
              "4     2021-09-25  ...     0.00\n",
              "...          ...  ...      ...\n",
              "7125  2021-03-26  ...     0.40\n",
              "7126  2021-03-26  ...     0.40\n",
              "7127  2021-03-26  ...     0.00\n",
              "7128  2021-03-26  ...     0.35\n",
              "7129  2021-03-26  ...     0.40\n",
              "\n",
              "[6542 rows x 4 columns]"
            ]
          },
          "metadata": {},
          "execution_count": 148
        }
      ]
    },
    {
      "cell_type": "code",
      "metadata": {
        "id": "MIVnTa_J4rQk"
      },
      "source": [
        "\n",
        "new=df_copy[['Date','polarity']]\n"
      ],
      "execution_count": null,
      "outputs": []
    },
    {
      "cell_type": "code",
      "metadata": {
        "colab": {
          "base_uri": "https://localhost:8080/",
          "height": 417
        },
        "id": "1MTjqU-75B7q",
        "outputId": "88ac327f-0850-4346-936f-34c7f3ca33b1"
      },
      "source": [
        "new"
      ],
      "execution_count": null,
      "outputs": [
        {
          "output_type": "execute_result",
          "data": {
            "text/html": [
              "<div>\n",
              "<style scoped>\n",
              "    .dataframe tbody tr th:only-of-type {\n",
              "        vertical-align: middle;\n",
              "    }\n",
              "\n",
              "    .dataframe tbody tr th {\n",
              "        vertical-align: top;\n",
              "    }\n",
              "\n",
              "    .dataframe thead th {\n",
              "        text-align: right;\n",
              "    }\n",
              "</style>\n",
              "<table border=\"1\" class=\"dataframe\">\n",
              "  <thead>\n",
              "    <tr style=\"text-align: right;\">\n",
              "      <th></th>\n",
              "      <th>Date</th>\n",
              "      <th>polarity</th>\n",
              "    </tr>\n",
              "  </thead>\n",
              "  <tbody>\n",
              "    <tr>\n",
              "      <th>0</th>\n",
              "      <td>2021-09-25</td>\n",
              "      <td>0.50</td>\n",
              "    </tr>\n",
              "    <tr>\n",
              "      <th>1</th>\n",
              "      <td>2021-09-25</td>\n",
              "      <td>0.50</td>\n",
              "    </tr>\n",
              "    <tr>\n",
              "      <th>2</th>\n",
              "      <td>2021-09-25</td>\n",
              "      <td>0.00</td>\n",
              "    </tr>\n",
              "    <tr>\n",
              "      <th>3</th>\n",
              "      <td>2021-09-25</td>\n",
              "      <td>0.10</td>\n",
              "    </tr>\n",
              "    <tr>\n",
              "      <th>4</th>\n",
              "      <td>2021-09-25</td>\n",
              "      <td>0.00</td>\n",
              "    </tr>\n",
              "    <tr>\n",
              "      <th>...</th>\n",
              "      <td>...</td>\n",
              "      <td>...</td>\n",
              "    </tr>\n",
              "    <tr>\n",
              "      <th>7125</th>\n",
              "      <td>2021-03-26</td>\n",
              "      <td>0.40</td>\n",
              "    </tr>\n",
              "    <tr>\n",
              "      <th>7126</th>\n",
              "      <td>2021-03-26</td>\n",
              "      <td>0.40</td>\n",
              "    </tr>\n",
              "    <tr>\n",
              "      <th>7127</th>\n",
              "      <td>2021-03-26</td>\n",
              "      <td>0.00</td>\n",
              "    </tr>\n",
              "    <tr>\n",
              "      <th>7128</th>\n",
              "      <td>2021-03-26</td>\n",
              "      <td>0.35</td>\n",
              "    </tr>\n",
              "    <tr>\n",
              "      <th>7129</th>\n",
              "      <td>2021-03-26</td>\n",
              "      <td>0.40</td>\n",
              "    </tr>\n",
              "  </tbody>\n",
              "</table>\n",
              "<p>6542 rows × 2 columns</p>\n",
              "</div>"
            ],
            "text/plain": [
              "            Date  polarity\n",
              "0     2021-09-25      0.50\n",
              "1     2021-09-25      0.50\n",
              "2     2021-09-25      0.00\n",
              "3     2021-09-25      0.10\n",
              "4     2021-09-25      0.00\n",
              "...          ...       ...\n",
              "7125  2021-03-26      0.40\n",
              "7126  2021-03-26      0.40\n",
              "7127  2021-03-26      0.00\n",
              "7128  2021-03-26      0.35\n",
              "7129  2021-03-26      0.40\n",
              "\n",
              "[6542 rows x 2 columns]"
            ]
          },
          "metadata": {},
          "execution_count": 150
        }
      ]
    },
    {
      "cell_type": "code",
      "metadata": {
        "id": "Che1-bbrHuQO",
        "colab": {
          "base_uri": "https://localhost:8080/",
          "height": 417
        },
        "outputId": "adca4c38-d362-4df6-d44f-39198679e2d4"
      },
      "source": [
        "#add a label\n",
        "new['Symbol']=\"Apple\"\n",
        "#new['Polarity']=new3['polarity']\n",
        "# It is stored in the data folder.\n",
        "# Write DataFrame to CSV\n",
        "new.to_csv('AAPL_grouped_sentiment_double_singleday.csv', index=False)\n",
        "new"
      ],
      "execution_count": null,
      "outputs": [
        {
          "output_type": "execute_result",
          "data": {
            "text/html": [
              "<div>\n",
              "<style scoped>\n",
              "    .dataframe tbody tr th:only-of-type {\n",
              "        vertical-align: middle;\n",
              "    }\n",
              "\n",
              "    .dataframe tbody tr th {\n",
              "        vertical-align: top;\n",
              "    }\n",
              "\n",
              "    .dataframe thead th {\n",
              "        text-align: right;\n",
              "    }\n",
              "</style>\n",
              "<table border=\"1\" class=\"dataframe\">\n",
              "  <thead>\n",
              "    <tr style=\"text-align: right;\">\n",
              "      <th></th>\n",
              "      <th>Date</th>\n",
              "      <th>polarity</th>\n",
              "      <th>Symbol</th>\n",
              "    </tr>\n",
              "  </thead>\n",
              "  <tbody>\n",
              "    <tr>\n",
              "      <th>0</th>\n",
              "      <td>2021-09-25</td>\n",
              "      <td>0.50</td>\n",
              "      <td>Apple</td>\n",
              "    </tr>\n",
              "    <tr>\n",
              "      <th>1</th>\n",
              "      <td>2021-09-25</td>\n",
              "      <td>0.50</td>\n",
              "      <td>Apple</td>\n",
              "    </tr>\n",
              "    <tr>\n",
              "      <th>2</th>\n",
              "      <td>2021-09-25</td>\n",
              "      <td>0.00</td>\n",
              "      <td>Apple</td>\n",
              "    </tr>\n",
              "    <tr>\n",
              "      <th>3</th>\n",
              "      <td>2021-09-25</td>\n",
              "      <td>0.10</td>\n",
              "      <td>Apple</td>\n",
              "    </tr>\n",
              "    <tr>\n",
              "      <th>4</th>\n",
              "      <td>2021-09-25</td>\n",
              "      <td>0.00</td>\n",
              "      <td>Apple</td>\n",
              "    </tr>\n",
              "    <tr>\n",
              "      <th>...</th>\n",
              "      <td>...</td>\n",
              "      <td>...</td>\n",
              "      <td>...</td>\n",
              "    </tr>\n",
              "    <tr>\n",
              "      <th>7125</th>\n",
              "      <td>2021-03-26</td>\n",
              "      <td>0.40</td>\n",
              "      <td>Apple</td>\n",
              "    </tr>\n",
              "    <tr>\n",
              "      <th>7126</th>\n",
              "      <td>2021-03-26</td>\n",
              "      <td>0.40</td>\n",
              "      <td>Apple</td>\n",
              "    </tr>\n",
              "    <tr>\n",
              "      <th>7127</th>\n",
              "      <td>2021-03-26</td>\n",
              "      <td>0.00</td>\n",
              "      <td>Apple</td>\n",
              "    </tr>\n",
              "    <tr>\n",
              "      <th>7128</th>\n",
              "      <td>2021-03-26</td>\n",
              "      <td>0.35</td>\n",
              "      <td>Apple</td>\n",
              "    </tr>\n",
              "    <tr>\n",
              "      <th>7129</th>\n",
              "      <td>2021-03-26</td>\n",
              "      <td>0.40</td>\n",
              "      <td>Apple</td>\n",
              "    </tr>\n",
              "  </tbody>\n",
              "</table>\n",
              "<p>6542 rows × 3 columns</p>\n",
              "</div>"
            ],
            "text/plain": [
              "            Date  polarity Symbol\n",
              "0     2021-09-25      0.50  Apple\n",
              "1     2021-09-25      0.50  Apple\n",
              "2     2021-09-25      0.00  Apple\n",
              "3     2021-09-25      0.10  Apple\n",
              "4     2021-09-25      0.00  Apple\n",
              "...          ...       ...    ...\n",
              "7125  2021-03-26      0.40  Apple\n",
              "7126  2021-03-26      0.40  Apple\n",
              "7127  2021-03-26      0.00  Apple\n",
              "7128  2021-03-26      0.35  Apple\n",
              "7129  2021-03-26      0.40  Apple\n",
              "\n",
              "[6542 rows x 3 columns]"
            ]
          },
          "metadata": {},
          "execution_count": 151
        }
      ]
    },
    {
      "cell_type": "markdown",
      "metadata": {
        "id": "u1RloWRFRVhE"
      },
      "source": [
        ""
      ]
    }
  ]
}