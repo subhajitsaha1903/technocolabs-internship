{
  "nbformat": 4,
  "nbformat_minor": 0,
  "metadata": {
    "colab": {
      "name": "_SVM_sameday_sentiment_RBF_final_stockdata.ipynb",
      "provenance": [],
      "collapsed_sections": []
    },
    "kernelspec": {
      "display_name": "Python 3",
      "name": "python3"
    },
    "language_info": {
      "name": "python"
    }
  },
  "cells": [
    {
      "cell_type": "code",
      "metadata": {
        "id": "UCp9uy2Q2Ofu"
      },
      "source": [
        "import numpy as np\n",
        "import pandas as pd\n",
        "import matplotlib.pyplot as plt\n",
        "%matplotlib inline"
      ],
      "execution_count": 7,
      "outputs": []
    },
    {
      "cell_type": "code",
      "metadata": {
        "id": "1nZn3NnlEWm-",
        "colab": {
          "base_uri": "https://localhost:8080/",
          "height": 501
        },
        "outputId": "574db7cc-2e6d-4d10-bd50-dd36178a3243"
      },
      "source": [
        "data = pd.read_csv('labelled_dataset_full.csv')\n",
        "#data_1=data.drop('lab_prevday')\n",
        "data_1=data[['lab_sameday','Polarity','Open','High','Volume','Low']]\n",
        "data_1.dropna(inplace=True)\n",
        "data_1\n"
      ],
      "execution_count": 8,
      "outputs": [
        {
          "output_type": "stream",
          "name": "stderr",
          "text": [
            "/usr/local/lib/python3.7/dist-packages/ipykernel_launcher.py:4: SettingWithCopyWarning: \n",
            "A value is trying to be set on a copy of a slice from a DataFrame\n",
            "\n",
            "See the caveats in the documentation: https://pandas.pydata.org/pandas-docs/stable/user_guide/indexing.html#returning-a-view-versus-a-copy\n",
            "  after removing the cwd from sys.path.\n"
          ]
        },
        {
          "output_type": "execute_result",
          "data": {
            "text/html": [
              "<div>\n",
              "<style scoped>\n",
              "    .dataframe tbody tr th:only-of-type {\n",
              "        vertical-align: middle;\n",
              "    }\n",
              "\n",
              "    .dataframe tbody tr th {\n",
              "        vertical-align: top;\n",
              "    }\n",
              "\n",
              "    .dataframe thead th {\n",
              "        text-align: right;\n",
              "    }\n",
              "</style>\n",
              "<table border=\"1\" class=\"dataframe\">\n",
              "  <thead>\n",
              "    <tr style=\"text-align: right;\">\n",
              "      <th></th>\n",
              "      <th>lab_sameday</th>\n",
              "      <th>Polarity</th>\n",
              "      <th>Open</th>\n",
              "      <th>High</th>\n",
              "      <th>Volume</th>\n",
              "      <th>Low</th>\n",
              "    </tr>\n",
              "  </thead>\n",
              "  <tbody>\n",
              "    <tr>\n",
              "      <th>0</th>\n",
              "      <td>1.0</td>\n",
              "      <td>0.166667</td>\n",
              "      <td>145.66</td>\n",
              "      <td>147.4701</td>\n",
              "      <td>53477870.0</td>\n",
              "      <td>145.56</td>\n",
              "    </tr>\n",
              "    <tr>\n",
              "      <th>1</th>\n",
              "      <td>1.0</td>\n",
              "      <td>0.000000</td>\n",
              "      <td>145.66</td>\n",
              "      <td>147.4701</td>\n",
              "      <td>53477870.0</td>\n",
              "      <td>145.56</td>\n",
              "    </tr>\n",
              "    <tr>\n",
              "      <th>2</th>\n",
              "      <td>1.0</td>\n",
              "      <td>0.375000</td>\n",
              "      <td>145.66</td>\n",
              "      <td>147.4701</td>\n",
              "      <td>53477870.0</td>\n",
              "      <td>145.56</td>\n",
              "    </tr>\n",
              "    <tr>\n",
              "      <th>3</th>\n",
              "      <td>1.0</td>\n",
              "      <td>0.000000</td>\n",
              "      <td>145.66</td>\n",
              "      <td>147.4701</td>\n",
              "      <td>53477870.0</td>\n",
              "      <td>145.56</td>\n",
              "    </tr>\n",
              "    <tr>\n",
              "      <th>4</th>\n",
              "      <td>1.0</td>\n",
              "      <td>0.234091</td>\n",
              "      <td>145.66</td>\n",
              "      <td>147.4701</td>\n",
              "      <td>53477870.0</td>\n",
              "      <td>145.56</td>\n",
              "    </tr>\n",
              "    <tr>\n",
              "      <th>...</th>\n",
              "      <td>...</td>\n",
              "      <td>...</td>\n",
              "      <td>...</td>\n",
              "      <td>...</td>\n",
              "      <td>...</td>\n",
              "      <td>...</td>\n",
              "    </tr>\n",
              "    <tr>\n",
              "      <th>16463</th>\n",
              "      <td>1.0</td>\n",
              "      <td>0.000000</td>\n",
              "      <td>141.78</td>\n",
              "      <td>142.7685</td>\n",
              "      <td>4259952.0</td>\n",
              "      <td>141.50</td>\n",
              "    </tr>\n",
              "    <tr>\n",
              "      <th>16464</th>\n",
              "      <td>1.0</td>\n",
              "      <td>0.280000</td>\n",
              "      <td>141.78</td>\n",
              "      <td>142.7685</td>\n",
              "      <td>4259952.0</td>\n",
              "      <td>141.50</td>\n",
              "    </tr>\n",
              "    <tr>\n",
              "      <th>16465</th>\n",
              "      <td>1.0</td>\n",
              "      <td>0.000000</td>\n",
              "      <td>141.78</td>\n",
              "      <td>142.7685</td>\n",
              "      <td>4259952.0</td>\n",
              "      <td>141.50</td>\n",
              "    </tr>\n",
              "    <tr>\n",
              "      <th>16466</th>\n",
              "      <td>1.0</td>\n",
              "      <td>0.392857</td>\n",
              "      <td>141.78</td>\n",
              "      <td>142.7685</td>\n",
              "      <td>4259952.0</td>\n",
              "      <td>141.50</td>\n",
              "    </tr>\n",
              "    <tr>\n",
              "      <th>16467</th>\n",
              "      <td>1.0</td>\n",
              "      <td>0.194444</td>\n",
              "      <td>141.78</td>\n",
              "      <td>142.7685</td>\n",
              "      <td>4259952.0</td>\n",
              "      <td>141.50</td>\n",
              "    </tr>\n",
              "  </tbody>\n",
              "</table>\n",
              "<p>16468 rows × 6 columns</p>\n",
              "</div>"
            ],
            "text/plain": [
              "       lab_sameday  Polarity    Open      High      Volume     Low\n",
              "0              1.0  0.166667  145.66  147.4701  53477870.0  145.56\n",
              "1              1.0  0.000000  145.66  147.4701  53477870.0  145.56\n",
              "2              1.0  0.375000  145.66  147.4701  53477870.0  145.56\n",
              "3              1.0  0.000000  145.66  147.4701  53477870.0  145.56\n",
              "4              1.0  0.234091  145.66  147.4701  53477870.0  145.56\n",
              "...            ...       ...     ...       ...         ...     ...\n",
              "16463          1.0  0.000000  141.78  142.7685   4259952.0  141.50\n",
              "16464          1.0  0.280000  141.78  142.7685   4259952.0  141.50\n",
              "16465          1.0  0.000000  141.78  142.7685   4259952.0  141.50\n",
              "16466          1.0  0.392857  141.78  142.7685   4259952.0  141.50\n",
              "16467          1.0  0.194444  141.78  142.7685   4259952.0  141.50\n",
              "\n",
              "[16468 rows x 6 columns]"
            ]
          },
          "metadata": {},
          "execution_count": 8
        }
      ]
    },
    {
      "cell_type": "code",
      "metadata": {
        "id": "O3XKvrpj9zMc"
      },
      "source": [
        ""
      ],
      "execution_count": 8,
      "outputs": []
    },
    {
      "cell_type": "code",
      "metadata": {
        "id": "gfICZUwHOihZ",
        "colab": {
          "base_uri": "https://localhost:8080/",
          "height": 342
        },
        "outputId": "1a7cf4f0-9769-4162-c520-77216988d3d9"
      },
      "source": [
        "import seaborn as sns\n",
        "\n",
        "# calculate the correlations\n",
        "correlations = data_1.corr()\n",
        "\n",
        "# plot the heatmap \n",
        "sns.heatmap(correlations, xticklabels=correlations.columns, yticklabels=correlations.columns, annot=True)\n"
      ],
      "execution_count": 9,
      "outputs": [
        {
          "output_type": "execute_result",
          "data": {
            "text/plain": [
              "<matplotlib.axes._subplots.AxesSubplot at 0x7f7da895e1d0>"
            ]
          },
          "metadata": {},
          "execution_count": 9
        },
        {
          "output_type": "display_data",
          "data": {
            "image/png": "[encoded data removed]",
            "text/plain": [
              "<Figure size 432x288 with 2 Axes>"
            ]
          },
          "metadata": {
            "needs_background": "light"
          }
        }
      ]
    },
    {
      "cell_type": "code",
      "metadata": {
        "id": "YRcsAg_Aa4YR",
        "colab": {
          "base_uri": "https://localhost:8080/",
          "height": 747
        },
        "outputId": "87f4d394-78e6-4361-e271-302aaa3ce0ae"
      },
      "source": [
        "\n",
        "# plot the clustermap \n",
        "sns.clustermap(correlations, xticklabels=correlations.columns, yticklabels=correlations.columns, annot=True)\n",
        "#remove NUM_NEU and TOT_WORDS which are highly correlated"
      ],
      "execution_count": 10,
      "outputs": [
        {
          "output_type": "execute_result",
          "data": {
            "text/plain": [
              "<seaborn.matrix.ClusterGrid at 0x7f7da906bcd0>"
            ]
          },
          "metadata": {},
          "execution_count": 10
        },
        {
          "output_type": "display_data",
          "data": {
            "image/png": "[encoded data removed]",
            "text/plain": [
              "<Figure size 720x720 with 4 Axes>"
            ]
          },
          "metadata": {
            "needs_background": "light"
          }
        }
      ]
    },
    {
      "cell_type": "code",
      "metadata": {
        "id": "njv_eH_kEnW0",
        "colab": {
          "base_uri": "https://localhost:8080/",
          "height": 319
        },
        "outputId": "bc03f1b1-992c-44a9-d9c3-7ccb51fd7ad0"
      },
      "source": [
        "# Graph to show the Higly Imbalanced Data. To Predict the Column ['lab_sameday']. Right now.. majority of records/rows with 'Target=0'\n",
        "# And few records with 'Target = 1'\n",
        "pd.value_counts(data_1['lab_sameday']).plot.bar()\n",
        "plt.title('lab_sameday class histogram')\n",
        "plt.xlabel('lab_sameday')\n"
      ],
      "execution_count": 11,
      "outputs": [
        {
          "output_type": "execute_result",
          "data": {
            "text/plain": [
              "Text(0.5, 0, 'lab_sameday')"
            ]
          },
          "metadata": {},
          "execution_count": 11
        },
        {
          "output_type": "display_data",
          "data": {
            "image/png": "[encoded data removed]",
            "text/plain": [
              "<Figure size 432x288 with 1 Axes>"
            ]
          },
          "metadata": {
            "needs_background": "light"
          }
        }
      ]
    },
    {
      "cell_type": "code",
      "metadata": {
        "id": "tSq9xgTQuJZG",
        "colab": {
          "base_uri": "https://localhost:8080/"
        },
        "outputId": "67996c33-480a-4d25-d28a-b97cf79434be"
      },
      "source": [
        "# Class count\n",
        "count_class_1, count_class_0 = data_1.lab_sameday.value_counts()\n",
        "# Divide by class\n",
        "df_class_0 = data_1[data_1['lab_sameday'] == 0]\n",
        "df_class_1 = data_1[data_1['lab_sameday'] == 1]\n",
        "print('Zero',count_class_0)\n",
        "print('One',count_class_1)"
      ],
      "execution_count": 12,
      "outputs": [
        {
          "output_type": "stream",
          "name": "stdout",
          "text": [
            "Zero 7997\n",
            "One 8471\n"
          ]
        }
      ]
    },
    {
      "cell_type": "code",
      "metadata": {
        "id": "JeIjriMWVvSa",
        "colab": {
          "base_uri": "https://localhost:8080/",
          "height": 754
        },
        "outputId": "5aa1b501-8540-4022-8c1d-20c2a5706a5a"
      },
      "source": [
        "# Doing Random Undersampling to balance data\n",
        "df_class_1_under = df_class_1.sample(count_class_0)\n",
        "df_test_under = pd.concat([df_class_1_under, df_class_0], axis=0)\n",
        "print('After Random under-sampling:')\n",
        "print(df_test_under.lab_sameday.value_counts())\n",
        "df_test_under.lab_sameday.value_counts().plot(kind='bar', title='Count(lab_sameday)');\n",
        "data_2=df_test_under\n",
        "data_2"
      ],
      "execution_count": 13,
      "outputs": [
        {
          "output_type": "stream",
          "name": "stdout",
          "text": [
            "After Random under-sampling:\n",
            "0.0    8471\n",
            "1.0    7997\n",
            "Name: lab_sameday, dtype: int64\n"
          ]
        },
        {
          "output_type": "execute_result",
          "data": {
            "text/html": [
              "<div>\n",
              "<style scoped>\n",
              "    .dataframe tbody tr th:only-of-type {\n",
              "        vertical-align: middle;\n",
              "    }\n",
              "\n",
              "    .dataframe tbody tr th {\n",
              "        vertical-align: top;\n",
              "    }\n",
              "\n",
              "    .dataframe thead th {\n",
              "        text-align: right;\n",
              "    }\n",
              "</style>\n",
              "<table border=\"1\" class=\"dataframe\">\n",
              "  <thead>\n",
              "    <tr style=\"text-align: right;\">\n",
              "      <th></th>\n",
              "      <th>lab_sameday</th>\n",
              "      <th>Polarity</th>\n",
              "      <th>Open</th>\n",
              "      <th>High</th>\n",
              "      <th>Volume</th>\n",
              "      <th>Low</th>\n",
              "    </tr>\n",
              "  </thead>\n",
              "  <tbody>\n",
              "    <tr>\n",
              "      <th>8656</th>\n",
              "      <td>1.0</td>\n",
              "      <td>0.440833</td>\n",
              "      <td>3643.560</td>\n",
              "      <td>3759.98550</td>\n",
              "      <td>5180623.0</td>\n",
              "      <td>3621.120</td>\n",
              "    </tr>\n",
              "    <tr>\n",
              "      <th>7342</th>\n",
              "      <td>1.0</td>\n",
              "      <td>0.142857</td>\n",
              "      <td>3211.900</td>\n",
              "      <td>3280.90000</td>\n",
              "      <td>3268131.0</td>\n",
              "      <td>3210.005</td>\n",
              "    </tr>\n",
              "    <tr>\n",
              "      <th>8899</th>\n",
              "      <td>1.0</td>\n",
              "      <td>0.000000</td>\n",
              "      <td>3530.110</td>\n",
              "      <td>3685.48000</td>\n",
              "      <td>6744768.0</td>\n",
              "      <td>3529.000</td>\n",
              "    </tr>\n",
              "    <tr>\n",
              "      <th>6286</th>\n",
              "      <td>1.0</td>\n",
              "      <td>0.327273</td>\n",
              "      <td>123.765</td>\n",
              "      <td>125.17005</td>\n",
              "      <td>81870155.0</td>\n",
              "      <td>122.780</td>\n",
              "    </tr>\n",
              "    <tr>\n",
              "      <th>1961</th>\n",
              "      <td>1.0</td>\n",
              "      <td>0.200000</td>\n",
              "      <td>146.980</td>\n",
              "      <td>147.84000</td>\n",
              "      <td>46397670.0</td>\n",
              "      <td>146.170</td>\n",
              "    </tr>\n",
              "    <tr>\n",
              "      <th>...</th>\n",
              "      <td>...</td>\n",
              "      <td>...</td>\n",
              "      <td>...</td>\n",
              "      <td>...</td>\n",
              "      <td>...</td>\n",
              "      <td>...</td>\n",
              "    </tr>\n",
              "    <tr>\n",
              "      <th>15919</th>\n",
              "      <td>0.0</td>\n",
              "      <td>0.000000</td>\n",
              "      <td>143.000</td>\n",
              "      <td>143.16000</td>\n",
              "      <td>3074078.0</td>\n",
              "      <td>141.090</td>\n",
              "    </tr>\n",
              "    <tr>\n",
              "      <th>15920</th>\n",
              "      <td>0.0</td>\n",
              "      <td>0.500000</td>\n",
              "      <td>143.000</td>\n",
              "      <td>143.16000</td>\n",
              "      <td>3074078.0</td>\n",
              "      <td>141.090</td>\n",
              "    </tr>\n",
              "    <tr>\n",
              "      <th>15921</th>\n",
              "      <td>0.0</td>\n",
              "      <td>0.000000</td>\n",
              "      <td>143.000</td>\n",
              "      <td>143.16000</td>\n",
              "      <td>3074078.0</td>\n",
              "      <td>141.090</td>\n",
              "    </tr>\n",
              "    <tr>\n",
              "      <th>15922</th>\n",
              "      <td>0.0</td>\n",
              "      <td>0.200000</td>\n",
              "      <td>143.000</td>\n",
              "      <td>143.16000</td>\n",
              "      <td>3074078.0</td>\n",
              "      <td>141.090</td>\n",
              "    </tr>\n",
              "    <tr>\n",
              "      <th>15923</th>\n",
              "      <td>0.0</td>\n",
              "      <td>0.200000</td>\n",
              "      <td>143.000</td>\n",
              "      <td>143.16000</td>\n",
              "      <td>3074078.0</td>\n",
              "      <td>141.090</td>\n",
              "    </tr>\n",
              "  </tbody>\n",
              "</table>\n",
              "<p>16468 rows × 6 columns</p>\n",
              "</div>"
            ],
            "text/plain": [
              "       lab_sameday  Polarity      Open        High      Volume       Low\n",
              "8656           1.0  0.440833  3643.560  3759.98550   5180623.0  3621.120\n",
              "7342           1.0  0.142857  3211.900  3280.90000   3268131.0  3210.005\n",
              "8899           1.0  0.000000  3530.110  3685.48000   6744768.0  3529.000\n",
              "6286           1.0  0.327273   123.765   125.17005  81870155.0   122.780\n",
              "1961           1.0  0.200000   146.980   147.84000  46397670.0   146.170\n",
              "...            ...       ...       ...         ...         ...       ...\n",
              "15919          0.0  0.000000   143.000   143.16000   3074078.0   141.090\n",
              "15920          0.0  0.500000   143.000   143.16000   3074078.0   141.090\n",
              "15921          0.0  0.000000   143.000   143.16000   3074078.0   141.090\n",
              "15922          0.0  0.200000   143.000   143.16000   3074078.0   141.090\n",
              "15923          0.0  0.200000   143.000   143.16000   3074078.0   141.090\n",
              "\n",
              "[16468 rows x 6 columns]"
            ]
          },
          "metadata": {},
          "execution_count": 13
        },
        {
          "output_type": "display_data",
          "data": {
            "image/png": "[encoded data removed]",
            "text/plain": [
              "<Figure size 432x288 with 1 Axes>"
            ]
          },
          "metadata": {
            "needs_background": "light"
          }
        }
      ]
    },
    {
      "cell_type": "code",
      "metadata": {
        "id": "z4FpKDwNdluU",
        "colab": {
          "base_uri": "https://localhost:8080/"
        },
        "outputId": "78997c63-7f69-4663-d180-ac092d6b2a54"
      },
      "source": [
        "X=data_2[['Polarity','High','Low','Open']]\n",
        "y=data_2['lab_sameday'].values\n",
        "from sklearn.model_selection import train_test_split\n",
        "X_train,X_test,y_train,y_test= train_test_split(X,y,test_size=0.2,random_state=0)\n",
        "# shape of the dataset\n",
        "print('Shape of training data :',X_train.shape)\n",
        "print('Shape of testing data :',X_test.shape)"
      ],
      "execution_count": 14,
      "outputs": [
        {
          "output_type": "stream",
          "name": "stdout",
          "text": [
            "Shape of training data : (13174, 4)\n",
            "Shape of testing data : (3294, 4)\n"
          ]
        }
      ]
    },
    {
      "cell_type": "code",
      "metadata": {
        "id": "cgnRqnnKL3U_",
        "colab": {
          "base_uri": "https://localhost:8080/",
          "height": 353
        },
        "outputId": "d7d3281f-c269-4496-e2c7-f782d6bfcab5"
      },
      "source": [
        "# draw boxplots to visualize outliers\n",
        "plt.figure(figsize=(12,5))\n",
        "plt.subplot(1, 2, 1)\n",
        "fig = data_2.boxplot(column='Open')\n",
        "fig.set_title('outliers')\n",
        "fig.set_ylabel('values')\n",
        "\n",
        "\n",
        "plt.subplot(1, 2, 2)\n",
        "fig = data_2.boxplot(column='Polarity')\n",
        "fig.set_title('outliers')\n",
        "fig.set_ylabel('Polarity')\n",
        "#The below boxplots confirm that there are lot of outliers in these variables.\n",
        "#since the dataset contains outliers, so the value of C should be high while training the model."
      ],
      "execution_count": 15,
      "outputs": [
        {
          "output_type": "execute_result",
          "data": {
            "text/plain": [
              "Text(0, 0.5, 'Polarity')"
            ]
          },
          "metadata": {},
          "execution_count": 15
        },
        {
          "output_type": "display_data",
          "data": {
            "image/png": "[encoded data removed]",
            "text/plain": [
              "<Figure size 864x360 with 2 Axes>"
            ]
          },
          "metadata": {
            "needs_background": "light"
          }
        }
      ]
    },
    {
      "cell_type": "code",
      "metadata": {
        "id": "0s15ne_mMj4n",
        "colab": {
          "base_uri": "https://localhost:8080/",
          "height": 351
        },
        "outputId": "ad11b554-e501-4c00-936e-ce018a484a90"
      },
      "source": [
        "# plot histogram to check distribution,to find out if they are normal or skewed.\n",
        "\n",
        "plt.figure(figsize=(12,5))\n",
        "plt.subplot(1, 2, 1)\n",
        "fig = data_2['Open'].hist(bins=20)\n",
        "fig.set_xlabel('Open')\n",
        "fig.set_ylabel('Number of words')\n",
        "\n",
        "\n",
        "plt.subplot(1, 2, 2)\n",
        "fig = data_2['Polarity'].hist(bins=20)\n",
        "fig.set_xlabel('Polarity')\n",
        "fig.set_ylabel('Number of words')\n",
        "#All distributions are skewed"
      ],
      "execution_count": 16,
      "outputs": [
        {
          "output_type": "execute_result",
          "data": {
            "text/plain": [
              "Text(0, 0.5, 'Number of words')"
            ]
          },
          "metadata": {},
          "execution_count": 16
        },
        {
          "output_type": "display_data",
          "data": {
            "image/png": "[encoded data removed]",
            "text/plain": [
              "<Figure size 864x360 with 2 Axes>"
            ]
          },
          "metadata": {
            "needs_background": "light"
          }
        }
      ]
    },
    {
      "cell_type": "code",
      "metadata": {
        "id": "oLrgEV1SUqq0"
      },
      "source": [
        "# Standard Scalar\n",
        "#from sklearn.preprocessing import StandardScaler\n",
        "#sc = StandardScaler()\n",
        "#X_train = sc.fit_transform(X_train)\n",
        "#X_test = sc.transform(X_test)\n",
        "#Normalisation\n",
        "from sklearn import preprocessing\n",
        "# normalize the data attributes\n",
        "X_train= preprocessing.normalize(X_train)\n",
        "X_test= preprocessing.normalize(X_test)\n",
        "import sklearn\n",
        "from sklearn import svm\n",
        "from collections import Counter"
      ],
      "execution_count": 17,
      "outputs": []
    },
    {
      "cell_type": "code",
      "metadata": {
        "id": "uEQba0gY_vkk",
        "colab": {
          "base_uri": "https://localhost:8080/"
        },
        "outputId": "ff2b82ff-8775-48f9-ab49-dd1bf0830b24"
      },
      "source": [
        "#SVM RBF kernel\n",
        "clf = svm.SVC(C=1000,kernel='rbf',random_state=0)\n",
        "clf.fit(X_train, y_train)\n",
        "confidence = clf.score(X_test, y_test)\n",
        "print('accuracy:',confidence)\n",
        "y_pred_test = clf.predict(X_test)\n",
        "print('predicted class counts:',Counter(y_pred_test))\n",
        "from sklearn.metrics import classification_report, confusion_matrix\n",
        "print(confusion_matrix(y_test, y_pred_test))\n",
        "print(classification_report(y_test, y_pred_test))"
      ],
      "execution_count": 18,
      "outputs": [
        {
          "output_type": "stream",
          "name": "stdout",
          "text": [
            "accuracy: 0.8582270795385549\n",
            "predicted class counts: Counter({0.0: 1730, 1.0: 1564})\n",
            "[[1475  212]\n",
            " [ 255 1352]]\n",
            "              precision    recall  f1-score   support\n",
            "\n",
            "         0.0       0.85      0.87      0.86      1687\n",
            "         1.0       0.86      0.84      0.85      1607\n",
            "\n",
            "    accuracy                           0.86      3294\n",
            "   macro avg       0.86      0.86      0.86      3294\n",
            "weighted avg       0.86      0.86      0.86      3294\n",
            "\n"
          ]
        }
      ]
    },
    {
      "cell_type": "markdown",
      "metadata": {
        "id": "_YhII_P3nE-W"
      },
      "source": [
        "Saving the model"
      ]
    },
    {
      "cell_type": "code",
      "metadata": {
        "id": "4e9bz3GDnDJy"
      },
      "source": [
        "import pickle\n",
        "pickle.dump(clf,open('Pickle_svm_sameday_stock3.pkl','wb'))"
      ],
      "execution_count": 22,
      "outputs": []
    },
    {
      "cell_type": "code",
      "metadata": {
        "colab": {
          "base_uri": "https://localhost:8080/"
        },
        "id": "cIYWbsFqkK6M",
        "outputId": "242e8c28-db16-4d51-d69d-0a635bd84ed4"
      },
      "source": [
        "from sklearn.metrics import accuracy_score\n",
        "# instantiate classifier with default hyperparam\n",
        "#Compare the train-set and test-set accuracy\n",
        "#compare the train-set and test-set accuracy to check for overfitting\n",
        "y_pred_train = clf.predict(X_train)\n",
        "#y_pred_train\n",
        "print('Training-set accuracy score: {0:0.4f}'. format(accuracy_score(y_train, y_pred_train)))\n",
        "# print the scores on training and test set\n",
        "print('Training set score: {:.4f}'.format(clf.score(X_train, y_train)))\n",
        "print('Test set score: {:.4f}'.format(clf.score(X_test, y_test)))\n",
        "#Compare model accuracy with null accuracy.Null accuracy is the accuracy that could be achieved by always predicting the most frequent class.\n"
      ],
      "execution_count": 23,
      "outputs": [
        {
          "output_type": "stream",
          "name": "stdout",
          "text": [
            "Training-set accuracy score: 0.8617\n",
            "Training set score: 0.8617\n",
            "Test set score: 0.8582\n"
          ]
        }
      ]
    },
    {
      "cell_type": "code",
      "metadata": {
        "colab": {
          "base_uri": "https://localhost:8080/"
        },
        "id": "kAvPAE91lfHL",
        "outputId": "d5d9f72d-69d0-43a6-e203-f36f320933f1"
      },
      "source": [
        "# The problem is that accuracy is an inadequate measure for quantifying predictive performance in the imbalanced dataset problem.\n",
        "#One such metric to analyze the model performance in imbalanced classes problem is Confusion matrix.\n",
        "# Print the Confusion Matrix and slice it into four pieces\n",
        "from sklearn.metrics import confusion_matrix\n",
        "cm = confusion_matrix(y_test, y_pred_test)\n",
        "print('Confusion matrix\\n\\n', cm)\n",
        "print('\\nTrue Positives(TP) = ', cm[0,0])\n",
        "print('\\nTrue Negatives(TN) = ', cm[1,1])\n",
        "print('\\nFalse Positives(FP) = ', cm[0,1])\n",
        "print('\\nFalse Negatives(FN) = ', cm[1,0])"
      ],
      "execution_count": 24,
      "outputs": [
        {
          "output_type": "stream",
          "name": "stdout",
          "text": [
            "Confusion matrix\n",
            "\n",
            " [[1475  212]\n",
            " [ 255 1352]]\n",
            "\n",
            "True Positives(TP) =  1475\n",
            "\n",
            "True Negatives(TN) =  1352\n",
            "\n",
            "False Positives(FP) =  212\n",
            "\n",
            "False Negatives(FN) =  255\n"
          ]
        }
      ]
    },
    {
      "cell_type": "code",
      "metadata": {
        "colab": {
          "base_uri": "https://localhost:8080/",
          "height": 282
        },
        "id": "OzPMqzvYlirr",
        "outputId": "8ffac901-0776-413b-9c9e-c0ada024f1fb"
      },
      "source": [
        "# visualize confusion matrix with seaborn heatmap\n",
        "cm_matrix = pd.DataFrame(data=cm, columns=['Actual Positive:1', 'Actual Negative:0'], \n",
        "                                 index=['Predict Positive:1', 'Predict Negative:0'])\n",
        "\n",
        "sns.heatmap(cm_matrix, annot=True, fmt='d', cmap='YlGnBu')"
      ],
      "execution_count": 25,
      "outputs": [
        {
          "output_type": "execute_result",
          "data": {
            "text/plain": [
              "<matplotlib.axes._subplots.AxesSubplot at 0x7f7d9c6abb10>"
            ]
          },
          "metadata": {},
          "execution_count": 25
        },
        {
          "output_type": "display_data",
          "data": {
            "image/png": "[encoded data removed]",
            "text/plain": [
              "<Figure size 432x288 with 2 Axes>"
            ]
          },
          "metadata": {
            "needs_background": "light"
          }
        }
      ]
    },
    {
      "cell_type": "code",
      "metadata": {
        "colab": {
          "base_uri": "https://localhost:8080/"
        },
        "id": "Zvl044VNlmvn",
        "outputId": "dee25e20-d195-4977-82d5-57b163ef7d3e"
      },
      "source": [
        "#Classification report is another way to evaluate the classification model performance. It displays the precision, recall, f1 and support scores for the model. \n",
        "from sklearn.metrics import classification_report\n",
        "print(classification_report(y_test, y_pred_test))"
      ],
      "execution_count": 26,
      "outputs": [
        {
          "output_type": "stream",
          "name": "stdout",
          "text": [
            "              precision    recall  f1-score   support\n",
            "\n",
            "         0.0       0.85      0.87      0.86      1687\n",
            "         1.0       0.86      0.84      0.85      1607\n",
            "\n",
            "    accuracy                           0.86      3294\n",
            "   macro avg       0.86      0.86      0.86      3294\n",
            "weighted avg       0.86      0.86      0.86      3294\n",
            "\n"
          ]
        }
      ]
    },
    {
      "cell_type": "code",
      "metadata": {
        "colab": {
          "base_uri": "https://localhost:8080/"
        },
        "id": "7PtE4sIKlp_J",
        "outputId": "10924ac5-de0d-425c-a65b-fd2d324da2e5"
      },
      "source": [
        "TP = cm[0,0]\n",
        "TN = cm[1,1]\n",
        "FP = cm[0,1]\n",
        "FN = cm[1,0]\n",
        "# print classification accuracy\n",
        "classification_accuracy = (TP + TN) / float(TP + TN + FP + FN)\n",
        "print('Classification accuracy : {0:0.4f}'.format(classification_accuracy))"
      ],
      "execution_count": 27,
      "outputs": [
        {
          "output_type": "stream",
          "name": "stdout",
          "text": [
            "Classification accuracy : 0.8582\n"
          ]
        }
      ]
    },
    {
      "cell_type": "code",
      "metadata": {
        "colab": {
          "base_uri": "https://localhost:8080/"
        },
        "id": "6vFiDqOolti5",
        "outputId": "6a346e93-938a-4837-ead3-020760d5ffdb"
      },
      "source": [
        "# print classification error\n",
        "classification_error = (FP + FN) / float(TP + TN + FP + FN)\n",
        "print('Classification error : {0:0.4f}'.format(classification_error))\n",
        "#Precision can be defined as the percentage of correctly predicted positive outcomes out of all the predicted positive outcomes.\n",
        "# print precision score\n",
        "precision = TP / float(TP + FP)\n",
        "print('Precision : {0:0.4f}'.format(precision))\n",
        "#Recall can be defined as the percentage of correctly predicted positive outcomes out of all the actual positive outcomes.\n",
        "recall = TP / float(TP + FN)\n",
        "print('Recall or Sensitivity : {0:0.4f}'.format(recall))\n",
        "#True Positive Rate is synonymous with Recall.\n",
        "true_positive_rate = TP / float(TP + FN)\n",
        "print('True Positive Rate : {0:0.4f}'.format(true_positive_rate))\n",
        "#False Positive Rate\n",
        "false_positive_rate = FP / float(FP + TN)\n",
        "print('False Positive Rate : {0:0.4f}'.format(false_positive_rate))\n",
        "#specificity\n",
        "specificity = TN / (TN + FP)\n",
        "print('Specificity : {0:0.4f}'.format(specificity))\n",
        "#f1-score is the weighted harmonic mean of precision and recall. The best possible f1-score would be 1.0 and the worst would be 0.0.\n",
        "#Support is the actual number of occurrences of the class in our dataset.\n"
      ],
      "execution_count": 28,
      "outputs": [
        {
          "output_type": "stream",
          "name": "stdout",
          "text": [
            "Classification error : 0.1418\n",
            "Precision : 0.8743\n",
            "Recall or Sensitivity : 0.8526\n",
            "True Positive Rate : 0.8526\n",
            "False Positive Rate : 0.1355\n",
            "Specificity : 0.8645\n"
          ]
        }
      ]
    },
    {
      "cell_type": "code",
      "metadata": {
        "colab": {
          "base_uri": "https://localhost:8080/",
          "height": 330
        },
        "id": "0moo1iZxlwCs",
        "outputId": "746fe456-8e70-4fc9-8ee1-90dcbd0b3ef1"
      },
      "source": [
        "#ROC - AUC \n",
        "#ROC Curve stands for Receiver Operating Characteristic Curve. An ROC Curve is a plot which shows the performance of a classification model at various classification threshold levels.\n",
        "#The ROC Curve plots the True Positive Rate (TPR) against the False Positive Rate (FPR) at various threshold levels.\n",
        "# plot ROC Curve\n",
        "from sklearn.metrics import roc_curve\n",
        "fpr, tpr, thresholds = roc_curve(y_test, y_pred_test)\n",
        "plt.figure(figsize=(6,4))\n",
        "plt.plot(fpr, tpr, linewidth=2)\n",
        "plt.plot([0,1], [0,1], 'k--' )\n",
        "plt.rcParams['font.size'] = 12\n",
        "plt.title('ROC curve')\n",
        "plt.xlabel('False Positive Rate (1 - Specificity)')\n",
        "plt.ylabel('True Positive Rate (Sensitivity)')\n",
        "plt.show()\n",
        "#ROC curve help us to choose a threshold level that balances sensitivity and specificity for a particular context.\n",
        "#ROC AUC-ROC AUC stands for Receiver Operating Characteristic - Area Under Curve\n",
        "#A perfect classifier will have a ROC AUC equal to 1, whereas a purely random classifier will have a ROC AUC equal to 0.5.\n",
        "# compute ROC AUC\n",
        "from sklearn.metrics import roc_auc_score\n",
        "ROC_AUC = roc_auc_score(y_test, y_pred_test)\n",
        "print('ROC AUC : {:.4f}'.format(ROC_AUC))\n",
        "#ROC AUC is a single number summary of classifier performance. The higher the value, the better the classifier.\n",
        "# calculate cross-validated ROC AUC \n",
        "from sklearn.model_selection import cross_val_score\n",
        "Cross_validated_ROC_AUC = cross_val_score(clf, X_train, y_train, cv=10, scoring='roc_auc').mean()\n",
        "print('Cross validated ROC AUC : {:.4f}'.format(Cross_validated_ROC_AUC))"
      ],
      "execution_count": 29,
      "outputs": [
        {
          "output_type": "display_data",
          "data": {
            "image/png": "[encoded data removed]",
            "text/plain": [
              "<Figure size 432x288 with 1 Axes>"
            ]
          },
          "metadata": {
            "needs_background": "light"
          }
        },
        {
          "output_type": "stream",
          "name": "stdout",
          "text": [
            "ROC AUC : 0.8578\n",
            "Cross validated ROC AUC : 0.9369\n"
          ]
        }
      ]
    }
  ]
}