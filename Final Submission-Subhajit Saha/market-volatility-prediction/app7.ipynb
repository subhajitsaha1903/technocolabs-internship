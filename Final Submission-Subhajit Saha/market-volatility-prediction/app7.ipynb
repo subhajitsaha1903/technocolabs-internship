{
 "cells": [
  {
   "cell_type": "code",
   "execution_count": null,
   "metadata": {
    "colab": {
     "base_uri": "https://localhost:8080/"
    },
    "id": "hPptbuGtJtaX",
    "outputId": "908c4abe-1e2a-4b39-a6b6-79709d267551"
   },
   "outputs": [
    {
     "name": "stdout",
     "output_type": "stream",
     "text": [
      " * Serving Flask app \"__main__\" (lazy loading)\n",
      " * Environment: production\n",
      "   WARNING: This is a development server. Do not use it in a production deployment.\n",
      "   Use a production WSGI server instead.\n",
      " * Debug mode: off\n"
     ]
    },
    {
     "name": "stderr",
     "output_type": "stream",
     "text": [
      " * Running on http://127.0.0.1:9000/ (Press CTRL+C to quit)\n",
      "127.0.0.1 - - [22/Oct/2021 08:38:02] \"GET / HTTP/1.1\" 200 -\n",
      "127.0.0.1 - - [22/Oct/2021 08:38:02] \"GET /static/css/style.css HTTP/1.1\" 404 -\n",
      "127.0.0.1 - - [22/Oct/2021 08:38:12] \"POST /predict HTTP/1.1\" 200 -\n",
      "127.0.0.1 - - [22/Oct/2021 08:38:12] \"GET /static/css/style.css HTTP/1.1\" 404 -\n"
     ]
    },
    {
     "name": "stdout",
     "output_type": "stream",
     "text": [
      "1\n"
     ]
    },
    {
     "name": "stderr",
     "output_type": "stream",
     "text": [
      "127.0.0.1 - - [22/Oct/2021 08:38:19] \"POST /predict HTTP/1.1\" 200 -\n",
      "127.0.0.1 - - [22/Oct/2021 08:38:19] \"GET /static/css/style.css HTTP/1.1\" 404 -\n"
     ]
    },
    {
     "name": "stdout",
     "output_type": "stream",
     "text": [
      "1\n"
     ]
    },
    {
     "name": "stderr",
     "output_type": "stream",
     "text": [
      "127.0.0.1 - - [22/Oct/2021 08:38:24] \"POST /predict HTTP/1.1\" 200 -\n",
      "127.0.0.1 - - [22/Oct/2021 08:38:24] \"GET /static/css/style.css HTTP/1.1\" 404 -\n"
     ]
    },
    {
     "name": "stdout",
     "output_type": "stream",
     "text": [
      "1\n"
     ]
    },
    {
     "name": "stderr",
     "output_type": "stream",
     "text": [
      "127.0.0.1 - - [22/Oct/2021 08:38:31] \"POST /predict HTTP/1.1\" 200 -\n",
      "127.0.0.1 - - [22/Oct/2021 08:38:31] \"GET /static/css/style.css HTTP/1.1\" 404 -\n"
     ]
    },
    {
     "name": "stdout",
     "output_type": "stream",
     "text": [
      "1\n"
     ]
    },
    {
     "name": "stderr",
     "output_type": "stream",
     "text": [
      "127.0.0.1 - - [22/Oct/2021 08:39:16] \"POST /predict HTTP/1.1\" 200 -\n",
      "127.0.0.1 - - [22/Oct/2021 08:39:16] \"GET /static/css/style.css HTTP/1.1\" 404 -\n"
     ]
    },
    {
     "name": "stdout",
     "output_type": "stream",
     "text": [
      "1\n"
     ]
    }
   ],
   "source": [
    "import numpy as np\n",
    "from flask import Flask, request, jsonify, render_template\n",
    "from sklearn.naive_bayes import GaussianNB\n",
    "import pickle\n",
    "import re\n",
    "import pandas as pd\n",
    "from textblob import TextBlob\n",
    "model = pickle.load(open('Pickle_SVM_sameday_new1.pkl', 'rb'))\n",
    "#!pip install joblib\n",
    "#from sklearn.externals import joblib\n",
    "from sklearn.preprocessing import StandardScaler\n",
    "from sklearn.model_selection import train_test_split\n",
    "from sklearn import preprocessing\n",
    "app = Flask(__name__)\n",
    "@app.route('/')\n",
    "def home():\n",
    "    return render_template('HOme.html')\n",
    "@app.route('/predict',methods=['POST'])\n",
    "def predict():\n",
    "    if request.method == 'POST':\n",
    "    #Accepting the user input\n",
    "    #Tweets=user input\n",
    "       Tweets=request.form['Tweet/Headline']\n",
    "       df_copy=str(Tweets)\n",
    "       #Cleaning and preprocessing\n",
    "       df_copy=df_copy.lower()\n",
    "       df_copy=re.sub(r'@[A-Z0-9a-z_:]+','',df_copy)#replace username-tags\n",
    "       df_copy=re.sub(r'^[RT]+','',df_copy)#replace RT-tags\n",
    "       df_copy = re.sub('https?://[A-Za-z0-9./]+','',df_copy)#replace URLs\n",
    "       df_copy=re.sub(\"[^a-zA-Z]\", \" \",df_copy)#replace hashtags\n",
    "       # Create textblob objects of the tweet\n",
    "       sentiment_objects = TextBlob(df_copy)\n",
    "       tweet_polarity=sentiment_objects.sentiment.polarity\n",
    "       result=[tweet_polarity]\n",
    "       if tweet_polarity<0:\n",
    "          NUM_NEG=1\n",
    "       else:\n",
    "          NUM_NEG=0\n",
    "       result.append(NUM_NEG)\n",
    "       dict = {'polarity':[result[0]],'NUM_NEG': [result[1]]} \n",
    "       #dict = {'polarity':[result[0]]}\n",
    "       df_test= pd.DataFrame(dict)\n",
    "       #scaling and normalization of the test set\n",
    "       sc = StandardScaler()\n",
    "       data = pd.read_csv('labelled_dataset.csv')\n",
    "       data_1=data[['lab_sameday','Polarity','NUM_NEG']]\n",
    "       X=data_1[['Polarity','NUM_NEG']]\n",
    "       y=data_1['lab_sameday'].values\n",
    "       X_train,X_test,y_train,y_test= train_test_split(X,y,test_size=0.2,random_state=0)\n",
    "       X_train = sc.fit_transform(X_train)\n",
    "       df_test = sc.transform(df_test)\n",
    "       # normalize the data attributes\n",
    "       X_train= preprocessing.normalize(X_train)\n",
    "       df_test= preprocessing.normalize(df_test)\n",
    "       prediction = model.predict(df_test)\n",
    "       #prediction = model.predict(X_test[0])\n",
    "       print(prediction[0])\n",
    "       if prediction[0]==1:\n",
    "          return render_template('HOme.html', prediction_text='This Headline/Tweet may increase market volatility' )\n",
    "       else:\n",
    "          return render_template('HOme.html', prediction_text='This Headline/Tweet may decrease market volatility' )\n",
    "if __name__ == \"__main__\":\n",
    "   app.run(port=9000,debug=False)\n"
   ]
  }
 ],
 "metadata": {
  "colab": {
   "collapsed_sections": [],
   "name": "app6.ipynb",
   "provenance": []
  },
  "kernelspec": {
   "display_name": "Python 3",
   "language": "python",
   "name": "python3"
  },
  "language_info": {
   "codemirror_mode": {
    "name": "ipython",
    "version": 3
   },
   "file_extension": ".py",
   "mimetype": "text/x-python",
   "name": "python",
   "nbconvert_exporter": "python",
   "pygments_lexer": "ipython3",
   "version": "3.7.4"
  }
 },
 "nbformat": 4,
 "nbformat_minor": 1
}
