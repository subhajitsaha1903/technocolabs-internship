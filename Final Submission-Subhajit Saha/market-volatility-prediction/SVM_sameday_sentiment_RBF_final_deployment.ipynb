{
 "cells": [
  {
   "cell_type": "code",
   "execution_count": 1,
   "metadata": {},
   "outputs": [],
   "source": [
    "import warnings\n",
    "warnings.filterwarnings(\"ignore\")"
   ]
  },
  {
   "cell_type": "code",
   "execution_count": 2,
   "metadata": {},
   "outputs": [
    {
     "data": {
      "text/plain": [
       "'1.0'"
      ]
     },
     "execution_count": 2,
     "metadata": {},
     "output_type": "execute_result"
    }
   ],
   "source": [
    "import sklearn\n",
    "sklearn.__version__"
   ]
  },
  {
   "cell_type": "code",
   "execution_count": 3,
   "metadata": {
    "id": "UCp9uy2Q2Ofu"
   },
   "outputs": [],
   "source": [
    "import numpy as np\n",
    "import pandas as pd\n",
    "import matplotlib.pyplot as plt\n",
    "%matplotlib inline"
   ]
  },
  {
   "cell_type": "code",
   "execution_count": 4,
   "metadata": {
    "colab": {
     "base_uri": "https://localhost:8080/",
     "height": 417
    },
    "id": "1nZn3NnlEWm-",
    "outputId": "0f9e06fc-0cd5-4d4e-b24c-a0d5aa1592b6"
   },
   "outputs": [
    {
     "data": {
      "text/html": [
       "<div>\n",
       "<style scoped>\n",
       "    .dataframe tbody tr th:only-of-type {\n",
       "        vertical-align: middle;\n",
       "    }\n",
       "\n",
       "    .dataframe tbody tr th {\n",
       "        vertical-align: top;\n",
       "    }\n",
       "\n",
       "    .dataframe thead th {\n",
       "        text-align: right;\n",
       "    }\n",
       "</style>\n",
       "<table border=\"1\" class=\"dataframe\">\n",
       "  <thead>\n",
       "    <tr style=\"text-align: right;\">\n",
       "      <th></th>\n",
       "      <th>NUM_NEU</th>\n",
       "      <th>NUM_POS</th>\n",
       "      <th>NUM_NEG</th>\n",
       "      <th>TOT_WORDS</th>\n",
       "      <th>lab_sameday</th>\n",
       "      <th>Polarity</th>\n",
       "    </tr>\n",
       "  </thead>\n",
       "  <tbody>\n",
       "    <tr>\n",
       "      <th>0</th>\n",
       "      <td>11</td>\n",
       "      <td>9</td>\n",
       "      <td>2</td>\n",
       "      <td>22</td>\n",
       "      <td>1</td>\n",
       "      <td>2.628571</td>\n",
       "    </tr>\n",
       "    <tr>\n",
       "      <th>1</th>\n",
       "      <td>6</td>\n",
       "      <td>3</td>\n",
       "      <td>0</td>\n",
       "      <td>9</td>\n",
       "      <td>1</td>\n",
       "      <td>1.116667</td>\n",
       "    </tr>\n",
       "    <tr>\n",
       "      <th>2</th>\n",
       "      <td>6</td>\n",
       "      <td>3</td>\n",
       "      <td>1</td>\n",
       "      <td>10</td>\n",
       "      <td>1</td>\n",
       "      <td>0.350455</td>\n",
       "    </tr>\n",
       "    <tr>\n",
       "      <th>3</th>\n",
       "      <td>8</td>\n",
       "      <td>16</td>\n",
       "      <td>7</td>\n",
       "      <td>31</td>\n",
       "      <td>0</td>\n",
       "      <td>2.955600</td>\n",
       "    </tr>\n",
       "    <tr>\n",
       "      <th>4</th>\n",
       "      <td>12</td>\n",
       "      <td>12</td>\n",
       "      <td>5</td>\n",
       "      <td>29</td>\n",
       "      <td>0</td>\n",
       "      <td>3.697348</td>\n",
       "    </tr>\n",
       "    <tr>\n",
       "      <th>...</th>\n",
       "      <td>...</td>\n",
       "      <td>...</td>\n",
       "      <td>...</td>\n",
       "      <td>...</td>\n",
       "      <td>...</td>\n",
       "      <td>...</td>\n",
       "    </tr>\n",
       "    <tr>\n",
       "      <th>910</th>\n",
       "      <td>47</td>\n",
       "      <td>49</td>\n",
       "      <td>18</td>\n",
       "      <td>114</td>\n",
       "      <td>0</td>\n",
       "      <td>8.342658</td>\n",
       "    </tr>\n",
       "    <tr>\n",
       "      <th>911</th>\n",
       "      <td>16</td>\n",
       "      <td>29</td>\n",
       "      <td>10</td>\n",
       "      <td>55</td>\n",
       "      <td>1</td>\n",
       "      <td>6.519150</td>\n",
       "    </tr>\n",
       "    <tr>\n",
       "      <th>912</th>\n",
       "      <td>19</td>\n",
       "      <td>32</td>\n",
       "      <td>12</td>\n",
       "      <td>63</td>\n",
       "      <td>1</td>\n",
       "      <td>4.610439</td>\n",
       "    </tr>\n",
       "    <tr>\n",
       "      <th>913</th>\n",
       "      <td>35</td>\n",
       "      <td>50</td>\n",
       "      <td>14</td>\n",
       "      <td>99</td>\n",
       "      <td>0</td>\n",
       "      <td>14.610191</td>\n",
       "    </tr>\n",
       "    <tr>\n",
       "      <th>914</th>\n",
       "      <td>47</td>\n",
       "      <td>59</td>\n",
       "      <td>19</td>\n",
       "      <td>125</td>\n",
       "      <td>1</td>\n",
       "      <td>20.213428</td>\n",
       "    </tr>\n",
       "  </tbody>\n",
       "</table>\n",
       "<p>915 rows × 6 columns</p>\n",
       "</div>"
      ],
      "text/plain": [
       "     NUM_NEU  NUM_POS  NUM_NEG  TOT_WORDS  lab_sameday   Polarity\n",
       "0         11        9        2         22            1   2.628571\n",
       "1          6        3        0          9            1   1.116667\n",
       "2          6        3        1         10            1   0.350455\n",
       "3          8       16        7         31            0   2.955600\n",
       "4         12       12        5         29            0   3.697348\n",
       "..       ...      ...      ...        ...          ...        ...\n",
       "910       47       49       18        114            0   8.342658\n",
       "911       16       29       10         55            1   6.519150\n",
       "912       19       32       12         63            1   4.610439\n",
       "913       35       50       14         99            0  14.610191\n",
       "914       47       59       19        125            1  20.213428\n",
       "\n",
       "[915 rows x 6 columns]"
      ]
     },
     "execution_count": 4,
     "metadata": {},
     "output_type": "execute_result"
    }
   ],
   "source": [
    "data = pd.read_csv('labelled_dataset.csv')\n",
    "#data_1=data.drop('lab_prevday')\n",
    "data_1=data[['NUM_NEU','NUM_POS','NUM_NEG','TOT_WORDS','lab_sameday','Polarity']]\n",
    "data_1"
   ]
  },
  {
   "cell_type": "code",
   "execution_count": 5,
   "metadata": {
    "colab": {
     "base_uri": "https://localhost:8080/",
     "height": 342
    },
    "id": "gfICZUwHOihZ",
    "outputId": "1b454bbe-67d6-4ca7-806d-addc3c1f45d6"
   },
   "outputs": [
    {
     "data": {
      "text/plain": [
       "<AxesSubplot:>"
      ]
     },
     "execution_count": 5,
     "metadata": {},
     "output_type": "execute_result"
    },
    {
     "data": {
      "image/png": "[encoded data removed]",
      "text/plain": [
       "<Figure size 432x288 with 2 Axes>"
      ]
     },
     "metadata": {
      "needs_background": "light"
     },
     "output_type": "display_data"
    }
   ],
   "source": [
    "import seaborn as sns\n",
    "\n",
    "# calculate the correlations\n",
    "correlations = data_1.corr()\n",
    "\n",
    "# plot the heatmap \n",
    "sns.heatmap(correlations, xticklabels=correlations.columns, yticklabels=correlations.columns, annot=True)\n"
   ]
  },
  {
   "cell_type": "code",
   "execution_count": null,
   "metadata": {
    "id": "h29e8ixjJbSo"
   },
   "outputs": [],
   "source": []
  },
  {
   "cell_type": "code",
   "execution_count": 6,
   "metadata": {
    "colab": {
     "base_uri": "https://localhost:8080/",
     "height": 738
    },
    "id": "YRcsAg_Aa4YR",
    "outputId": "e2a0b15d-9c9c-44e2-c8fb-6662f74c32af"
   },
   "outputs": [
    {
     "data": {
      "text/plain": [
       "<seaborn.matrix.ClusterGrid at 0x16542fb7848>"
      ]
     },
     "execution_count": 6,
     "metadata": {},
     "output_type": "execute_result"
    },
    {
     "data": {
      "image/png": "[encoded data removed]",
      "text/plain": [
       "<Figure size 720x720 with 4 Axes>"
      ]
     },
     "metadata": {
      "needs_background": "light"
     },
     "output_type": "display_data"
    }
   ],
   "source": [
    "\n",
    "# plot the clustermap \n",
    "sns.clustermap(correlations, xticklabels=correlations.columns, yticklabels=correlations.columns, annot=True)\n",
    "#remove NUM_NEU and TOT_WORDS which are highly correlated"
   ]
  },
  {
   "cell_type": "code",
   "execution_count": 7,
   "metadata": {
    "colab": {
     "base_uri": "https://localhost:8080/",
     "height": 310
    },
    "id": "njv_eH_kEnW0",
    "outputId": "32b8249f-4bcd-4d35-e35e-4695eb25637a"
   },
   "outputs": [
    {
     "data": {
      "text/plain": [
       "Text(0.5, 0, 'lab_sameday')"
      ]
     },
     "execution_count": 7,
     "metadata": {},
     "output_type": "execute_result"
    },
    {
     "data": {
      "image/png": "[encoded data removed]",
      "text/plain": [
       "<Figure size 432x288 with 1 Axes>"
      ]
     },
     "metadata": {
      "needs_background": "light"
     },
     "output_type": "display_data"
    }
   ],
   "source": [
    "# Graph to show the Higly Imbalanced Data. To Predict the Column ['lab_sameday']. Right now.. majority of records/rows with 'Target=0'\n",
    "# And few records with 'Target = 1'\n",
    "pd.value_counts(data_1['lab_sameday']).plot.bar()\n",
    "plt.title('lab_sameday class histogram')\n",
    "plt.xlabel('lab_sameday')\n"
   ]
  },
  {
   "cell_type": "code",
   "execution_count": 8,
   "metadata": {
    "colab": {
     "base_uri": "https://localhost:8080/"
    },
    "id": "tSq9xgTQuJZG",
    "outputId": "fbde1efd-524b-42d1-d3e9-30fe40b305b7"
   },
   "outputs": [
    {
     "name": "stdout",
     "output_type": "stream",
     "text": [
      "Zero 428\n",
      "One 487\n"
     ]
    }
   ],
   "source": [
    "# Class count\n",
    "count_class_1, count_class_0 = data_1.lab_sameday.value_counts()\n",
    "# Divide by class\n",
    "df_class_0 = data_1[data_1['lab_sameday'] == 0]\n",
    "df_class_1 = data_1[data_1['lab_sameday'] == 1]\n",
    "print('Zero',count_class_0)\n",
    "print('One',count_class_1)"
   ]
  },
  {
   "cell_type": "code",
   "execution_count": 9,
   "metadata": {
    "colab": {
     "base_uri": "https://localhost:8080/",
     "height": 745
    },
    "id": "JeIjriMWVvSa",
    "outputId": "5b51e2e3-ea20-4272-e8a0-cf4ab5d1ae57"
   },
   "outputs": [
    {
     "name": "stdout",
     "output_type": "stream",
     "text": [
      "After Random under-sampling:\n",
      "1    428\n",
      "0    428\n",
      "Name: lab_sameday, dtype: int64\n"
     ]
    },
    {
     "data": {
      "text/html": [
       "<div>\n",
       "<style scoped>\n",
       "    .dataframe tbody tr th:only-of-type {\n",
       "        vertical-align: middle;\n",
       "    }\n",
       "\n",
       "    .dataframe tbody tr th {\n",
       "        vertical-align: top;\n",
       "    }\n",
       "\n",
       "    .dataframe thead th {\n",
       "        text-align: right;\n",
       "    }\n",
       "</style>\n",
       "<table border=\"1\" class=\"dataframe\">\n",
       "  <thead>\n",
       "    <tr style=\"text-align: right;\">\n",
       "      <th></th>\n",
       "      <th>NUM_NEU</th>\n",
       "      <th>NUM_POS</th>\n",
       "      <th>NUM_NEG</th>\n",
       "      <th>TOT_WORDS</th>\n",
       "      <th>lab_sameday</th>\n",
       "      <th>Polarity</th>\n",
       "    </tr>\n",
       "  </thead>\n",
       "  <tbody>\n",
       "    <tr>\n",
       "      <th>627</th>\n",
       "      <td>2</td>\n",
       "      <td>8</td>\n",
       "      <td>0</td>\n",
       "      <td>10</td>\n",
       "      <td>1</td>\n",
       "      <td>2.895455</td>\n",
       "    </tr>\n",
       "    <tr>\n",
       "      <th>514</th>\n",
       "      <td>23</td>\n",
       "      <td>27</td>\n",
       "      <td>12</td>\n",
       "      <td>62</td>\n",
       "      <td>1</td>\n",
       "      <td>6.305934</td>\n",
       "    </tr>\n",
       "    <tr>\n",
       "      <th>457</th>\n",
       "      <td>67</td>\n",
       "      <td>46</td>\n",
       "      <td>7</td>\n",
       "      <td>120</td>\n",
       "      <td>1</td>\n",
       "      <td>14.012508</td>\n",
       "    </tr>\n",
       "    <tr>\n",
       "      <th>731</th>\n",
       "      <td>3</td>\n",
       "      <td>11</td>\n",
       "      <td>0</td>\n",
       "      <td>14</td>\n",
       "      <td>1</td>\n",
       "      <td>3.926894</td>\n",
       "    </tr>\n",
       "    <tr>\n",
       "      <th>634</th>\n",
       "      <td>3</td>\n",
       "      <td>2</td>\n",
       "      <td>0</td>\n",
       "      <td>5</td>\n",
       "      <td>1</td>\n",
       "      <td>0.607143</td>\n",
       "    </tr>\n",
       "    <tr>\n",
       "      <th>...</th>\n",
       "      <td>...</td>\n",
       "      <td>...</td>\n",
       "      <td>...</td>\n",
       "      <td>...</td>\n",
       "      <td>...</td>\n",
       "      <td>...</td>\n",
       "    </tr>\n",
       "    <tr>\n",
       "      <th>902</th>\n",
       "      <td>21</td>\n",
       "      <td>19</td>\n",
       "      <td>8</td>\n",
       "      <td>48</td>\n",
       "      <td>0</td>\n",
       "      <td>4.954416</td>\n",
       "    </tr>\n",
       "    <tr>\n",
       "      <th>908</th>\n",
       "      <td>26</td>\n",
       "      <td>22</td>\n",
       "      <td>12</td>\n",
       "      <td>60</td>\n",
       "      <td>0</td>\n",
       "      <td>2.528469</td>\n",
       "    </tr>\n",
       "    <tr>\n",
       "      <th>909</th>\n",
       "      <td>30</td>\n",
       "      <td>20</td>\n",
       "      <td>12</td>\n",
       "      <td>62</td>\n",
       "      <td>0</td>\n",
       "      <td>1.823686</td>\n",
       "    </tr>\n",
       "    <tr>\n",
       "      <th>910</th>\n",
       "      <td>47</td>\n",
       "      <td>49</td>\n",
       "      <td>18</td>\n",
       "      <td>114</td>\n",
       "      <td>0</td>\n",
       "      <td>8.342658</td>\n",
       "    </tr>\n",
       "    <tr>\n",
       "      <th>913</th>\n",
       "      <td>35</td>\n",
       "      <td>50</td>\n",
       "      <td>14</td>\n",
       "      <td>99</td>\n",
       "      <td>0</td>\n",
       "      <td>14.610191</td>\n",
       "    </tr>\n",
       "  </tbody>\n",
       "</table>\n",
       "<p>856 rows × 6 columns</p>\n",
       "</div>"
      ],
      "text/plain": [
       "     NUM_NEU  NUM_POS  NUM_NEG  TOT_WORDS  lab_sameday   Polarity\n",
       "627        2        8        0         10            1   2.895455\n",
       "514       23       27       12         62            1   6.305934\n",
       "457       67       46        7        120            1  14.012508\n",
       "731        3       11        0         14            1   3.926894\n",
       "634        3        2        0          5            1   0.607143\n",
       "..       ...      ...      ...        ...          ...        ...\n",
       "902       21       19        8         48            0   4.954416\n",
       "908       26       22       12         60            0   2.528469\n",
       "909       30       20       12         62            0   1.823686\n",
       "910       47       49       18        114            0   8.342658\n",
       "913       35       50       14         99            0  14.610191\n",
       "\n",
       "[856 rows x 6 columns]"
      ]
     },
     "execution_count": 9,
     "metadata": {},
     "output_type": "execute_result"
    },
    {
     "data": {
      "image/png": "[encoded data removed]",
      "text/plain": [
       "<Figure size 432x288 with 1 Axes>"
      ]
     },
     "metadata": {
      "needs_background": "light"
     },
     "output_type": "display_data"
    }
   ],
   "source": [
    "# Doing Random Undersampling to balance data\n",
    "df_class_1_under = df_class_1.sample(count_class_0)\n",
    "df_test_under = pd.concat([df_class_1_under, df_class_0], axis=0)\n",
    "print('After Random under-sampling:')\n",
    "print(df_test_under.lab_sameday.value_counts())\n",
    "df_test_under.lab_sameday.value_counts().plot(kind='bar', title='Count(lab_sameday)');\n",
    "data_2=df_test_under\n",
    "data_2"
   ]
  },
  {
   "cell_type": "code",
   "execution_count": 10,
   "metadata": {
    "colab": {
     "base_uri": "https://localhost:8080/"
    },
    "id": "z4FpKDwNdluU",
    "outputId": "6f40ff37-972b-4394-8212-9be8f30f7c72"
   },
   "outputs": [
    {
     "name": "stdout",
     "output_type": "stream",
     "text": [
      "Shape of training data : (684, 2)\n",
      "Shape of testing data : (172, 2)\n"
     ]
    }
   ],
   "source": [
    "\n",
    "X=data_2[['NUM_NEG','Polarity']]\n",
    "y=data_2['lab_sameday'].values\n",
    "from sklearn.model_selection import train_test_split\n",
    "X_train,X_test,y_train,y_test= train_test_split(X,y,test_size=0.2,random_state=0)\n",
    "# shape of the dataset\n",
    "print('Shape of training data :',X_train.shape)\n",
    "print('Shape of testing data :',X_test.shape)"
   ]
  },
  {
   "cell_type": "code",
   "execution_count": 11,
   "metadata": {
    "colab": {
     "base_uri": "https://localhost:8080/",
     "height": 354
    },
    "id": "cgnRqnnKL3U_",
    "outputId": "6a957534-4e59-4238-98e2-3cdf76e88631"
   },
   "outputs": [
    {
     "data": {
      "text/plain": [
       "Text(0, 0.5, 'Polarity')"
      ]
     },
     "execution_count": 11,
     "metadata": {},
     "output_type": "execute_result"
    },
    {
     "data": {
      "image/png": "[encoded data removed]",
      "text/plain": [
       "<Figure size 864x360 with 2 Axes>"
      ]
     },
     "metadata": {
      "needs_background": "light"
     },
     "output_type": "display_data"
    }
   ],
   "source": [
    "# draw boxplots to visualize outliers\n",
    "plt.figure(figsize=(12,5))\n",
    "plt.subplot(1, 2, 1)\n",
    "fig = data_2.boxplot(column='NUM_NEG')\n",
    "fig.set_title('outliers')\n",
    "fig.set_ylabel('NUM_NEG')\n",
    "\n",
    "\n",
    "plt.subplot(1, 2, 2)\n",
    "fig = data_2.boxplot(column='Polarity')\n",
    "fig.set_title('outliers')\n",
    "fig.set_ylabel('Polarity')\n",
    "#The below boxplots confirm that there are lot of outliers in these variables.\n",
    "#since the dataset contains outliers, so the value of C should be high while training the model."
   ]
  },
  {
   "cell_type": "code",
   "execution_count": 12,
   "metadata": {
    "colab": {
     "base_uri": "https://localhost:8080/",
     "height": 352
    },
    "id": "0s15ne_mMj4n",
    "outputId": "467dbfa5-4f08-48e4-c631-b8a415d464ca"
   },
   "outputs": [
    {
     "data": {
      "text/plain": [
       "Text(0, 0.5, 'Number of words')"
      ]
     },
     "execution_count": 12,
     "metadata": {},
     "output_type": "execute_result"
    },
    {
     "data": {
      "image/png": "[encoded data removed]",
      "text/plain": [
       "<Figure size 864x360 with 2 Axes>"
      ]
     },
     "metadata": {
      "needs_background": "light"
     },
     "output_type": "display_data"
    }
   ],
   "source": [
    "# plot histogram to check distribution,to find out if they are normal or skewed.\n",
    "\n",
    "plt.figure(figsize=(12,5))\n",
    "plt.subplot(1, 2, 1)\n",
    "fig = data_2['NUM_NEG'].hist(bins=20)\n",
    "fig.set_xlabel('NUM_NEG')\n",
    "fig.set_ylabel('Number of words')\n",
    "\n",
    "\n",
    "plt.subplot(1, 2, 2)\n",
    "fig = data_2['Polarity'].hist(bins=20)\n",
    "fig.set_xlabel('Polarity')\n",
    "fig.set_ylabel('Number of words')\n",
    "#All distributions are skewed"
   ]
  },
  {
   "cell_type": "code",
   "execution_count": 13,
   "metadata": {
    "id": "oLrgEV1SUqq0"
   },
   "outputs": [],
   "source": [
    "# Standard Scalar\n",
    "from sklearn.preprocessing import StandardScaler\n",
    "sc = StandardScaler()\n",
    "X_train = sc.fit_transform(X_train)\n",
    "X_test = sc.transform(X_test)\n",
    "#Normalisation\n",
    "from sklearn import preprocessing\n",
    "# normalize the data attributes\n",
    "X_train= preprocessing.normalize(X_train)\n",
    "X_test= preprocessing.normalize(X_test)\n",
    "import sklearn\n",
    "from sklearn import svm\n",
    "from collections import Counter"
   ]
  },
  {
   "cell_type": "code",
   "execution_count": 14,
   "metadata": {
    "colab": {
     "base_uri": "https://localhost:8080/"
    },
    "id": "uEQba0gY_vkk",
    "outputId": "13d2fa54-8c8b-4f60-aec8-aeb8b995da83"
   },
   "outputs": [
    {
     "name": "stdout",
     "output_type": "stream",
     "text": [
      "accuracy: 0.563953488372093\n",
      "predicted class counts: Counter({1: 91, 0: 81})\n",
      "[[44 38]\n",
      " [37 53]]\n",
      "              precision    recall  f1-score   support\n",
      "\n",
      "           0       0.54      0.54      0.54        82\n",
      "           1       0.58      0.59      0.59        90\n",
      "\n",
      "    accuracy                           0.56       172\n",
      "   macro avg       0.56      0.56      0.56       172\n",
      "weighted avg       0.56      0.56      0.56       172\n",
      "\n"
     ]
    }
   ],
   "source": [
    "\n",
    "#SVM RBF kernel\n",
    "clf = svm.SVC(C=100,kernel = 'rbf',probability=True,random_state=0)\n",
    "clf.fit(X_train, y_train)\n",
    "confidence = clf.score(X_test, y_test)\n",
    "print('accuracy:',confidence)\n",
    "y_pred_test = clf.predict(X_test)\n",
    "print('predicted class counts:',Counter(y_pred_test))\n",
    "from sklearn.metrics import classification_report, confusion_matrix\n",
    "print(confusion_matrix(y_test, y_pred_test))\n",
    "print(classification_report(y_test, y_pred_test))"
   ]
  },
  {
   "cell_type": "markdown",
   "metadata": {
    "id": "3jhHiKZuLgiZ"
   },
   "source": []
  },
  {
   "cell_type": "code",
   "execution_count": 15,
   "metadata": {
    "colab": {
     "base_uri": "https://localhost:8080/"
    },
    "id": "pyzN_qNBM70g",
    "outputId": "c2b75d9b-d17b-487b-8723-a4b3ab415ba6"
   },
   "outputs": [
    {
     "name": "stdout",
     "output_type": "stream",
     "text": [
      "Training-set accuracy score: 0.5614\n",
      "Training set score: 0.5614\n",
      "Test set score: 0.5640\n"
     ]
    }
   ],
   "source": [
    "from sklearn.metrics import accuracy_score\n",
    "# instantiate classifier with default hyperparam\n",
    "#Compare the train-set and test-set accuracy\n",
    "#compare the train-set and test-set accuracy to check for overfitting\n",
    "y_pred_train = clf.predict(X_train)\n",
    "#y_pred_train\n",
    "print('Training-set accuracy score: {0:0.4f}'. format(accuracy_score(y_train, y_pred_train)))\n",
    "# print the scores on training and test set\n",
    "print('Training set score: {:.4f}'.format(clf.score(X_train, y_train)))\n",
    "print('Test set score: {:.4f}'.format(clf.score(X_test, y_test)))\n",
    "#Compare model accuracy with null accuracy.Null accuracy is the accuracy that could be achieved by always predicting the most frequent class.\n"
   ]
  },
  {
   "cell_type": "code",
   "execution_count": 16,
   "metadata": {
    "colab": {
     "base_uri": "https://localhost:8080/"
    },
    "id": "5Ip662havryt",
    "outputId": "9749f18f-4b72-4f17-e106-80eab8065596"
   },
   "outputs": [
    {
     "name": "stdout",
     "output_type": "stream",
     "text": [
      "predicted class: 0\n",
      "probability of prediction [[0.50900616 0.49099384]]\n"
     ]
    }
   ],
   "source": [
    "# calculating probability of prediction for a single test case\n",
    "pred_probability=clf.predict_proba([X_test[4]])\n",
    "print('predicted class: {0}'.format(y_test[4]))\n",
    "print(\"probability of prediction\",pred_probability)"
   ]
  },
  {
   "cell_type": "code",
   "execution_count": 17,
   "metadata": {
    "colab": {
     "base_uri": "https://localhost:8080/"
    },
    "id": "L_0vpzLdOZ2j",
    "outputId": "2ed57e10-113c-45b5-8430-c68bb254ee90"
   },
   "outputs": [
    {
     "name": "stdout",
     "output_type": "stream",
     "text": [
      "Confusion matrix\n",
      "\n",
      " [[44 38]\n",
      " [37 53]]\n",
      "\n",
      "True Positives(TP) =  44\n",
      "\n",
      "True Negatives(TN) =  53\n",
      "\n",
      "False Positives(FP) =  38\n",
      "\n",
      "False Negatives(FN) =  37\n"
     ]
    }
   ],
   "source": [
    "# The problem is that accuracy is an inadequate measure for quantifying predictive performance in the imbalanced dataset problem.\n",
    "#One such metric to analyze the model performance in imbalanced classes problem is Confusion matrix.\n",
    "# Print the Confusion Matrix and slice it into four pieces\n",
    "from sklearn.metrics import confusion_matrix\n",
    "cm = confusion_matrix(y_test, y_pred_test)\n",
    "print('Confusion matrix\\n\\n', cm)\n",
    "print('\\nTrue Positives(TP) = ', cm[0,0])\n",
    "print('\\nTrue Negatives(TN) = ', cm[1,1])\n",
    "print('\\nFalse Positives(FP) = ', cm[0,1])\n",
    "print('\\nFalse Negatives(FN) = ', cm[1,0])"
   ]
  },
  {
   "cell_type": "code",
   "execution_count": 18,
   "metadata": {
    "colab": {
     "base_uri": "https://localhost:8080/",
     "height": 286
    },
    "id": "u4MiMzRcOnzp",
    "outputId": "5ebbc339-88f3-4342-80b1-e54bd608f8b7"
   },
   "outputs": [
    {
     "data": {
      "text/plain": [
       "<AxesSubplot:>"
      ]
     },
     "execution_count": 18,
     "metadata": {},
     "output_type": "execute_result"
    },
    {
     "data": {
      "image/png": "[encoded data removed]",
      "text/plain": [
       "<Figure size 432x288 with 2 Axes>"
      ]
     },
     "metadata": {
      "needs_background": "light"
     },
     "output_type": "display_data"
    }
   ],
   "source": [
    "# visualize confusion matrix with seaborn heatmap\n",
    "cm_matrix = pd.DataFrame(data=cm, columns=['Actual Positive:1', 'Actual Negative:0'], \n",
    "                                 index=['Predict Positive:1', 'Predict Negative:0'])\n",
    "\n",
    "sns.heatmap(cm_matrix, annot=True, fmt='d', cmap='YlGnBu')"
   ]
  },
  {
   "cell_type": "code",
   "execution_count": null,
   "metadata": {
    "id": "c2lWpCqVLDY3"
   },
   "outputs": [],
   "source": []
  },
  {
   "cell_type": "code",
   "execution_count": 19,
   "metadata": {
    "colab": {
     "base_uri": "https://localhost:8080/"
    },
    "id": "AZ__dzaVOv2E",
    "outputId": "feb567ef-bf83-4731-85ba-9d92a4143313"
   },
   "outputs": [
    {
     "name": "stdout",
     "output_type": "stream",
     "text": [
      "              precision    recall  f1-score   support\n",
      "\n",
      "           0       0.54      0.54      0.54        82\n",
      "           1       0.58      0.59      0.59        90\n",
      "\n",
      "    accuracy                           0.56       172\n",
      "   macro avg       0.56      0.56      0.56       172\n",
      "weighted avg       0.56      0.56      0.56       172\n",
      "\n"
     ]
    }
   ],
   "source": [
    "#Classification report is another way to evaluate the classification model performance. It displays the precision, recall, f1 and support scores for the model. \n",
    "from sklearn.metrics import classification_report\n",
    "print(classification_report(y_test, y_pred_test))"
   ]
  },
  {
   "cell_type": "code",
   "execution_count": 20,
   "metadata": {
    "colab": {
     "base_uri": "https://localhost:8080/"
    },
    "id": "su_E2uxcO2hu",
    "outputId": "35ba101f-dfbb-4c7e-f559-b29dab204e60"
   },
   "outputs": [
    {
     "name": "stdout",
     "output_type": "stream",
     "text": [
      "Classification accuracy : 0.5640\n"
     ]
    }
   ],
   "source": [
    "TP = cm[0,0]\n",
    "TN = cm[1,1]\n",
    "FP = cm[0,1]\n",
    "FN = cm[1,0]\n",
    "# print classification accuracy\n",
    "classification_accuracy = (TP + TN) / float(TP + TN + FP + FN)\n",
    "print('Classification accuracy : {0:0.4f}'.format(classification_accuracy))"
   ]
  },
  {
   "cell_type": "code",
   "execution_count": 21,
   "metadata": {
    "colab": {
     "base_uri": "https://localhost:8080/"
    },
    "id": "wpePieOMO59L",
    "outputId": "70618a8e-294e-4770-ab72-d4bcac2dfe3b"
   },
   "outputs": [
    {
     "name": "stdout",
     "output_type": "stream",
     "text": [
      "Classification error : 0.4360\n",
      "Precision : 0.5366\n",
      "Recall or Sensitivity : 0.5432\n",
      "True Positive Rate : 0.5432\n",
      "False Positive Rate : 0.4176\n",
      "Specificity : 0.5824\n"
     ]
    }
   ],
   "source": [
    "# print classification error\n",
    "classification_error = (FP + FN) / float(TP + TN + FP + FN)\n",
    "print('Classification error : {0:0.4f}'.format(classification_error))\n",
    "#Precision can be defined as the percentage of correctly predicted positive outcomes out of all the predicted positive outcomes.\n",
    "# print precision score\n",
    "precision = TP / float(TP + FP)\n",
    "print('Precision : {0:0.4f}'.format(precision))\n",
    "#Recall can be defined as the percentage of correctly predicted positive outcomes out of all the actual positive outcomes.\n",
    "recall = TP / float(TP + FN)\n",
    "print('Recall or Sensitivity : {0:0.4f}'.format(recall))\n",
    "#True Positive Rate is synonymous with Recall.\n",
    "true_positive_rate = TP / float(TP + FN)\n",
    "print('True Positive Rate : {0:0.4f}'.format(true_positive_rate))\n",
    "#False Positive Rate\n",
    "false_positive_rate = FP / float(FP + TN)\n",
    "print('False Positive Rate : {0:0.4f}'.format(false_positive_rate))\n",
    "#specificity\n",
    "specificity = TN / (TN + FP)\n",
    "print('Specificity : {0:0.4f}'.format(specificity))\n",
    "#f1-score is the weighted harmonic mean of precision and recall. The best possible f1-score would be 1.0 and the worst would be 0.0.\n",
    "#Support is the actual number of occurrences of the class in our dataset.\n"
   ]
  },
  {
   "cell_type": "code",
   "execution_count": 22,
   "metadata": {
    "colab": {
     "base_uri": "https://localhost:8080/",
     "height": 330
    },
    "id": "8iOf2l18PA9r",
    "outputId": "7ff47c78-2e80-4cf4-ec37-f05a7674517c"
   },
   "outputs": [
    {
     "data": {
      "image/png": "[encoded data removed]",
      "text/plain": [
       "<Figure size 432x288 with 1 Axes>"
      ]
     },
     "metadata": {
      "needs_background": "light"
     },
     "output_type": "display_data"
    },
    {
     "name": "stdout",
     "output_type": "stream",
     "text": [
      "ROC AUC : 0.5627\n",
      "Cross validated ROC AUC : 0.5237\n"
     ]
    }
   ],
   "source": [
    "#ROC - AUC \n",
    "#ROC Curve stands for Receiver Operating Characteristic Curve. An ROC Curve is a plot which shows the performance of a classification model at various classification threshold levels.\n",
    "#The ROC Curve plots the True Positive Rate (TPR) against the False Positive Rate (FPR) at various threshold levels.\n",
    "# plot ROC Curve\n",
    "from sklearn.metrics import roc_curve\n",
    "fpr, tpr, thresholds = roc_curve(y_test, y_pred_test)\n",
    "plt.figure(figsize=(6,4))\n",
    "plt.plot(fpr, tpr, linewidth=2)\n",
    "plt.plot([0,1], [0,1], 'k--' )\n",
    "plt.rcParams['font.size'] = 12\n",
    "plt.title('ROC curve')\n",
    "plt.xlabel('False Positive Rate (1 - Specificity)')\n",
    "plt.ylabel('True Positive Rate (Sensitivity)')\n",
    "plt.show()\n",
    "#ROC curve help us to choose a threshold level that balances sensitivity and specificity for a particular context.\n",
    "#ROC AUC-ROC AUC stands for Receiver Operating Characteristic - Area Under Curve\n",
    "#A perfect classifier will have a ROC AUC equal to 1, whereas a purely random classifier will have a ROC AUC equal to 0.5.\n",
    "# compute ROC AUC\n",
    "from sklearn.metrics import roc_auc_score\n",
    "ROC_AUC = roc_auc_score(y_test, y_pred_test)\n",
    "print('ROC AUC : {:.4f}'.format(ROC_AUC))\n",
    "#ROC AUC is a single number summary of classifier performance. The higher the value, the better the classifier.\n",
    "# calculate cross-validated ROC AUC \n",
    "from sklearn.model_selection import cross_val_score\n",
    "Cross_validated_ROC_AUC = cross_val_score(clf, X_train, y_train, cv=10, scoring='roc_auc').mean()\n",
    "print('Cross validated ROC AUC : {:.4f}'.format(Cross_validated_ROC_AUC))"
   ]
  },
  {
   "cell_type": "markdown",
   "metadata": {
    "id": "_YhII_P3nE-W"
   },
   "source": [
    "Saving the model"
   ]
  },
  {
   "cell_type": "code",
   "execution_count": 23,
   "metadata": {
    "colab": {
     "base_uri": "https://localhost:8080/"
    },
    "id": "hWr60xQftFVp",
    "outputId": "50f7889f-e954-425f-a903-2b09b8511672"
   },
   "outputs": [],
   "source": [
    "#Import Joblib Module from Scikit Learn\n",
    "#from sklearn.externals import joblib\n",
    "# Save RL_Model to file in the current working directory\n",
    "#joblib_file = \"joblib_clf_sameday.pkl\"  \n",
    "#joblib.dump(clf, joblib_file)\n"
   ]
  },
  {
   "cell_type": "code",
   "execution_count": 24,
   "metadata": {
    "id": "4e9bz3GDnDJy"
   },
   "outputs": [],
   "source": [
    "# Load from file\n",
    "#joblib_LR_model = joblib.load(joblib_file)\n",
    "#joblib_LR_model"
   ]
  },
  {
   "cell_type": "code",
   "execution_count": 25,
   "metadata": {
    "id": "7xeafDwsnLd8"
   },
   "outputs": [],
   "source": [
    "# Use the Reloaded Joblib Model to \n",
    "# Calculate the accuracy score and predict target values\n",
    "# Calculate the Score \n",
    "#score = joblib_LR_model.score(X_test, y_test)  \n",
    "# Print the Score\n",
    "#print(\"Test score: {0:.2f} %\".format(100 * score))  \n",
    " #Predict the Labels using the reloaded Model\n",
    "#Ypredict = joblib_LR_model.predict(X_test)  \n",
    "#Ypredict"
   ]
  },
  {
   "cell_type": "markdown",
   "metadata": {
    "id": "j-Aqqf8rgtgV"
   },
   "source": [
    "Saving using pickle"
   ]
  },
  {
   "cell_type": "code",
   "execution_count": 26,
   "metadata": {
    "id": "NE_9_XNOgw6s"
   },
   "outputs": [],
   "source": [
    "# Import pickle Package\n",
    "\n",
    "import pickle\n",
    "# Save the Modle to file in the current working directory\n",
    "\n",
    "Pkl_Filename ='Pickle_svm_sameday_new1.pkl'  \n",
    "\n",
    "with open(Pkl_Filename, 'wb') as file:  \n",
    "  pickle.dump(clf, file)\n",
    "Pickle_svm_sameday_last=pickle.dumps(clf)\n"
   ]
  },
  {
   "cell_type": "code",
   "execution_count": 27,
   "metadata": {
    "id": "oZMyzTEUg3V1"
   },
   "outputs": [],
   "source": [
    "# Load the Model back from file\n",
    "#with open(Pkl_Filename, 'rb') as file:  \n",
    "  #Pickled_svm_sameday_Model = pickle.load(file)\n",
    "\n",
    "#Pickled_svm_sameday_Model"
   ]
  },
  {
   "cell_type": "code",
   "execution_count": 28,
   "metadata": {
    "id": "DhGl8DQRJoMH"
   },
   "outputs": [
    {
     "data": {
      "text/plain": [
       "['joblib_svm_sameday_last.pkl']"
      ]
     },
     "execution_count": 28,
     "metadata": {},
     "output_type": "execute_result"
    }
   ],
   "source": [
    "from joblib import dump\n",
    "dump(clf,'joblib_svm_sameday_new.joblib')\n",
    "dump(clf,'joblib_svm_sameday_last.pkl')"
   ]
  },
  {
   "cell_type": "code",
   "execution_count": 29,
   "metadata": {
    "id": "c6hVrMe_g89r"
   },
   "outputs": [],
   "source": [
    "# Use the Reloaded Model to \n",
    "# Calculate the accuracy score and predict target values\n",
    "\n",
    "# Calculate the Score \n",
    "#score = Pickled_svm_sameday_Model.score(X_test, y_test)  \n",
    "# Print the Score\n",
    "#print(\"Test score: {0:.2f} %\".format(100 * score))  \n",
    "\n",
    "# Predict the Labels using the reloaded Model\n",
    "#Ypredict =  Pickled_svm_sameday_Model.predict(X_test)  \n",
    "\n",
    "#Ypredict"
   ]
  },
  {
   "cell_type": "code",
   "execution_count": null,
   "metadata": {},
   "outputs": [],
   "source": []
  }
 ],
 "metadata": {
  "colab": {
   "collapsed_sections": [],
   "name": "SVM_sameday_sentiment_RBF_final_deployment.ipynb",
   "provenance": []
  },
  "kernelspec": {
   "display_name": "Python 3 (ipykernel)",
   "language": "python",
   "name": "python3"
  },
  "language_info": {
   "codemirror_mode": {
    "name": "ipython",
    "version": 3
   },
   "file_extension": ".py",
   "mimetype": "text/x-python",
   "name": "python",
   "nbconvert_exporter": "python",
   "pygments_lexer": "ipython3",
   "version": "3.7.10"
  }
 },
 "nbformat": 4,
 "nbformat_minor": 1
}
