{
 "cells": [
  {
   "cell_type": "code",
   "execution_count": 1,
   "metadata": {},
   "outputs": [],
   "source": [
    "import warnings\n",
    "warnings.filterwarnings(\"ignore\")"
   ]
  },
  {
   "cell_type": "code",
   "execution_count": 2,
   "metadata": {
    "id": "UCp9uy2Q2Ofu"
   },
   "outputs": [],
   "source": [
    "import numpy as np\n",
    "import pandas as pd\n",
    "import matplotlib.pyplot as plt\n",
    "%matplotlib inline"
   ]
  },
  {
   "cell_type": "code",
   "execution_count": 3,
   "metadata": {
    "colab": {
     "base_uri": "https://localhost:8080/",
     "height": 501
    },
    "id": "1nZn3NnlEWm-",
    "outputId": "574db7cc-2e6d-4d10-bd50-dd36178a3243"
   },
   "outputs": [
    {
     "data": {
      "text/html": [
       "<div>\n",
       "<style scoped>\n",
       "    .dataframe tbody tr th:only-of-type {\n",
       "        vertical-align: middle;\n",
       "    }\n",
       "\n",
       "    .dataframe tbody tr th {\n",
       "        vertical-align: top;\n",
       "    }\n",
       "\n",
       "    .dataframe thead th {\n",
       "        text-align: right;\n",
       "    }\n",
       "</style>\n",
       "<table border=\"1\" class=\"dataframe\">\n",
       "  <thead>\n",
       "    <tr style=\"text-align: right;\">\n",
       "      <th></th>\n",
       "      <th>lab_sameday</th>\n",
       "      <th>Polarity</th>\n",
       "      <th>Open</th>\n",
       "      <th>High</th>\n",
       "      <th>Volume</th>\n",
       "      <th>Low</th>\n",
       "    </tr>\n",
       "  </thead>\n",
       "  <tbody>\n",
       "    <tr>\n",
       "      <th>0</th>\n",
       "      <td>1</td>\n",
       "      <td>0.166667</td>\n",
       "      <td>145.66</td>\n",
       "      <td>147.4701</td>\n",
       "      <td>53477870.0</td>\n",
       "      <td>145.56</td>\n",
       "    </tr>\n",
       "    <tr>\n",
       "      <th>1</th>\n",
       "      <td>1</td>\n",
       "      <td>0.000000</td>\n",
       "      <td>145.66</td>\n",
       "      <td>147.4701</td>\n",
       "      <td>53477870.0</td>\n",
       "      <td>145.56</td>\n",
       "    </tr>\n",
       "    <tr>\n",
       "      <th>2</th>\n",
       "      <td>1</td>\n",
       "      <td>0.375000</td>\n",
       "      <td>145.66</td>\n",
       "      <td>147.4701</td>\n",
       "      <td>53477870.0</td>\n",
       "      <td>145.56</td>\n",
       "    </tr>\n",
       "    <tr>\n",
       "      <th>3</th>\n",
       "      <td>1</td>\n",
       "      <td>0.000000</td>\n",
       "      <td>145.66</td>\n",
       "      <td>147.4701</td>\n",
       "      <td>53477870.0</td>\n",
       "      <td>145.56</td>\n",
       "    </tr>\n",
       "    <tr>\n",
       "      <th>4</th>\n",
       "      <td>1</td>\n",
       "      <td>0.234091</td>\n",
       "      <td>145.66</td>\n",
       "      <td>147.4701</td>\n",
       "      <td>53477870.0</td>\n",
       "      <td>145.56</td>\n",
       "    </tr>\n",
       "    <tr>\n",
       "      <th>...</th>\n",
       "      <td>...</td>\n",
       "      <td>...</td>\n",
       "      <td>...</td>\n",
       "      <td>...</td>\n",
       "      <td>...</td>\n",
       "      <td>...</td>\n",
       "    </tr>\n",
       "    <tr>\n",
       "      <th>61690</th>\n",
       "      <td>0</td>\n",
       "      <td>0.500000</td>\n",
       "      <td>641.87</td>\n",
       "      <td>643.8200</td>\n",
       "      <td>33852830.0</td>\n",
       "      <td>599.89</td>\n",
       "    </tr>\n",
       "    <tr>\n",
       "      <th>61691</th>\n",
       "      <td>0</td>\n",
       "      <td>-0.025000</td>\n",
       "      <td>641.87</td>\n",
       "      <td>643.8200</td>\n",
       "      <td>33852830.0</td>\n",
       "      <td>599.89</td>\n",
       "    </tr>\n",
       "    <tr>\n",
       "      <th>61692</th>\n",
       "      <td>0</td>\n",
       "      <td>0.000000</td>\n",
       "      <td>641.87</td>\n",
       "      <td>643.8200</td>\n",
       "      <td>33852830.0</td>\n",
       "      <td>599.89</td>\n",
       "    </tr>\n",
       "    <tr>\n",
       "      <th>61693</th>\n",
       "      <td>0</td>\n",
       "      <td>0.220000</td>\n",
       "      <td>641.87</td>\n",
       "      <td>643.8200</td>\n",
       "      <td>33852830.0</td>\n",
       "      <td>599.89</td>\n",
       "    </tr>\n",
       "    <tr>\n",
       "      <th>61694</th>\n",
       "      <td>0</td>\n",
       "      <td>0.136364</td>\n",
       "      <td>641.87</td>\n",
       "      <td>643.8200</td>\n",
       "      <td>33852830.0</td>\n",
       "      <td>599.89</td>\n",
       "    </tr>\n",
       "  </tbody>\n",
       "</table>\n",
       "<p>61695 rows × 6 columns</p>\n",
       "</div>"
      ],
      "text/plain": [
       "       lab_sameday  Polarity    Open      High      Volume     Low\n",
       "0                1  0.166667  145.66  147.4701  53477870.0  145.56\n",
       "1                1  0.000000  145.66  147.4701  53477870.0  145.56\n",
       "2                1  0.375000  145.66  147.4701  53477870.0  145.56\n",
       "3                1  0.000000  145.66  147.4701  53477870.0  145.56\n",
       "4                1  0.234091  145.66  147.4701  53477870.0  145.56\n",
       "...            ...       ...     ...       ...         ...     ...\n",
       "61690            0  0.500000  641.87  643.8200  33852830.0  599.89\n",
       "61691            0 -0.025000  641.87  643.8200  33852830.0  599.89\n",
       "61692            0  0.000000  641.87  643.8200  33852830.0  599.89\n",
       "61693            0  0.220000  641.87  643.8200  33852830.0  599.89\n",
       "61694            0  0.136364  641.87  643.8200  33852830.0  599.89\n",
       "\n",
       "[61695 rows x 6 columns]"
      ]
     },
     "execution_count": 3,
     "metadata": {},
     "output_type": "execute_result"
    }
   ],
   "source": [
    "data = pd.read_csv('labelled_dataset_full.csv')\n",
    "#data_1=data.drop('lab_prevday')\n",
    "data_1=data[['lab_sameday','Polarity','Open','High','Volume','Low']]\n",
    "data_1.dropna(inplace=True)\n",
    "data_1\n"
   ]
  },
  {
   "cell_type": "code",
   "execution_count": 4,
   "metadata": {},
   "outputs": [
    {
     "data": {
      "text/plain": [
       "'1.0'"
      ]
     },
     "execution_count": 4,
     "metadata": {},
     "output_type": "execute_result"
    }
   ],
   "source": [
    "import sklearn\n",
    "sklearn.__version__"
   ]
  },
  {
   "cell_type": "code",
   "execution_count": null,
   "metadata": {
    "id": "O3XKvrpj9zMc"
   },
   "outputs": [],
   "source": []
  },
  {
   "cell_type": "code",
   "execution_count": 5,
   "metadata": {
    "colab": {
     "base_uri": "https://localhost:8080/",
     "height": 342
    },
    "id": "gfICZUwHOihZ",
    "outputId": "1a7cf4f0-9769-4162-c520-77216988d3d9"
   },
   "outputs": [
    {
     "data": {
      "text/plain": [
       "<AxesSubplot:>"
      ]
     },
     "execution_count": 5,
     "metadata": {},
     "output_type": "execute_result"
    },
    {
     "data": {
      "image/png": "[encoded data removed]",
      "text/plain": [
       "<Figure size 432x288 with 2 Axes>"
      ]
     },
     "metadata": {
      "needs_background": "light"
     },
     "output_type": "display_data"
    }
   ],
   "source": [
    "import seaborn as sns\n",
    "\n",
    "# calculate the correlations\n",
    "correlations = data_1.corr()\n",
    "\n",
    "# plot the heatmap \n",
    "sns.heatmap(correlations, xticklabels=correlations.columns, yticklabels=correlations.columns, annot=True)\n"
   ]
  },
  {
   "cell_type": "code",
   "execution_count": 6,
   "metadata": {
    "colab": {
     "base_uri": "https://localhost:8080/",
     "height": 747
    },
    "id": "YRcsAg_Aa4YR",
    "outputId": "87f4d394-78e6-4361-e271-302aaa3ce0ae"
   },
   "outputs": [
    {
     "data": {
      "text/plain": [
       "<seaborn.matrix.ClusterGrid at 0x2167d826d08>"
      ]
     },
     "execution_count": 6,
     "metadata": {},
     "output_type": "execute_result"
    },
    {
     "data": {
      "image/png": "[encoded data removed]",
      "text/plain": [
       "<Figure size 720x720 with 4 Axes>"
      ]
     },
     "metadata": {
      "needs_background": "light"
     },
     "output_type": "display_data"
    }
   ],
   "source": [
    "\n",
    "# plot the clustermap \n",
    "sns.clustermap(correlations, xticklabels=correlations.columns, yticklabels=correlations.columns, annot=True)\n",
    "#remove NUM_NEU and TOT_WORDS which are highly correlated"
   ]
  },
  {
   "cell_type": "code",
   "execution_count": 7,
   "metadata": {
    "colab": {
     "base_uri": "https://localhost:8080/",
     "height": 319
    },
    "id": "njv_eH_kEnW0",
    "outputId": "bc03f1b1-992c-44a9-d9c3-7ccb51fd7ad0"
   },
   "outputs": [
    {
     "data": {
      "text/plain": [
       "Text(0.5, 0, 'lab_sameday')"
      ]
     },
     "execution_count": 7,
     "metadata": {},
     "output_type": "execute_result"
    },
    {
     "data": {
      "image/png": "[encoded data removed]",
      "text/plain": [
       "<Figure size 432x288 with 1 Axes>"
      ]
     },
     "metadata": {
      "needs_background": "light"
     },
     "output_type": "display_data"
    }
   ],
   "source": [
    "# Graph to show the Higly Imbalanced Data. To Predict the Column ['lab_sameday']. Right now.. majority of records/rows with 'Target=0'\n",
    "# And few records with 'Target = 1'\n",
    "pd.value_counts(data_1['lab_sameday']).plot.bar()\n",
    "plt.title('lab_sameday class histogram')\n",
    "plt.xlabel('lab_sameday')\n"
   ]
  },
  {
   "cell_type": "code",
   "execution_count": 8,
   "metadata": {
    "colab": {
     "base_uri": "https://localhost:8080/"
    },
    "id": "tSq9xgTQuJZG",
    "outputId": "67996c33-480a-4d25-d28a-b97cf79434be"
   },
   "outputs": [
    {
     "name": "stdout",
     "output_type": "stream",
     "text": [
      "Zero 30830\n",
      "One 30865\n"
     ]
    }
   ],
   "source": [
    "# Class count\n",
    "count_class_1, count_class_0 = data_1.lab_sameday.value_counts()\n",
    "# Divide by class\n",
    "df_class_0 = data_1[data_1['lab_sameday'] == 0]\n",
    "df_class_1 = data_1[data_1['lab_sameday'] == 1]\n",
    "print('Zero',count_class_0)\n",
    "print('One',count_class_1)"
   ]
  },
  {
   "cell_type": "code",
   "execution_count": 9,
   "metadata": {
    "colab": {
     "base_uri": "https://localhost:8080/",
     "height": 754
    },
    "id": "JeIjriMWVvSa",
    "outputId": "5aa1b501-8540-4022-8c1d-20c2a5706a5a"
   },
   "outputs": [
    {
     "name": "stdout",
     "output_type": "stream",
     "text": [
      "After Random under-sampling:\n",
      "0    30865\n",
      "1    30830\n",
      "Name: lab_sameday, dtype: int64\n"
     ]
    },
    {
     "data": {
      "text/html": [
       "<div>\n",
       "<style scoped>\n",
       "    .dataframe tbody tr th:only-of-type {\n",
       "        vertical-align: middle;\n",
       "    }\n",
       "\n",
       "    .dataframe tbody tr th {\n",
       "        vertical-align: top;\n",
       "    }\n",
       "\n",
       "    .dataframe thead th {\n",
       "        text-align: right;\n",
       "    }\n",
       "</style>\n",
       "<table border=\"1\" class=\"dataframe\">\n",
       "  <thead>\n",
       "    <tr style=\"text-align: right;\">\n",
       "      <th></th>\n",
       "      <th>lab_sameday</th>\n",
       "      <th>Polarity</th>\n",
       "      <th>Open</th>\n",
       "      <th>High</th>\n",
       "      <th>Volume</th>\n",
       "      <th>Low</th>\n",
       "    </tr>\n",
       "  </thead>\n",
       "  <tbody>\n",
       "    <tr>\n",
       "      <th>13104</th>\n",
       "      <td>1</td>\n",
       "      <td>0.000000</td>\n",
       "      <td>138.14</td>\n",
       "      <td>139.09</td>\n",
       "      <td>2985409.0</td>\n",
       "      <td>137.6000</td>\n",
       "    </tr>\n",
       "    <tr>\n",
       "      <th>11322</th>\n",
       "      <td>1</td>\n",
       "      <td>0.000000</td>\n",
       "      <td>137.03</td>\n",
       "      <td>138.48</td>\n",
       "      <td>2964397.0</td>\n",
       "      <td>136.7500</td>\n",
       "    </tr>\n",
       "    <tr>\n",
       "      <th>24065</th>\n",
       "      <td>1</td>\n",
       "      <td>0.000000</td>\n",
       "      <td>148.12</td>\n",
       "      <td>150.20</td>\n",
       "      <td>5080099.0</td>\n",
       "      <td>148.1200</td>\n",
       "    </tr>\n",
       "    <tr>\n",
       "      <th>18893</th>\n",
       "      <td>1</td>\n",
       "      <td>0.000000</td>\n",
       "      <td>136.45</td>\n",
       "      <td>138.49</td>\n",
       "      <td>8582302.0</td>\n",
       "      <td>136.2089</td>\n",
       "    </tr>\n",
       "    <tr>\n",
       "      <th>18512</th>\n",
       "      <td>1</td>\n",
       "      <td>0.000000</td>\n",
       "      <td>139.97</td>\n",
       "      <td>141.39</td>\n",
       "      <td>4803977.0</td>\n",
       "      <td>139.6500</td>\n",
       "    </tr>\n",
       "    <tr>\n",
       "      <th>...</th>\n",
       "      <td>...</td>\n",
       "      <td>...</td>\n",
       "      <td>...</td>\n",
       "      <td>...</td>\n",
       "      <td>...</td>\n",
       "      <td>...</td>\n",
       "    </tr>\n",
       "    <tr>\n",
       "      <th>61690</th>\n",
       "      <td>0</td>\n",
       "      <td>0.500000</td>\n",
       "      <td>641.87</td>\n",
       "      <td>643.82</td>\n",
       "      <td>33852830.0</td>\n",
       "      <td>599.8900</td>\n",
       "    </tr>\n",
       "    <tr>\n",
       "      <th>61691</th>\n",
       "      <td>0</td>\n",
       "      <td>-0.025000</td>\n",
       "      <td>641.87</td>\n",
       "      <td>643.82</td>\n",
       "      <td>33852830.0</td>\n",
       "      <td>599.8900</td>\n",
       "    </tr>\n",
       "    <tr>\n",
       "      <th>61692</th>\n",
       "      <td>0</td>\n",
       "      <td>0.000000</td>\n",
       "      <td>641.87</td>\n",
       "      <td>643.82</td>\n",
       "      <td>33852830.0</td>\n",
       "      <td>599.8900</td>\n",
       "    </tr>\n",
       "    <tr>\n",
       "      <th>61693</th>\n",
       "      <td>0</td>\n",
       "      <td>0.220000</td>\n",
       "      <td>641.87</td>\n",
       "      <td>643.82</td>\n",
       "      <td>33852830.0</td>\n",
       "      <td>599.8900</td>\n",
       "    </tr>\n",
       "    <tr>\n",
       "      <th>61694</th>\n",
       "      <td>0</td>\n",
       "      <td>0.136364</td>\n",
       "      <td>641.87</td>\n",
       "      <td>643.82</td>\n",
       "      <td>33852830.0</td>\n",
       "      <td>599.8900</td>\n",
       "    </tr>\n",
       "  </tbody>\n",
       "</table>\n",
       "<p>61695 rows × 6 columns</p>\n",
       "</div>"
      ],
      "text/plain": [
       "       lab_sameday  Polarity    Open    High      Volume       Low\n",
       "13104            1  0.000000  138.14  139.09   2985409.0  137.6000\n",
       "11322            1  0.000000  137.03  138.48   2964397.0  136.7500\n",
       "24065            1  0.000000  148.12  150.20   5080099.0  148.1200\n",
       "18893            1  0.000000  136.45  138.49   8582302.0  136.2089\n",
       "18512            1  0.000000  139.97  141.39   4803977.0  139.6500\n",
       "...            ...       ...     ...     ...         ...       ...\n",
       "61690            0  0.500000  641.87  643.82  33852830.0  599.8900\n",
       "61691            0 -0.025000  641.87  643.82  33852830.0  599.8900\n",
       "61692            0  0.000000  641.87  643.82  33852830.0  599.8900\n",
       "61693            0  0.220000  641.87  643.82  33852830.0  599.8900\n",
       "61694            0  0.136364  641.87  643.82  33852830.0  599.8900\n",
       "\n",
       "[61695 rows x 6 columns]"
      ]
     },
     "execution_count": 9,
     "metadata": {},
     "output_type": "execute_result"
    },
    {
     "data": {
      "image/png": "[encoded data removed]",
      "text/plain": [
       "<Figure size 432x288 with 1 Axes>"
      ]
     },
     "metadata": {
      "needs_background": "light"
     },
     "output_type": "display_data"
    }
   ],
   "source": [
    "# Doing Random Undersampling to balance data\n",
    "df_class_1_under = df_class_1.sample(count_class_0)\n",
    "df_test_under = pd.concat([df_class_1_under, df_class_0], axis=0)\n",
    "print('After Random under-sampling:')\n",
    "print(df_test_under.lab_sameday.value_counts())\n",
    "df_test_under.lab_sameday.value_counts().plot(kind='bar', title='Count(lab_sameday)');\n",
    "data_2=df_test_under\n",
    "data_2"
   ]
  },
  {
   "cell_type": "code",
   "execution_count": 10,
   "metadata": {
    "colab": {
     "base_uri": "https://localhost:8080/"
    },
    "id": "z4FpKDwNdluU",
    "outputId": "78997c63-7f69-4663-d180-ac092d6b2a54"
   },
   "outputs": [
    {
     "name": "stdout",
     "output_type": "stream",
     "text": [
      "Shape of training data : (49356, 4)\n",
      "Shape of testing data : (12339, 4)\n"
     ]
    }
   ],
   "source": [
    "X=data_2[['Polarity','High','Low','Open']]\n",
    "y=data_2['lab_sameday'].values\n",
    "from sklearn.model_selection import train_test_split\n",
    "X_train,X_test,y_train,y_test= train_test_split(X,y,test_size=0.2,random_state=0)\n",
    "# shape of the dataset\n",
    "print('Shape of training data :',X_train.shape)\n",
    "print('Shape of testing data :',X_test.shape)"
   ]
  },
  {
   "cell_type": "code",
   "execution_count": 11,
   "metadata": {
    "colab": {
     "base_uri": "https://localhost:8080/",
     "height": 353
    },
    "id": "cgnRqnnKL3U_",
    "outputId": "d7d3281f-c269-4496-e2c7-f782d6bfcab5"
   },
   "outputs": [
    {
     "data": {
      "text/plain": [
       "Text(0, 0.5, 'Polarity')"
      ]
     },
     "execution_count": 11,
     "metadata": {},
     "output_type": "execute_result"
    },
    {
     "data": {
      "image/png": "[encoded data removed]",
      "text/plain": [
       "<Figure size 864x360 with 2 Axes>"
      ]
     },
     "metadata": {
      "needs_background": "light"
     },
     "output_type": "display_data"
    }
   ],
   "source": [
    "# draw boxplots to visualize outliers\n",
    "plt.figure(figsize=(12,5))\n",
    "plt.subplot(1, 2, 1)\n",
    "fig = data_2.boxplot(column='Open')\n",
    "fig.set_title('outliers')\n",
    "fig.set_ylabel('values')\n",
    "\n",
    "\n",
    "plt.subplot(1, 2, 2)\n",
    "fig = data_2.boxplot(column='Polarity')\n",
    "fig.set_title('outliers')\n",
    "fig.set_ylabel('Polarity')\n",
    "#The below boxplots confirm that there are lot of outliers in these variables.\n",
    "#since the dataset contains outliers, so the value of C should be high while training the model."
   ]
  },
  {
   "cell_type": "code",
   "execution_count": 12,
   "metadata": {
    "colab": {
     "base_uri": "https://localhost:8080/",
     "height": 351
    },
    "id": "0s15ne_mMj4n",
    "outputId": "ad11b554-e501-4c00-936e-ce018a484a90"
   },
   "outputs": [
    {
     "data": {
      "text/plain": [
       "Text(0, 0.5, 'Number of words')"
      ]
     },
     "execution_count": 12,
     "metadata": {},
     "output_type": "execute_result"
    },
    {
     "data": {
      "image/png": "[encoded data removed]",
      "text/plain": [
       "<Figure size 864x360 with 2 Axes>"
      ]
     },
     "metadata": {
      "needs_background": "light"
     },
     "output_type": "display_data"
    }
   ],
   "source": [
    "# plot histogram to check distribution,to find out if they are normal or skewed.\n",
    "\n",
    "plt.figure(figsize=(12,5))\n",
    "plt.subplot(1, 2, 1)\n",
    "fig = data_2['Open'].hist(bins=20)\n",
    "fig.set_xlabel('Open')\n",
    "fig.set_ylabel('Number of words')\n",
    "\n",
    "\n",
    "plt.subplot(1, 2, 2)\n",
    "fig = data_2['Polarity'].hist(bins=20)\n",
    "fig.set_xlabel('Polarity')\n",
    "fig.set_ylabel('Number of words')\n",
    "#All distributions are skewed"
   ]
  },
  {
   "cell_type": "code",
   "execution_count": 13,
   "metadata": {
    "id": "oLrgEV1SUqq0"
   },
   "outputs": [],
   "source": [
    "# Standard Scalar\n",
    "#from sklearn.preprocessing import StandardScaler\n",
    "#sc = StandardScaler()\n",
    "#X_train = sc.fit_transform(X_train)\n",
    "#X_test = sc.transform(X_test)\n",
    "#Normalisation\n",
    "from sklearn import preprocessing\n",
    "# normalize the data attributes\n",
    "X_train= preprocessing.normalize(X_train)\n",
    "X_test= preprocessing.normalize(X_test)\n",
    "import sklearn\n",
    "from sklearn import svm\n",
    "from collections import Counter"
   ]
  },
  {
   "cell_type": "code",
   "execution_count": 14,
   "metadata": {
    "colab": {
     "base_uri": "https://localhost:8080/"
    },
    "id": "uEQba0gY_vkk",
    "outputId": "ff2b82ff-8775-48f9-ab49-dd1bf0830b24"
   },
   "outputs": [
    {
     "name": "stdout",
     "output_type": "stream",
     "text": [
      "accuracy: 0.8712213307399304\n",
      "predicted class counts: Counter({1: 6189, 0: 6150})\n",
      "[[5413  852]\n",
      " [ 737 5337]]\n",
      "              precision    recall  f1-score   support\n",
      "\n",
      "           0       0.88      0.86      0.87      6265\n",
      "           1       0.86      0.88      0.87      6074\n",
      "\n",
      "    accuracy                           0.87     12339\n",
      "   macro avg       0.87      0.87      0.87     12339\n",
      "weighted avg       0.87      0.87      0.87     12339\n",
      "\n"
     ]
    }
   ],
   "source": [
    "#SVM RBF kernel\n",
    "clf = svm.SVC(C=1000,kernel='rbf',random_state=0)\n",
    "clf.fit(X_train, y_train)\n",
    "confidence = clf.score(X_test, y_test)\n",
    "print('accuracy:',confidence)\n",
    "y_pred_test = clf.predict(X_test)\n",
    "print('predicted class counts:',Counter(y_pred_test))\n",
    "from sklearn.metrics import classification_report, confusion_matrix\n",
    "print(confusion_matrix(y_test, y_pred_test))\n",
    "print(classification_report(y_test, y_pred_test))"
   ]
  },
  {
   "cell_type": "markdown",
   "metadata": {
    "id": "_YhII_P3nE-W"
   },
   "source": [
    "Saving the model"
   ]
  },
  {
   "cell_type": "code",
   "execution_count": 15,
   "metadata": {
    "id": "4e9bz3GDnDJy"
   },
   "outputs": [],
   "source": [
    "import pickle\n",
    "pickle.dump(clf,open('Pickle_svm_sameday_stock3.pkl','wb'))"
   ]
  },
  {
   "cell_type": "code",
   "execution_count": 16,
   "metadata": {
    "colab": {
     "base_uri": "https://localhost:8080/"
    },
    "id": "cIYWbsFqkK6M",
    "outputId": "242e8c28-db16-4d51-d69d-0a635bd84ed4"
   },
   "outputs": [
    {
     "name": "stdout",
     "output_type": "stream",
     "text": [
      "Training-set accuracy score: 0.8739\n",
      "Training set score: 0.8739\n",
      "Test set score: 0.8712\n"
     ]
    }
   ],
   "source": [
    "from sklearn.metrics import accuracy_score\n",
    "# instantiate classifier with default hyperparam\n",
    "#Compare the train-set and test-set accuracy\n",
    "#compare the train-set and test-set accuracy to check for overfitting\n",
    "y_pred_train = clf.predict(X_train)\n",
    "#y_pred_train\n",
    "print('Training-set accuracy score: {0:0.4f}'. format(accuracy_score(y_train, y_pred_train)))\n",
    "# print the scores on training and test set\n",
    "print('Training set score: {:.4f}'.format(clf.score(X_train, y_train)))\n",
    "print('Test set score: {:.4f}'.format(clf.score(X_test, y_test)))\n",
    "#Compare model accuracy with null accuracy.Null accuracy is the accuracy that could be achieved by always predicting the most frequent class.\n"
   ]
  },
  {
   "cell_type": "code",
   "execution_count": 17,
   "metadata": {
    "colab": {
     "base_uri": "https://localhost:8080/"
    },
    "id": "kAvPAE91lfHL",
    "outputId": "d5d9f72d-69d0-43a6-e203-f36f320933f1"
   },
   "outputs": [
    {
     "name": "stdout",
     "output_type": "stream",
     "text": [
      "Confusion matrix\n",
      "\n",
      " [[5413  852]\n",
      " [ 737 5337]]\n",
      "\n",
      "True Positives(TP) =  5413\n",
      "\n",
      "True Negatives(TN) =  5337\n",
      "\n",
      "False Positives(FP) =  852\n",
      "\n",
      "False Negatives(FN) =  737\n"
     ]
    }
   ],
   "source": [
    "# The problem is that accuracy is an inadequate measure for quantifying predictive performance in the imbalanced dataset problem.\n",
    "#One such metric to analyze the model performance in imbalanced classes problem is Confusion matrix.\n",
    "# Print the Confusion Matrix and slice it into four pieces\n",
    "from sklearn.metrics import confusion_matrix\n",
    "cm = confusion_matrix(y_test, y_pred_test)\n",
    "print('Confusion matrix\\n\\n', cm)\n",
    "print('\\nTrue Positives(TP) = ', cm[0,0])\n",
    "print('\\nTrue Negatives(TN) = ', cm[1,1])\n",
    "print('\\nFalse Positives(FP) = ', cm[0,1])\n",
    "print('\\nFalse Negatives(FN) = ', cm[1,0])"
   ]
  },
  {
   "cell_type": "code",
   "execution_count": 18,
   "metadata": {
    "colab": {
     "base_uri": "https://localhost:8080/",
     "height": 282
    },
    "id": "OzPMqzvYlirr",
    "outputId": "8ffac901-0776-413b-9c9e-c0ada024f1fb"
   },
   "outputs": [
    {
     "data": {
      "text/plain": [
       "<AxesSubplot:>"
      ]
     },
     "execution_count": 18,
     "metadata": {},
     "output_type": "execute_result"
    },
    {
     "data": {
      "image/png": "[encoded data removed]",
      "text/plain": [
       "<Figure size 432x288 with 2 Axes>"
      ]
     },
     "metadata": {
      "needs_background": "light"
     },
     "output_type": "display_data"
    }
   ],
   "source": [
    "# visualize confusion matrix with seaborn heatmap\n",
    "cm_matrix = pd.DataFrame(data=cm, columns=['Actual Positive:1', 'Actual Negative:0'], \n",
    "                                 index=['Predict Positive:1', 'Predict Negative:0'])\n",
    "\n",
    "sns.heatmap(cm_matrix, annot=True, fmt='d', cmap='YlGnBu')"
   ]
  },
  {
   "cell_type": "code",
   "execution_count": 19,
   "metadata": {
    "colab": {
     "base_uri": "https://localhost:8080/"
    },
    "id": "Zvl044VNlmvn",
    "outputId": "dee25e20-d195-4977-82d5-57b163ef7d3e"
   },
   "outputs": [
    {
     "name": "stdout",
     "output_type": "stream",
     "text": [
      "              precision    recall  f1-score   support\n",
      "\n",
      "           0       0.88      0.86      0.87      6265\n",
      "           1       0.86      0.88      0.87      6074\n",
      "\n",
      "    accuracy                           0.87     12339\n",
      "   macro avg       0.87      0.87      0.87     12339\n",
      "weighted avg       0.87      0.87      0.87     12339\n",
      "\n"
     ]
    }
   ],
   "source": [
    "#Classification report is another way to evaluate the classification model performance. It displays the precision, recall, f1 and support scores for the model. \n",
    "from sklearn.metrics import classification_report\n",
    "print(classification_report(y_test, y_pred_test))"
   ]
  },
  {
   "cell_type": "code",
   "execution_count": 20,
   "metadata": {
    "colab": {
     "base_uri": "https://localhost:8080/"
    },
    "id": "7PtE4sIKlp_J",
    "outputId": "10924ac5-de0d-425c-a65b-fd2d324da2e5"
   },
   "outputs": [
    {
     "name": "stdout",
     "output_type": "stream",
     "text": [
      "Classification accuracy : 0.8712\n"
     ]
    }
   ],
   "source": [
    "TP = cm[0,0]\n",
    "TN = cm[1,1]\n",
    "FP = cm[0,1]\n",
    "FN = cm[1,0]\n",
    "# print classification accuracy\n",
    "classification_accuracy = (TP + TN) / float(TP + TN + FP + FN)\n",
    "print('Classification accuracy : {0:0.4f}'.format(classification_accuracy))"
   ]
  },
  {
   "cell_type": "code",
   "execution_count": 21,
   "metadata": {
    "colab": {
     "base_uri": "https://localhost:8080/"
    },
    "id": "6vFiDqOolti5",
    "outputId": "6a346e93-938a-4837-ead3-020760d5ffdb"
   },
   "outputs": [
    {
     "name": "stdout",
     "output_type": "stream",
     "text": [
      "Classification error : 0.1288\n",
      "Precision : 0.8640\n",
      "Recall or Sensitivity : 0.8802\n",
      "True Positive Rate : 0.8802\n",
      "False Positive Rate : 0.1377\n",
      "Specificity : 0.8623\n"
     ]
    }
   ],
   "source": [
    "# print classification error\n",
    "classification_error = (FP + FN) / float(TP + TN + FP + FN)\n",
    "print('Classification error : {0:0.4f}'.format(classification_error))\n",
    "#Precision can be defined as the percentage of correctly predicted positive outcomes out of all the predicted positive outcomes.\n",
    "# print precision score\n",
    "precision = TP / float(TP + FP)\n",
    "print('Precision : {0:0.4f}'.format(precision))\n",
    "#Recall can be defined as the percentage of correctly predicted positive outcomes out of all the actual positive outcomes.\n",
    "recall = TP / float(TP + FN)\n",
    "print('Recall or Sensitivity : {0:0.4f}'.format(recall))\n",
    "#True Positive Rate is synonymous with Recall.\n",
    "true_positive_rate = TP / float(TP + FN)\n",
    "print('True Positive Rate : {0:0.4f}'.format(true_positive_rate))\n",
    "#False Positive Rate\n",
    "false_positive_rate = FP / float(FP + TN)\n",
    "print('False Positive Rate : {0:0.4f}'.format(false_positive_rate))\n",
    "#specificity\n",
    "specificity = TN / (TN + FP)\n",
    "print('Specificity : {0:0.4f}'.format(specificity))\n",
    "#f1-score is the weighted harmonic mean of precision and recall. The best possible f1-score would be 1.0 and the worst would be 0.0.\n",
    "#Support is the actual number of occurrences of the class in our dataset.\n"
   ]
  },
  {
   "cell_type": "code",
   "execution_count": 22,
   "metadata": {
    "colab": {
     "base_uri": "https://localhost:8080/",
     "height": 330
    },
    "id": "0moo1iZxlwCs",
    "outputId": "746fe456-8e70-4fc9-8ee1-90dcbd0b3ef1"
   },
   "outputs": [
    {
     "data": {
      "image/png": "[encoded data removed]",
      "text/plain": [
       "<Figure size 432x288 with 1 Axes>"
      ]
     },
     "metadata": {
      "needs_background": "light"
     },
     "output_type": "display_data"
    },
    {
     "name": "stdout",
     "output_type": "stream",
     "text": [
      "ROC AUC : 0.8713\n",
      "Cross validated ROC AUC : 0.9437\n"
     ]
    }
   ],
   "source": [
    "#ROC - AUC \n",
    "#ROC Curve stands for Receiver Operating Characteristic Curve. An ROC Curve is a plot which shows the performance of a classification model at various classification threshold levels.\n",
    "#The ROC Curve plots the True Positive Rate (TPR) against the False Positive Rate (FPR) at various threshold levels.\n",
    "# plot ROC Curve\n",
    "from sklearn.metrics import roc_curve\n",
    "fpr, tpr, thresholds = roc_curve(y_test, y_pred_test)\n",
    "plt.figure(figsize=(6,4))\n",
    "plt.plot(fpr, tpr, linewidth=2)\n",
    "plt.plot([0,1], [0,1], 'k--' )\n",
    "plt.rcParams['font.size'] = 12\n",
    "plt.title('ROC curve')\n",
    "plt.xlabel('False Positive Rate (1 - Specificity)')\n",
    "plt.ylabel('True Positive Rate (Sensitivity)')\n",
    "plt.show()\n",
    "#ROC curve help us to choose a threshold level that balances sensitivity and specificity for a particular context.\n",
    "#ROC AUC-ROC AUC stands for Receiver Operating Characteristic - Area Under Curve\n",
    "#A perfect classifier will have a ROC AUC equal to 1, whereas a purely random classifier will have a ROC AUC equal to 0.5.\n",
    "# compute ROC AUC\n",
    "from sklearn.metrics import roc_auc_score\n",
    "ROC_AUC = roc_auc_score(y_test, y_pred_test)\n",
    "print('ROC AUC : {:.4f}'.format(ROC_AUC))\n",
    "#ROC AUC is a single number summary of classifier performance. The higher the value, the better the classifier.\n",
    "# calculate cross-validated ROC AUC \n",
    "from sklearn.model_selection import cross_val_score\n",
    "Cross_validated_ROC_AUC = cross_val_score(clf, X_train, y_train, cv=10, scoring='roc_auc').mean()\n",
    "print('Cross validated ROC AUC : {:.4f}'.format(Cross_validated_ROC_AUC))"
   ]
  }
 ],
 "metadata": {
  "colab": {
   "collapsed_sections": [],
   "name": "_SVM_sameday_sentiment_RBF_final_stockdata.ipynb",
   "provenance": []
  },
  "kernelspec": {
   "display_name": "Python 3 (ipykernel)",
   "language": "python",
   "name": "python3"
  },
  "language_info": {
   "codemirror_mode": {
    "name": "ipython",
    "version": 3
   },
   "file_extension": ".py",
   "mimetype": "text/x-python",
   "name": "python",
   "nbconvert_exporter": "python",
   "pygments_lexer": "ipython3",
   "version": "3.7.10"
  }
 },
 "nbformat": 4,
 "nbformat_minor": 1
}
