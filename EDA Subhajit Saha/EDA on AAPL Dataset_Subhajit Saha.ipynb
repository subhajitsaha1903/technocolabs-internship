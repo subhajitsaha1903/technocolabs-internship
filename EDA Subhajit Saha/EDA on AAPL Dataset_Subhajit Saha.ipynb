{
 "cells": [
  {
   "cell_type": "markdown",
   "id": "4be18589",
   "metadata": {},
   "source": [
    "# EDA on NASDAQ Dataset of AAPL\n",
    "===================================================================================================\n",
    "## Project - Stock Price Prediction Using NASDAQ Dataset"
   ]
  },
  {
   "cell_type": "markdown",
   "id": "ccedfd5d",
   "metadata": {},
   "source": [
    "### Author: Subhajit Saha\n",
    "### We have collected dataset from NASDAQ portal for five diffrent companies (Apple, Amazon, Microsoft, Tesla, JP Morgan) for last 6 months."
   ]
  },
  {
   "cell_type": "markdown",
   "id": "186e08a5",
   "metadata": {},
   "source": [
    "***Apple dataset url: https://www.nasdaq.com/market-activity/stocks/aapl***"
   ]
  },
  {
   "cell_type": "markdown",
   "id": "0226e952",
   "metadata": {},
   "source": [
    "## Apple Dataset Analysis"
   ]
  },
  {
   "cell_type": "code",
   "execution_count": 1,
   "id": "2ef4465a",
   "metadata": {},
   "outputs": [],
   "source": [
    "# importing warnings to remove all warnings\n",
    "import warnings\n",
    "warnings.filterwarnings('ignore')"
   ]
  },
  {
   "cell_type": "code",
   "execution_count": 2,
   "id": "737c6c9c",
   "metadata": {},
   "outputs": [],
   "source": [
    "# importing necessary libraries\n",
    "import pandas as pd\n",
    "import numpy as np\n",
    "import os\n",
    "import matplotlib.pyplot as plt\n",
    "import seaborn as sns\n",
    "import math\n",
    "\n",
    "%matplotlib inline"
   ]
  },
  {
   "cell_type": "code",
   "execution_count": 3,
   "id": "d1e81bf1",
   "metadata": {},
   "outputs": [],
   "source": [
    "# selecting matplotlib figure size\n",
    "from matplotlib.pylab import rcParams\n",
    "rcParams['figure.figsize'] = 14, 8"
   ]
  },
  {
   "cell_type": "markdown",
   "id": "0b355de5",
   "metadata": {},
   "source": [
    "## Exploratory Data Analysis"
   ]
  },
  {
   "cell_type": "code",
   "execution_count": 4,
   "id": "62dbc583",
   "metadata": {},
   "outputs": [
    {
     "data": {
      "text/html": [
       "<div>\n",
       "<style scoped>\n",
       "    .dataframe tbody tr th:only-of-type {\n",
       "        vertical-align: middle;\n",
       "    }\n",
       "\n",
       "    .dataframe tbody tr th {\n",
       "        vertical-align: top;\n",
       "    }\n",
       "\n",
       "    .dataframe thead th {\n",
       "        text-align: right;\n",
       "    }\n",
       "</style>\n",
       "<table border=\"1\" class=\"dataframe\">\n",
       "  <thead>\n",
       "    <tr style=\"text-align: right;\">\n",
       "      <th></th>\n",
       "      <th>Date</th>\n",
       "      <th>Close/Last</th>\n",
       "      <th>Volume</th>\n",
       "      <th>Open</th>\n",
       "      <th>High</th>\n",
       "      <th>Low</th>\n",
       "    </tr>\n",
       "  </thead>\n",
       "  <tbody>\n",
       "    <tr>\n",
       "      <th>0</th>\n",
       "      <td>09/24/2021</td>\n",
       "      <td>$146.92</td>\n",
       "      <td>53477870</td>\n",
       "      <td>$145.66</td>\n",
       "      <td>$147.4701</td>\n",
       "      <td>$145.56</td>\n",
       "    </tr>\n",
       "    <tr>\n",
       "      <th>1</th>\n",
       "      <td>09/23/2021</td>\n",
       "      <td>$146.83</td>\n",
       "      <td>64838170</td>\n",
       "      <td>$146.65</td>\n",
       "      <td>$147.08</td>\n",
       "      <td>$145.64</td>\n",
       "    </tr>\n",
       "    <tr>\n",
       "      <th>2</th>\n",
       "      <td>09/22/2021</td>\n",
       "      <td>$145.85</td>\n",
       "      <td>76404340</td>\n",
       "      <td>$144.45</td>\n",
       "      <td>$146.43</td>\n",
       "      <td>$143.7001</td>\n",
       "    </tr>\n",
       "    <tr>\n",
       "      <th>3</th>\n",
       "      <td>09/21/2021</td>\n",
       "      <td>$143.43</td>\n",
       "      <td>75833960</td>\n",
       "      <td>$143.93</td>\n",
       "      <td>$144.6</td>\n",
       "      <td>$142.78</td>\n",
       "    </tr>\n",
       "    <tr>\n",
       "      <th>4</th>\n",
       "      <td>09/20/2021</td>\n",
       "      <td>$142.94</td>\n",
       "      <td>123478900</td>\n",
       "      <td>$143.8</td>\n",
       "      <td>$144.84</td>\n",
       "      <td>$141.27</td>\n",
       "    </tr>\n",
       "  </tbody>\n",
       "</table>\n",
       "</div>"
      ],
      "text/plain": [
       "         Date Close/Last     Volume     Open       High        Low\n",
       "0  09/24/2021    $146.92   53477870  $145.66  $147.4701    $145.56\n",
       "1  09/23/2021    $146.83   64838170  $146.65    $147.08    $145.64\n",
       "2  09/22/2021    $145.85   76404340  $144.45    $146.43  $143.7001\n",
       "3  09/21/2021    $143.43   75833960  $143.93     $144.6    $142.78\n",
       "4  09/20/2021    $142.94  123478900   $143.8    $144.84    $141.27"
      ]
     },
     "execution_count": 4,
     "metadata": {},
     "output_type": "execute_result"
    }
   ],
   "source": [
    "# loading the csv dataset from NASDAQ portal using pandas\n",
    "df_AAPL = pd.read_csv('AAPL_6M_HistoricalData_1632690834782.csv')\n",
    "df_AAPL.head()"
   ]
  },
  {
   "cell_type": "code",
   "execution_count": 5,
   "id": "c60bc6e1",
   "metadata": {},
   "outputs": [
    {
     "data": {
      "text/html": [
       "<div>\n",
       "<style scoped>\n",
       "    .dataframe tbody tr th:only-of-type {\n",
       "        vertical-align: middle;\n",
       "    }\n",
       "\n",
       "    .dataframe tbody tr th {\n",
       "        vertical-align: top;\n",
       "    }\n",
       "\n",
       "    .dataframe thead th {\n",
       "        text-align: right;\n",
       "    }\n",
       "</style>\n",
       "<table border=\"1\" class=\"dataframe\">\n",
       "  <thead>\n",
       "    <tr style=\"text-align: right;\">\n",
       "      <th></th>\n",
       "      <th>Date</th>\n",
       "      <th>Close/Last</th>\n",
       "      <th>Volume</th>\n",
       "      <th>Open</th>\n",
       "      <th>High</th>\n",
       "      <th>Low</th>\n",
       "    </tr>\n",
       "  </thead>\n",
       "  <tbody>\n",
       "    <tr>\n",
       "      <th>0</th>\n",
       "      <td>09/24/2021</td>\n",
       "      <td>$146.92</td>\n",
       "      <td>53477870</td>\n",
       "      <td>$145.66</td>\n",
       "      <td>$147.4701</td>\n",
       "      <td>$145.56</td>\n",
       "    </tr>\n",
       "    <tr>\n",
       "      <th>1</th>\n",
       "      <td>09/23/2021</td>\n",
       "      <td>$146.83</td>\n",
       "      <td>64838170</td>\n",
       "      <td>$146.65</td>\n",
       "      <td>$147.08</td>\n",
       "      <td>$145.64</td>\n",
       "    </tr>\n",
       "    <tr>\n",
       "      <th>2</th>\n",
       "      <td>09/22/2021</td>\n",
       "      <td>$145.85</td>\n",
       "      <td>76404340</td>\n",
       "      <td>$144.45</td>\n",
       "      <td>$146.43</td>\n",
       "      <td>$143.7001</td>\n",
       "    </tr>\n",
       "    <tr>\n",
       "      <th>3</th>\n",
       "      <td>09/21/2021</td>\n",
       "      <td>$143.43</td>\n",
       "      <td>75833960</td>\n",
       "      <td>$143.93</td>\n",
       "      <td>$144.6</td>\n",
       "      <td>$142.78</td>\n",
       "    </tr>\n",
       "    <tr>\n",
       "      <th>4</th>\n",
       "      <td>09/20/2021</td>\n",
       "      <td>$142.94</td>\n",
       "      <td>123478900</td>\n",
       "      <td>$143.8</td>\n",
       "      <td>$144.84</td>\n",
       "      <td>$141.27</td>\n",
       "    </tr>\n",
       "    <tr>\n",
       "      <th>5</th>\n",
       "      <td>09/17/2021</td>\n",
       "      <td>$146.06</td>\n",
       "      <td>129868800</td>\n",
       "      <td>$148.82</td>\n",
       "      <td>$148.82</td>\n",
       "      <td>$145.76</td>\n",
       "    </tr>\n",
       "    <tr>\n",
       "      <th>6</th>\n",
       "      <td>09/16/2021</td>\n",
       "      <td>$148.79</td>\n",
       "      <td>68034150</td>\n",
       "      <td>$148.44</td>\n",
       "      <td>$148.97</td>\n",
       "      <td>$147.221</td>\n",
       "    </tr>\n",
       "    <tr>\n",
       "      <th>7</th>\n",
       "      <td>09/15/2021</td>\n",
       "      <td>$149.03</td>\n",
       "      <td>83281320</td>\n",
       "      <td>$148.56</td>\n",
       "      <td>$149.44</td>\n",
       "      <td>$146.37</td>\n",
       "    </tr>\n",
       "    <tr>\n",
       "      <th>8</th>\n",
       "      <td>09/14/2021</td>\n",
       "      <td>$148.12</td>\n",
       "      <td>109296300</td>\n",
       "      <td>$150.35</td>\n",
       "      <td>$151.07</td>\n",
       "      <td>$146.91</td>\n",
       "    </tr>\n",
       "    <tr>\n",
       "      <th>9</th>\n",
       "      <td>09/13/2021</td>\n",
       "      <td>$149.55</td>\n",
       "      <td>102404300</td>\n",
       "      <td>$150.63</td>\n",
       "      <td>$151.42</td>\n",
       "      <td>$148.75</td>\n",
       "    </tr>\n",
       "  </tbody>\n",
       "</table>\n",
       "</div>"
      ],
      "text/plain": [
       "         Date Close/Last     Volume     Open       High        Low\n",
       "0  09/24/2021    $146.92   53477870  $145.66  $147.4701    $145.56\n",
       "1  09/23/2021    $146.83   64838170  $146.65    $147.08    $145.64\n",
       "2  09/22/2021    $145.85   76404340  $144.45    $146.43  $143.7001\n",
       "3  09/21/2021    $143.43   75833960  $143.93     $144.6    $142.78\n",
       "4  09/20/2021    $142.94  123478900   $143.8    $144.84    $141.27\n",
       "5  09/17/2021    $146.06  129868800  $148.82    $148.82    $145.76\n",
       "6  09/16/2021    $148.79   68034150  $148.44    $148.97   $147.221\n",
       "7  09/15/2021    $149.03   83281320  $148.56    $149.44    $146.37\n",
       "8  09/14/2021    $148.12  109296300  $150.35    $151.07    $146.91\n",
       "9  09/13/2021    $149.55  102404300  $150.63    $151.42    $148.75"
      ]
     },
     "execution_count": 5,
     "metadata": {},
     "output_type": "execute_result"
    }
   ],
   "source": [
    "# view the first 10 rows from the csv file\n",
    "df_AAPL.head(10)"
   ]
  },
  {
   "cell_type": "code",
   "execution_count": 6,
   "id": "9e974a95",
   "metadata": {},
   "outputs": [
    {
     "data": {
      "text/html": [
       "<div>\n",
       "<style scoped>\n",
       "    .dataframe tbody tr th:only-of-type {\n",
       "        vertical-align: middle;\n",
       "    }\n",
       "\n",
       "    .dataframe tbody tr th {\n",
       "        vertical-align: top;\n",
       "    }\n",
       "\n",
       "    .dataframe thead th {\n",
       "        text-align: right;\n",
       "    }\n",
       "</style>\n",
       "<table border=\"1\" class=\"dataframe\">\n",
       "  <thead>\n",
       "    <tr style=\"text-align: right;\">\n",
       "      <th></th>\n",
       "      <th>Date</th>\n",
       "      <th>Close/Last</th>\n",
       "      <th>Volume</th>\n",
       "      <th>Open</th>\n",
       "      <th>High</th>\n",
       "      <th>Low</th>\n",
       "    </tr>\n",
       "  </thead>\n",
       "  <tbody>\n",
       "    <tr>\n",
       "      <th>121</th>\n",
       "      <td>04/05/2021</td>\n",
       "      <td>$125.9</td>\n",
       "      <td>88651180</td>\n",
       "      <td>$123.87</td>\n",
       "      <td>$126.1601</td>\n",
       "      <td>$123.07</td>\n",
       "    </tr>\n",
       "    <tr>\n",
       "      <th>122</th>\n",
       "      <td>04/01/2021</td>\n",
       "      <td>$123</td>\n",
       "      <td>75089130</td>\n",
       "      <td>$123.66</td>\n",
       "      <td>$124.18</td>\n",
       "      <td>$122.49</td>\n",
       "    </tr>\n",
       "    <tr>\n",
       "      <th>123</th>\n",
       "      <td>03/31/2021</td>\n",
       "      <td>$122.15</td>\n",
       "      <td>118323800</td>\n",
       "      <td>$121.65</td>\n",
       "      <td>$123.52</td>\n",
       "      <td>$121.15</td>\n",
       "    </tr>\n",
       "    <tr>\n",
       "      <th>124</th>\n",
       "      <td>03/30/2021</td>\n",
       "      <td>$119.9</td>\n",
       "      <td>85671920</td>\n",
       "      <td>$120.11</td>\n",
       "      <td>$120.4031</td>\n",
       "      <td>$118.86</td>\n",
       "    </tr>\n",
       "    <tr>\n",
       "      <th>125</th>\n",
       "      <td>03/29/2021</td>\n",
       "      <td>$121.39</td>\n",
       "      <td>80819200</td>\n",
       "      <td>$121.65</td>\n",
       "      <td>$122.58</td>\n",
       "      <td>$120.7299</td>\n",
       "    </tr>\n",
       "  </tbody>\n",
       "</table>\n",
       "</div>"
      ],
      "text/plain": [
       "           Date Close/Last     Volume     Open       High        Low\n",
       "121  04/05/2021     $125.9   88651180  $123.87  $126.1601    $123.07\n",
       "122  04/01/2021       $123   75089130  $123.66    $124.18    $122.49\n",
       "123  03/31/2021    $122.15  118323800  $121.65    $123.52    $121.15\n",
       "124  03/30/2021     $119.9   85671920  $120.11  $120.4031    $118.86\n",
       "125  03/29/2021    $121.39   80819200  $121.65    $122.58  $120.7299"
      ]
     },
     "execution_count": 6,
     "metadata": {},
     "output_type": "execute_result"
    }
   ],
   "source": [
    "# view the last 5 lines of the dataset\n",
    "df_AAPL.tail()"
   ]
  },
  {
   "cell_type": "code",
   "execution_count": 7,
   "id": "4c6cd20c",
   "metadata": {},
   "outputs": [
    {
     "data": {
      "text/plain": [
       "Date          object\n",
       "Close/Last    object\n",
       "Volume         int64\n",
       "Open          object\n",
       "High          object\n",
       "Low           object\n",
       "dtype: object"
      ]
     },
     "execution_count": 7,
     "metadata": {},
     "output_type": "execute_result"
    }
   ],
   "source": [
    "df_AAPL.dtypes\n",
    "# checking the datatypes"
   ]
  },
  {
   "cell_type": "code",
   "execution_count": 8,
   "id": "dd27a74e",
   "metadata": {},
   "outputs": [
    {
     "data": {
      "text/plain": [
       "(126, 6)"
      ]
     },
     "execution_count": 8,
     "metadata": {},
     "output_type": "execute_result"
    }
   ],
   "source": [
    "# checking the shape of the dataframe\n",
    "df_AAPL.shape"
   ]
  },
  {
   "cell_type": "code",
   "execution_count": 9,
   "id": "dd0c786a",
   "metadata": {},
   "outputs": [
    {
     "data": {
      "text/plain": [
       "Index(['Date', 'Close/Last', 'Volume', 'Open', 'High', 'Low'], dtype='object')"
      ]
     },
     "execution_count": 9,
     "metadata": {},
     "output_type": "execute_result"
    }
   ],
   "source": [
    "# checking the columns\n",
    "df_AAPL.columns"
   ]
  },
  {
   "cell_type": "code",
   "execution_count": 10,
   "id": "9512ab16",
   "metadata": {},
   "outputs": [
    {
     "name": "stdout",
     "output_type": "stream",
     "text": [
      "<class 'pandas.core.frame.DataFrame'>\n",
      "RangeIndex: 126 entries, 0 to 125\n",
      "Data columns (total 6 columns):\n",
      " #   Column      Non-Null Count  Dtype \n",
      "---  ------      --------------  ----- \n",
      " 0   Date        126 non-null    object\n",
      " 1   Close/Last  126 non-null    object\n",
      " 2   Volume      126 non-null    int64 \n",
      " 3   Open        126 non-null    object\n",
      " 4   High        126 non-null    object\n",
      " 5   Low         126 non-null    object\n",
      "dtypes: int64(1), object(5)\n",
      "memory usage: 6.0+ KB\n"
     ]
    }
   ],
   "source": [
    "df_AAPL.info()"
   ]
  },
  {
   "cell_type": "code",
   "execution_count": 11,
   "id": "9e3a487d",
   "metadata": {},
   "outputs": [
    {
     "data": {
      "text/html": [
       "<div>\n",
       "<style scoped>\n",
       "    .dataframe tbody tr th:only-of-type {\n",
       "        vertical-align: middle;\n",
       "    }\n",
       "\n",
       "    .dataframe tbody tr th {\n",
       "        vertical-align: top;\n",
       "    }\n",
       "\n",
       "    .dataframe thead th {\n",
       "        text-align: right;\n",
       "    }\n",
       "</style>\n",
       "<table border=\"1\" class=\"dataframe\">\n",
       "  <thead>\n",
       "    <tr style=\"text-align: right;\">\n",
       "      <th></th>\n",
       "      <th>Close/Last</th>\n",
       "      <th>Volume</th>\n",
       "      <th>Open</th>\n",
       "      <th>High</th>\n",
       "      <th>Low</th>\n",
       "    </tr>\n",
       "    <tr>\n",
       "      <th>Date</th>\n",
       "      <th></th>\n",
       "      <th></th>\n",
       "      <th></th>\n",
       "      <th></th>\n",
       "      <th></th>\n",
       "    </tr>\n",
       "  </thead>\n",
       "  <tbody>\n",
       "    <tr>\n",
       "      <th>2021-09-24</th>\n",
       "      <td>$146.92</td>\n",
       "      <td>53477870</td>\n",
       "      <td>$145.66</td>\n",
       "      <td>$147.4701</td>\n",
       "      <td>$145.56</td>\n",
       "    </tr>\n",
       "    <tr>\n",
       "      <th>2021-09-23</th>\n",
       "      <td>$146.83</td>\n",
       "      <td>64838170</td>\n",
       "      <td>$146.65</td>\n",
       "      <td>$147.08</td>\n",
       "      <td>$145.64</td>\n",
       "    </tr>\n",
       "    <tr>\n",
       "      <th>2021-09-22</th>\n",
       "      <td>$145.85</td>\n",
       "      <td>76404340</td>\n",
       "      <td>$144.45</td>\n",
       "      <td>$146.43</td>\n",
       "      <td>$143.7001</td>\n",
       "    </tr>\n",
       "    <tr>\n",
       "      <th>2021-09-21</th>\n",
       "      <td>$143.43</td>\n",
       "      <td>75833960</td>\n",
       "      <td>$143.93</td>\n",
       "      <td>$144.6</td>\n",
       "      <td>$142.78</td>\n",
       "    </tr>\n",
       "    <tr>\n",
       "      <th>2021-09-20</th>\n",
       "      <td>$142.94</td>\n",
       "      <td>123478900</td>\n",
       "      <td>$143.8</td>\n",
       "      <td>$144.84</td>\n",
       "      <td>$141.27</td>\n",
       "    </tr>\n",
       "  </tbody>\n",
       "</table>\n",
       "</div>"
      ],
      "text/plain": [
       "           Close/Last     Volume     Open       High        Low\n",
       "Date                                                           \n",
       "2021-09-24    $146.92   53477870  $145.66  $147.4701    $145.56\n",
       "2021-09-23    $146.83   64838170  $146.65    $147.08    $145.64\n",
       "2021-09-22    $145.85   76404340  $144.45    $146.43  $143.7001\n",
       "2021-09-21    $143.43   75833960  $143.93     $144.6    $142.78\n",
       "2021-09-20    $142.94  123478900   $143.8    $144.84    $141.27"
      ]
     },
     "execution_count": 11,
     "metadata": {},
     "output_type": "execute_result"
    }
   ],
   "source": [
    "# making Date column as the index of the dataset\n",
    "df_AAPL = pd.read_csv('AAPL_6M_HistoricalData_1632690834782.csv', index_col='Date', parse_dates=True)\n",
    "df_AAPL.head()"
   ]
  },
  {
   "cell_type": "code",
   "execution_count": 12,
   "id": "28e13615",
   "metadata": {},
   "outputs": [
    {
     "data": {
      "image/png": "[encoded data removed]",
      "text/plain": [
       "<Figure size 1152x576 with 1 Axes>"
      ]
     },
     "metadata": {
      "needs_background": "light"
     },
     "output_type": "display_data"
    }
   ],
   "source": [
    "# visualize the volume of stock\n",
    "plt.figure(figsize=(16,8))\n",
    "plt.title(\"AAPL Stock Volume History\", fontsize=18)\n",
    "plt.plot(df_AAPL['Volume'])\n",
    "plt.xlabel(\"Date\", fontsize = 18)\n",
    "plt.ylabel(\"Stock Volume\", fontsize=18)\n",
    "plt.grid(True)\n",
    "plt.show()"
   ]
  },
  {
   "cell_type": "code",
   "execution_count": 13,
   "id": "8d2dd112",
   "metadata": {},
   "outputs": [
    {
     "data": {
      "text/html": [
       "<div>\n",
       "<style scoped>\n",
       "    .dataframe tbody tr th:only-of-type {\n",
       "        vertical-align: middle;\n",
       "    }\n",
       "\n",
       "    .dataframe tbody tr th {\n",
       "        vertical-align: top;\n",
       "    }\n",
       "\n",
       "    .dataframe thead th {\n",
       "        text-align: right;\n",
       "    }\n",
       "</style>\n",
       "<table border=\"1\" class=\"dataframe\">\n",
       "  <thead>\n",
       "    <tr style=\"text-align: right;\">\n",
       "      <th></th>\n",
       "      <th>Close/Last</th>\n",
       "    </tr>\n",
       "    <tr>\n",
       "      <th>Date</th>\n",
       "      <th></th>\n",
       "    </tr>\n",
       "  </thead>\n",
       "  <tbody>\n",
       "    <tr>\n",
       "      <th>2021-09-24</th>\n",
       "      <td>$146.92</td>\n",
       "    </tr>\n",
       "    <tr>\n",
       "      <th>2021-09-23</th>\n",
       "      <td>$146.83</td>\n",
       "    </tr>\n",
       "    <tr>\n",
       "      <th>2021-09-22</th>\n",
       "      <td>$145.85</td>\n",
       "    </tr>\n",
       "    <tr>\n",
       "      <th>2021-09-21</th>\n",
       "      <td>$143.43</td>\n",
       "    </tr>\n",
       "    <tr>\n",
       "      <th>2021-09-20</th>\n",
       "      <td>$142.94</td>\n",
       "    </tr>\n",
       "  </tbody>\n",
       "</table>\n",
       "</div>"
      ],
      "text/plain": [
       "           Close/Last\n",
       "Date                 \n",
       "2021-09-24    $146.92\n",
       "2021-09-23    $146.83\n",
       "2021-09-22    $145.85\n",
       "2021-09-21    $143.43\n",
       "2021-09-20    $142.94"
      ]
     },
     "execution_count": 13,
     "metadata": {},
     "output_type": "execute_result"
    }
   ],
   "source": [
    "# creating a new dataframe by selecting only Close/Last column and Date as index\n",
    "df_AAPL_new = df_AAPL.filter(['Date', 'Close/Last'], axis =1)\n",
    "df_AAPL_new.head()"
   ]
  },
  {
   "cell_type": "code",
   "execution_count": 14,
   "id": "35a60151",
   "metadata": {},
   "outputs": [
    {
     "data": {
      "text/html": [
       "<div>\n",
       "<style scoped>\n",
       "    .dataframe tbody tr th:only-of-type {\n",
       "        vertical-align: middle;\n",
       "    }\n",
       "\n",
       "    .dataframe tbody tr th {\n",
       "        vertical-align: top;\n",
       "    }\n",
       "\n",
       "    .dataframe thead th {\n",
       "        text-align: right;\n",
       "    }\n",
       "</style>\n",
       "<table border=\"1\" class=\"dataframe\">\n",
       "  <thead>\n",
       "    <tr style=\"text-align: right;\">\n",
       "      <th></th>\n",
       "      <th>Close/Last</th>\n",
       "    </tr>\n",
       "    <tr>\n",
       "      <th>Date</th>\n",
       "      <th></th>\n",
       "    </tr>\n",
       "  </thead>\n",
       "  <tbody>\n",
       "    <tr>\n",
       "      <th>2021-09-24</th>\n",
       "      <td>146.92</td>\n",
       "    </tr>\n",
       "    <tr>\n",
       "      <th>2021-09-23</th>\n",
       "      <td>146.83</td>\n",
       "    </tr>\n",
       "    <tr>\n",
       "      <th>2021-09-22</th>\n",
       "      <td>145.85</td>\n",
       "    </tr>\n",
       "    <tr>\n",
       "      <th>2021-09-21</th>\n",
       "      <td>143.43</td>\n",
       "    </tr>\n",
       "    <tr>\n",
       "      <th>2021-09-20</th>\n",
       "      <td>142.94</td>\n",
       "    </tr>\n",
       "  </tbody>\n",
       "</table>\n",
       "</div>"
      ],
      "text/plain": [
       "           Close/Last\n",
       "Date                 \n",
       "2021-09-24     146.92\n",
       "2021-09-23     146.83\n",
       "2021-09-22     145.85\n",
       "2021-09-21     143.43\n",
       "2021-09-20     142.94"
      ]
     },
     "execution_count": 14,
     "metadata": {},
     "output_type": "execute_result"
    }
   ],
   "source": [
    "# We need to convert the datatype of Close/Last column, from object to float\n",
    "df_AAPL_new['Close/Last'] = df_AAPL_new['Close/Last'].str.replace('$', '')\n",
    "df_AAPL_new.head()"
   ]
  },
  {
   "cell_type": "code",
   "execution_count": 15,
   "id": "c7b58b1f",
   "metadata": {},
   "outputs": [],
   "source": [
    "df_AAPL_new['Close/Last'] = df_AAPL_new['Close/Last'].astype(float)"
   ]
  },
  {
   "cell_type": "code",
   "execution_count": 16,
   "id": "3ef7926e",
   "metadata": {},
   "outputs": [],
   "source": [
    "# # changing the column name from 'Close/Last' to Stock_Closing_Price\n",
    "# df_AAPL_new.columns = ['Stock_Closing_Price ']\n",
    "# df_AAPL_new.head()"
   ]
  },
  {
   "cell_type": "code",
   "execution_count": 17,
   "id": "a93051f0",
   "metadata": {},
   "outputs": [
    {
     "name": "stdout",
     "output_type": "stream",
     "text": [
      "<class 'pandas.core.frame.DataFrame'>\n",
      "DatetimeIndex: 126 entries, 2021-09-24 to 2021-03-29\n",
      "Data columns (total 1 columns):\n",
      " #   Column      Non-Null Count  Dtype  \n",
      "---  ------      --------------  -----  \n",
      " 0   Close/Last  126 non-null    float64\n",
      "dtypes: float64(1)\n",
      "memory usage: 2.0 KB\n"
     ]
    }
   ],
   "source": [
    "# verifying whether the datatype of 'Close/Last' column has changed to float or not\n",
    "df_AAPL_new.info()"
   ]
  },
  {
   "cell_type": "code",
   "execution_count": 18,
   "id": "af76b662",
   "metadata": {},
   "outputs": [],
   "source": [
    "# checking for missing values in the dataframe"
   ]
  },
  {
   "cell_type": "code",
   "execution_count": 19,
   "id": "4c35d1ad",
   "metadata": {},
   "outputs": [
    {
     "data": {
      "text/html": [
       "<div>\n",
       "<style scoped>\n",
       "    .dataframe tbody tr th:only-of-type {\n",
       "        vertical-align: middle;\n",
       "    }\n",
       "\n",
       "    .dataframe tbody tr th {\n",
       "        vertical-align: top;\n",
       "    }\n",
       "\n",
       "    .dataframe thead th {\n",
       "        text-align: right;\n",
       "    }\n",
       "</style>\n",
       "<table border=\"1\" class=\"dataframe\">\n",
       "  <thead>\n",
       "    <tr style=\"text-align: right;\">\n",
       "      <th></th>\n",
       "      <th>Close/Last</th>\n",
       "    </tr>\n",
       "    <tr>\n",
       "      <th>Date</th>\n",
       "      <th></th>\n",
       "    </tr>\n",
       "  </thead>\n",
       "  <tbody>\n",
       "    <tr>\n",
       "      <th>2021-09-24</th>\n",
       "      <td>False</td>\n",
       "    </tr>\n",
       "    <tr>\n",
       "      <th>2021-09-23</th>\n",
       "      <td>False</td>\n",
       "    </tr>\n",
       "    <tr>\n",
       "      <th>2021-09-22</th>\n",
       "      <td>False</td>\n",
       "    </tr>\n",
       "    <tr>\n",
       "      <th>2021-09-21</th>\n",
       "      <td>False</td>\n",
       "    </tr>\n",
       "    <tr>\n",
       "      <th>2021-09-20</th>\n",
       "      <td>False</td>\n",
       "    </tr>\n",
       "    <tr>\n",
       "      <th>...</th>\n",
       "      <td>...</td>\n",
       "    </tr>\n",
       "    <tr>\n",
       "      <th>2021-04-05</th>\n",
       "      <td>False</td>\n",
       "    </tr>\n",
       "    <tr>\n",
       "      <th>2021-04-01</th>\n",
       "      <td>False</td>\n",
       "    </tr>\n",
       "    <tr>\n",
       "      <th>2021-03-31</th>\n",
       "      <td>False</td>\n",
       "    </tr>\n",
       "    <tr>\n",
       "      <th>2021-03-30</th>\n",
       "      <td>False</td>\n",
       "    </tr>\n",
       "    <tr>\n",
       "      <th>2021-03-29</th>\n",
       "      <td>False</td>\n",
       "    </tr>\n",
       "  </tbody>\n",
       "</table>\n",
       "<p>126 rows × 1 columns</p>\n",
       "</div>"
      ],
      "text/plain": [
       "            Close/Last\n",
       "Date                  \n",
       "2021-09-24       False\n",
       "2021-09-23       False\n",
       "2021-09-22       False\n",
       "2021-09-21       False\n",
       "2021-09-20       False\n",
       "...                ...\n",
       "2021-04-05       False\n",
       "2021-04-01       False\n",
       "2021-03-31       False\n",
       "2021-03-30       False\n",
       "2021-03-29       False\n",
       "\n",
       "[126 rows x 1 columns]"
      ]
     },
     "execution_count": 19,
     "metadata": {},
     "output_type": "execute_result"
    }
   ],
   "source": [
    "df_AAPL_new.isnull()"
   ]
  },
  {
   "cell_type": "code",
   "execution_count": 20,
   "id": "2fb25c80",
   "metadata": {},
   "outputs": [
    {
     "data": {
      "text/plain": [
       "Close/Last    0\n",
       "dtype: int64"
      ]
     },
     "execution_count": 20,
     "metadata": {},
     "output_type": "execute_result"
    }
   ],
   "source": [
    "# checking if there is any missing value or not in the dataset\n",
    "df_AAPL_new.isnull().sum()"
   ]
  },
  {
   "cell_type": "code",
   "execution_count": 21,
   "id": "250f8199",
   "metadata": {},
   "outputs": [
    {
     "data": {
      "text/html": [
       "<div>\n",
       "<style scoped>\n",
       "    .dataframe tbody tr th:only-of-type {\n",
       "        vertical-align: middle;\n",
       "    }\n",
       "\n",
       "    .dataframe tbody tr th {\n",
       "        vertical-align: top;\n",
       "    }\n",
       "\n",
       "    .dataframe thead th {\n",
       "        text-align: right;\n",
       "    }\n",
       "</style>\n",
       "<table border=\"1\" class=\"dataframe\">\n",
       "  <thead>\n",
       "    <tr style=\"text-align: right;\">\n",
       "      <th></th>\n",
       "      <th>Close/Last</th>\n",
       "    </tr>\n",
       "    <tr>\n",
       "      <th>Date</th>\n",
       "      <th></th>\n",
       "    </tr>\n",
       "  </thead>\n",
       "  <tbody>\n",
       "    <tr>\n",
       "      <th>2021-09-24</th>\n",
       "      <td>146.92</td>\n",
       "    </tr>\n",
       "    <tr>\n",
       "      <th>2021-09-23</th>\n",
       "      <td>146.83</td>\n",
       "    </tr>\n",
       "    <tr>\n",
       "      <th>2021-09-22</th>\n",
       "      <td>145.85</td>\n",
       "    </tr>\n",
       "    <tr>\n",
       "      <th>2021-09-21</th>\n",
       "      <td>143.43</td>\n",
       "    </tr>\n",
       "    <tr>\n",
       "      <th>2021-09-20</th>\n",
       "      <td>142.94</td>\n",
       "    </tr>\n",
       "  </tbody>\n",
       "</table>\n",
       "</div>"
      ],
      "text/plain": [
       "            Close/Last\n",
       "Date                  \n",
       "2021-09-24      146.92\n",
       "2021-09-23      146.83\n",
       "2021-09-22      145.85\n",
       "2021-09-21      143.43\n",
       "2021-09-20      142.94"
      ]
     },
     "execution_count": 21,
     "metadata": {},
     "output_type": "execute_result"
    }
   ],
   "source": [
    "df_AAPL_new.head()"
   ]
  },
  {
   "cell_type": "code",
   "execution_count": 22,
   "id": "0ddaf5d3",
   "metadata": {},
   "outputs": [
    {
     "name": "stdout",
     "output_type": "stream",
     "text": [
      "<class 'pandas.core.frame.DataFrame'>\n",
      "DatetimeIndex: 126 entries, 2021-09-24 to 2021-03-29\n",
      "Data columns (total 1 columns):\n",
      " #   Column      Non-Null Count  Dtype  \n",
      "---  ------      --------------  -----  \n",
      " 0   Close/Last  126 non-null    float64\n",
      "dtypes: float64(1)\n",
      "memory usage: 2.0 KB\n"
     ]
    }
   ],
   "source": [
    "df_AAPL_new.info()"
   ]
  },
  {
   "cell_type": "code",
   "execution_count": 23,
   "id": "004cdcf4",
   "metadata": {},
   "outputs": [
    {
     "data": {
      "text/plain": [
       "<AxesSubplot:xlabel='Date'>"
      ]
     },
     "execution_count": 23,
     "metadata": {},
     "output_type": "execute_result"
    },
    {
     "data": {
      "image/png": "[encoded data removed]",
      "text/plain": [
       "<Figure size 1008x576 with 1 Axes>"
      ]
     },
     "metadata": {
      "needs_background": "light"
     },
     "output_type": "display_data"
    }
   ],
   "source": [
    "# data visualization using matplotlib\n",
    "df_AAPL_new.plot()"
   ]
  },
  {
   "cell_type": "code",
   "execution_count": 24,
   "id": "ed300a42",
   "metadata": {},
   "outputs": [
    {
     "data": {
      "image/png": "[encoded data removed]",
      "text/plain": [
       "<Figure size 1152x576 with 1 Axes>"
      ]
     },
     "metadata": {
      "needs_background": "light"
     },
     "output_type": "display_data"
    }
   ],
   "source": [
    "# visualize the closing price history\n",
    "plt.figure(figsize=(16,8))\n",
    "plt.title(\"AAPL Stock Close Price History\", fontsize=18)\n",
    "plt.plot(df_AAPL_new['Close/Last'])\n",
    "plt.xlabel(\"Date\", fontsize = 18)\n",
    "plt.ylabel(\"Stock Closing Price (in USD)\", fontsize=18)\n",
    "plt.grid(True)\n",
    "plt.show()"
   ]
  },
  {
   "cell_type": "code",
   "execution_count": 25,
   "id": "bba0d6a6",
   "metadata": {},
   "outputs": [
    {
     "data": {
      "text/plain": [
       "DatetimeIndex(['2021-09-24', '2021-09-23', '2021-09-22', '2021-09-21',\n",
       "               '2021-09-20', '2021-09-17', '2021-09-16', '2021-09-15',\n",
       "               '2021-09-14', '2021-09-13',\n",
       "               ...\n",
       "               '2021-04-12', '2021-04-09', '2021-04-08', '2021-04-07',\n",
       "               '2021-04-06', '2021-04-05', '2021-04-01', '2021-03-31',\n",
       "               '2021-03-30', '2021-03-29'],\n",
       "              dtype='datetime64[ns]', name='Date', length=126, freq=None)"
      ]
     },
     "execution_count": 25,
     "metadata": {},
     "output_type": "execute_result"
    }
   ],
   "source": [
    "#check datatype of index\n",
    "# df_AAPL.index\n",
    "df_AAPL_new.index"
   ]
  },
  {
   "cell_type": "code",
   "execution_count": 26,
   "id": "b5502014",
   "metadata": {},
   "outputs": [
    {
     "data": {
      "text/plain": [
       "array([[146.92 ],\n",
       "       [146.83 ],\n",
       "       [145.85 ],\n",
       "       [143.43 ],\n",
       "       [142.94 ],\n",
       "       [146.06 ],\n",
       "       [148.79 ],\n",
       "       [149.03 ],\n",
       "       [148.12 ],\n",
       "       [149.55 ],\n",
       "       [148.97 ],\n",
       "       [154.07 ],\n",
       "       [155.11 ],\n",
       "       [156.69 ],\n",
       "       [154.3  ],\n",
       "       [153.65 ],\n",
       "       [152.51 ],\n",
       "       [151.83 ],\n",
       "       [153.12 ],\n",
       "       [148.6  ],\n",
       "       [147.54 ],\n",
       "       [148.36 ],\n",
       "       [149.62 ],\n",
       "       [149.71 ],\n",
       "       [148.19 ],\n",
       "       [146.7  ],\n",
       "       [146.36 ],\n",
       "       [150.19 ],\n",
       "       [151.12 ],\n",
       "       [149.1  ],\n",
       "       [148.89 ],\n",
       "       [145.86 ],\n",
       "       [145.6  ],\n",
       "       [146.09 ],\n",
       "       [146.14 ],\n",
       "       [147.06 ],\n",
       "       [146.95 ],\n",
       "       [147.36 ],\n",
       "       [145.52 ],\n",
       "       [145.86 ],\n",
       "       [145.64 ],\n",
       "       [144.98 ],\n",
       "       [146.77 ],\n",
       "       [148.99 ],\n",
       "       [148.56 ],\n",
       "       [146.8  ],\n",
       "       [145.4  ],\n",
       "       [146.15 ],\n",
       "       [142.45 ],\n",
       "       [146.39 ],\n",
       "       [148.48 ],\n",
       "       [149.15 ],\n",
       "       [145.64 ],\n",
       "       [144.5  ],\n",
       "       [145.11 ],\n",
       "       [143.24 ],\n",
       "       [144.57 ],\n",
       "       [142.02 ],\n",
       "       [139.96 ],\n",
       "       [137.27 ],\n",
       "       [136.96 ],\n",
       "       [136.33 ],\n",
       "       [134.78 ],\n",
       "       [133.11 ],\n",
       "       [133.41 ],\n",
       "       [133.7  ],\n",
       "       [133.98 ],\n",
       "       [132.3  ],\n",
       "       [130.46 ],\n",
       "       [131.79 ],\n",
       "       [130.15 ],\n",
       "       [129.64 ],\n",
       "       [130.48 ],\n",
       "       [127.35 ],\n",
       "       [126.11 ],\n",
       "       [127.13 ],\n",
       "       [126.74 ],\n",
       "       [125.9  ],\n",
       "       [125.89 ],\n",
       "       [123.54 ],\n",
       "       [125.06 ],\n",
       "       [124.28 ],\n",
       "       [124.61 ],\n",
       "       [125.28 ],\n",
       "       [126.85 ],\n",
       "       [126.9  ],\n",
       "       [127.1  ],\n",
       "       [125.43 ],\n",
       "       [127.31 ],\n",
       "       [124.69 ],\n",
       "       [124.85 ],\n",
       "       [126.27 ],\n",
       "       [127.45 ],\n",
       "       [124.97 ],\n",
       "       [122.77 ],\n",
       "       [125.91 ],\n",
       "       [126.85 ],\n",
       "       [130.21 ],\n",
       "       [129.74 ],\n",
       "       [128.1  ],\n",
       "       [127.85 ],\n",
       "       [132.54 ],\n",
       "       [131.46 ],\n",
       "       [133.48 ],\n",
       "       [133.58 ],\n",
       "       [134.39 ],\n",
       "       [134.72 ],\n",
       "       [134.32 ],\n",
       "       [131.94 ],\n",
       "       [133.5  ],\n",
       "       [133.11 ],\n",
       "       [134.84 ],\n",
       "       [134.16 ],\n",
       "       [134.5  ],\n",
       "       [132.03 ],\n",
       "       [134.43 ],\n",
       "       [131.24 ],\n",
       "       [132.995],\n",
       "       [130.36 ],\n",
       "       [127.9  ],\n",
       "       [126.21 ],\n",
       "       [125.9  ],\n",
       "       [123.   ],\n",
       "       [122.15 ],\n",
       "       [119.9  ],\n",
       "       [121.39 ]])"
      ]
     },
     "execution_count": 26,
     "metadata": {},
     "output_type": "execute_result"
    }
   ],
   "source": [
    "# convert to numpy array\n",
    "data = df_AAPL_new.values\n",
    "data"
   ]
  },
  {
   "cell_type": "markdown",
   "id": "ccfa75e3",
   "metadata": {},
   "source": [
    "## Train-Test Split"
   ]
  },
  {
   "cell_type": "code",
   "execution_count": 27,
   "id": "c532c708",
   "metadata": {},
   "outputs": [
    {
     "data": {
      "text/plain": [
       "126"
      ]
     },
     "execution_count": 27,
     "metadata": {},
     "output_type": "execute_result"
    }
   ],
   "source": [
    "len(df_AAPL_new)"
   ]
  },
  {
   "cell_type": "code",
   "execution_count": 28,
   "id": "3b3d0ac8",
   "metadata": {},
   "outputs": [
    {
     "data": {
      "text/plain": [
       "26"
      ]
     },
     "execution_count": 28,
     "metadata": {},
     "output_type": "execute_result"
    }
   ],
   "source": [
    "import math\n",
    "math.ceil(len(df_AAPL_new) * 0.2)"
   ]
  },
  {
   "cell_type": "code",
   "execution_count": 29,
   "id": "690c7b07",
   "metadata": {},
   "outputs": [],
   "source": [
    "train_size = len(df_AAPL_new) - math.ceil(len(df_AAPL_new) * 0.2)"
   ]
  },
  {
   "cell_type": "code",
   "execution_count": 30,
   "id": "11728b4c",
   "metadata": {},
   "outputs": [
    {
     "data": {
      "text/plain": [
       "100"
      ]
     },
     "execution_count": 30,
     "metadata": {},
     "output_type": "execute_result"
    }
   ],
   "source": [
    "train_size"
   ]
  },
  {
   "cell_type": "code",
   "execution_count": 31,
   "id": "44e49d64",
   "metadata": {},
   "outputs": [],
   "source": [
    "test_size = len(df_AAPL_new) - train_size"
   ]
  },
  {
   "cell_type": "code",
   "execution_count": 32,
   "id": "95378c70",
   "metadata": {},
   "outputs": [
    {
     "data": {
      "text/plain": [
       "26"
      ]
     },
     "execution_count": 32,
     "metadata": {},
     "output_type": "execute_result"
    }
   ],
   "source": [
    "test_size"
   ]
  },
  {
   "cell_type": "code",
   "execution_count": 33,
   "id": "0f076a82",
   "metadata": {},
   "outputs": [],
   "source": [
    "test_ind = len(df_AAPL_new)- test_size"
   ]
  },
  {
   "cell_type": "code",
   "execution_count": 34,
   "id": "1815263b",
   "metadata": {},
   "outputs": [],
   "source": [
    "train = df_AAPL_new.iloc[:test_ind]\n",
    "test = df_AAPL_new.iloc[test_ind:]"
   ]
  },
  {
   "cell_type": "code",
   "execution_count": 35,
   "id": "97c5e2fb",
   "metadata": {},
   "outputs": [
    {
     "data": {
      "text/html": [
       "<div>\n",
       "<style scoped>\n",
       "    .dataframe tbody tr th:only-of-type {\n",
       "        vertical-align: middle;\n",
       "    }\n",
       "\n",
       "    .dataframe tbody tr th {\n",
       "        vertical-align: top;\n",
       "    }\n",
       "\n",
       "    .dataframe thead th {\n",
       "        text-align: right;\n",
       "    }\n",
       "</style>\n",
       "<table border=\"1\" class=\"dataframe\">\n",
       "  <thead>\n",
       "    <tr style=\"text-align: right;\">\n",
       "      <th></th>\n",
       "      <th>Close/Last</th>\n",
       "    </tr>\n",
       "    <tr>\n",
       "      <th>Date</th>\n",
       "      <th></th>\n",
       "    </tr>\n",
       "  </thead>\n",
       "  <tbody>\n",
       "    <tr>\n",
       "      <th>2021-09-24</th>\n",
       "      <td>146.92</td>\n",
       "    </tr>\n",
       "    <tr>\n",
       "      <th>2021-09-23</th>\n",
       "      <td>146.83</td>\n",
       "    </tr>\n",
       "    <tr>\n",
       "      <th>2021-09-22</th>\n",
       "      <td>145.85</td>\n",
       "    </tr>\n",
       "    <tr>\n",
       "      <th>2021-09-21</th>\n",
       "      <td>143.43</td>\n",
       "    </tr>\n",
       "    <tr>\n",
       "      <th>2021-09-20</th>\n",
       "      <td>142.94</td>\n",
       "    </tr>\n",
       "    <tr>\n",
       "      <th>...</th>\n",
       "      <td>...</td>\n",
       "    </tr>\n",
       "    <tr>\n",
       "      <th>2021-05-11</th>\n",
       "      <td>125.91</td>\n",
       "    </tr>\n",
       "    <tr>\n",
       "      <th>2021-05-10</th>\n",
       "      <td>126.85</td>\n",
       "    </tr>\n",
       "    <tr>\n",
       "      <th>2021-05-07</th>\n",
       "      <td>130.21</td>\n",
       "    </tr>\n",
       "    <tr>\n",
       "      <th>2021-05-06</th>\n",
       "      <td>129.74</td>\n",
       "    </tr>\n",
       "    <tr>\n",
       "      <th>2021-05-05</th>\n",
       "      <td>128.10</td>\n",
       "    </tr>\n",
       "  </tbody>\n",
       "</table>\n",
       "<p>100 rows × 1 columns</p>\n",
       "</div>"
      ],
      "text/plain": [
       "            Close/Last\n",
       "Date                  \n",
       "2021-09-24      146.92\n",
       "2021-09-23      146.83\n",
       "2021-09-22      145.85\n",
       "2021-09-21      143.43\n",
       "2021-09-20      142.94\n",
       "...                ...\n",
       "2021-05-11      125.91\n",
       "2021-05-10      126.85\n",
       "2021-05-07      130.21\n",
       "2021-05-06      129.74\n",
       "2021-05-05      128.10\n",
       "\n",
       "[100 rows x 1 columns]"
      ]
     },
     "execution_count": 35,
     "metadata": {},
     "output_type": "execute_result"
    }
   ],
   "source": [
    "train"
   ]
  },
  {
   "cell_type": "code",
   "execution_count": 36,
   "id": "adfe6f18",
   "metadata": {},
   "outputs": [
    {
     "data": {
      "text/html": [
       "<div>\n",
       "<style scoped>\n",
       "    .dataframe tbody tr th:only-of-type {\n",
       "        vertical-align: middle;\n",
       "    }\n",
       "\n",
       "    .dataframe tbody tr th {\n",
       "        vertical-align: top;\n",
       "    }\n",
       "\n",
       "    .dataframe thead th {\n",
       "        text-align: right;\n",
       "    }\n",
       "</style>\n",
       "<table border=\"1\" class=\"dataframe\">\n",
       "  <thead>\n",
       "    <tr style=\"text-align: right;\">\n",
       "      <th></th>\n",
       "      <th>Close/Last</th>\n",
       "    </tr>\n",
       "    <tr>\n",
       "      <th>Date</th>\n",
       "      <th></th>\n",
       "    </tr>\n",
       "  </thead>\n",
       "  <tbody>\n",
       "    <tr>\n",
       "      <th>2021-05-04</th>\n",
       "      <td>127.850</td>\n",
       "    </tr>\n",
       "    <tr>\n",
       "      <th>2021-05-03</th>\n",
       "      <td>132.540</td>\n",
       "    </tr>\n",
       "    <tr>\n",
       "      <th>2021-04-30</th>\n",
       "      <td>131.460</td>\n",
       "    </tr>\n",
       "    <tr>\n",
       "      <th>2021-04-29</th>\n",
       "      <td>133.480</td>\n",
       "    </tr>\n",
       "    <tr>\n",
       "      <th>2021-04-28</th>\n",
       "      <td>133.580</td>\n",
       "    </tr>\n",
       "    <tr>\n",
       "      <th>2021-04-27</th>\n",
       "      <td>134.390</td>\n",
       "    </tr>\n",
       "    <tr>\n",
       "      <th>2021-04-26</th>\n",
       "      <td>134.720</td>\n",
       "    </tr>\n",
       "    <tr>\n",
       "      <th>2021-04-23</th>\n",
       "      <td>134.320</td>\n",
       "    </tr>\n",
       "    <tr>\n",
       "      <th>2021-04-22</th>\n",
       "      <td>131.940</td>\n",
       "    </tr>\n",
       "    <tr>\n",
       "      <th>2021-04-21</th>\n",
       "      <td>133.500</td>\n",
       "    </tr>\n",
       "    <tr>\n",
       "      <th>2021-04-20</th>\n",
       "      <td>133.110</td>\n",
       "    </tr>\n",
       "    <tr>\n",
       "      <th>2021-04-19</th>\n",
       "      <td>134.840</td>\n",
       "    </tr>\n",
       "    <tr>\n",
       "      <th>2021-04-16</th>\n",
       "      <td>134.160</td>\n",
       "    </tr>\n",
       "    <tr>\n",
       "      <th>2021-04-15</th>\n",
       "      <td>134.500</td>\n",
       "    </tr>\n",
       "    <tr>\n",
       "      <th>2021-04-14</th>\n",
       "      <td>132.030</td>\n",
       "    </tr>\n",
       "    <tr>\n",
       "      <th>2021-04-13</th>\n",
       "      <td>134.430</td>\n",
       "    </tr>\n",
       "    <tr>\n",
       "      <th>2021-04-12</th>\n",
       "      <td>131.240</td>\n",
       "    </tr>\n",
       "    <tr>\n",
       "      <th>2021-04-09</th>\n",
       "      <td>132.995</td>\n",
       "    </tr>\n",
       "    <tr>\n",
       "      <th>2021-04-08</th>\n",
       "      <td>130.360</td>\n",
       "    </tr>\n",
       "    <tr>\n",
       "      <th>2021-04-07</th>\n",
       "      <td>127.900</td>\n",
       "    </tr>\n",
       "    <tr>\n",
       "      <th>2021-04-06</th>\n",
       "      <td>126.210</td>\n",
       "    </tr>\n",
       "    <tr>\n",
       "      <th>2021-04-05</th>\n",
       "      <td>125.900</td>\n",
       "    </tr>\n",
       "    <tr>\n",
       "      <th>2021-04-01</th>\n",
       "      <td>123.000</td>\n",
       "    </tr>\n",
       "    <tr>\n",
       "      <th>2021-03-31</th>\n",
       "      <td>122.150</td>\n",
       "    </tr>\n",
       "    <tr>\n",
       "      <th>2021-03-30</th>\n",
       "      <td>119.900</td>\n",
       "    </tr>\n",
       "    <tr>\n",
       "      <th>2021-03-29</th>\n",
       "      <td>121.390</td>\n",
       "    </tr>\n",
       "  </tbody>\n",
       "</table>\n",
       "</div>"
      ],
      "text/plain": [
       "            Close/Last\n",
       "Date                  \n",
       "2021-05-04     127.850\n",
       "2021-05-03     132.540\n",
       "2021-04-30     131.460\n",
       "2021-04-29     133.480\n",
       "2021-04-28     133.580\n",
       "2021-04-27     134.390\n",
       "2021-04-26     134.720\n",
       "2021-04-23     134.320\n",
       "2021-04-22     131.940\n",
       "2021-04-21     133.500\n",
       "2021-04-20     133.110\n",
       "2021-04-19     134.840\n",
       "2021-04-16     134.160\n",
       "2021-04-15     134.500\n",
       "2021-04-14     132.030\n",
       "2021-04-13     134.430\n",
       "2021-04-12     131.240\n",
       "2021-04-09     132.995\n",
       "2021-04-08     130.360\n",
       "2021-04-07     127.900\n",
       "2021-04-06     126.210\n",
       "2021-04-05     125.900\n",
       "2021-04-01     123.000\n",
       "2021-03-31     122.150\n",
       "2021-03-30     119.900\n",
       "2021-03-29     121.390"
      ]
     },
     "execution_count": 36,
     "metadata": {},
     "output_type": "execute_result"
    }
   ],
   "source": [
    "test"
   ]
  },
  {
   "cell_type": "code",
   "execution_count": 37,
   "id": "dcc0c0be",
   "metadata": {},
   "outputs": [
    {
     "data": {
      "text/plain": [
       "(100, 26)"
      ]
     },
     "execution_count": 37,
     "metadata": {},
     "output_type": "execute_result"
    }
   ],
   "source": [
    "train_size, test_size"
   ]
  },
  {
   "cell_type": "markdown",
   "id": "1df5dd16",
   "metadata": {},
   "source": [
    "## Feature Scaling"
   ]
  },
  {
   "cell_type": "code",
   "execution_count": 38,
   "id": "103ef69c",
   "metadata": {},
   "outputs": [
    {
     "data": {
      "text/plain": [
       "'0.24.2'"
      ]
     },
     "execution_count": 38,
     "metadata": {},
     "output_type": "execute_result"
    }
   ],
   "source": [
    "import sklearn\n",
    "sklearn.__version__"
   ]
  },
  {
   "cell_type": "code",
   "execution_count": 39,
   "id": "48056520",
   "metadata": {},
   "outputs": [],
   "source": [
    "from sklearn.preprocessing import MinMaxScaler"
   ]
  },
  {
   "cell_type": "code",
   "execution_count": 40,
   "id": "4be860fb",
   "metadata": {},
   "outputs": [],
   "source": [
    "scaler = MinMaxScaler(feature_range=(0, 1))\n",
    "# scaler = MinMaxScaler()"
   ]
  },
  {
   "cell_type": "code",
   "execution_count": 41,
   "id": "5cf76ae1",
   "metadata": {},
   "outputs": [
    {
     "data": {
      "text/plain": [
       "MinMaxScaler()"
      ]
     },
     "execution_count": 41,
     "metadata": {},
     "output_type": "execute_result"
    }
   ],
   "source": [
    "# Scale the Data\n",
    "scaler.fit(train)"
   ]
  },
  {
   "cell_type": "code",
   "execution_count": 42,
   "id": "119dfbc1",
   "metadata": {},
   "outputs": [],
   "source": [
    "scaled_train = scaler.transform(train)\n",
    "scaled_test = scaler.transform(test)"
   ]
  },
  {
   "cell_type": "code",
   "execution_count": 43,
   "id": "53ce7e08",
   "metadata": {},
   "outputs": [
    {
     "data": {
      "text/plain": [
       "array([[0.71196934],\n",
       "       [0.70931604],\n",
       "       [0.68042453],\n",
       "       [0.60908019],\n",
       "       [0.59463443],\n",
       "       [0.68661557],\n",
       "       [0.76709906],\n",
       "       [0.77417453],\n",
       "       [0.7473467 ],\n",
       "       [0.78950472],\n",
       "       [0.77240566],\n",
       "       [0.92275943],\n",
       "       [0.95341981],\n",
       "       [1.        ],\n",
       "       [0.92954009],\n",
       "       [0.91037736],\n",
       "       [0.87676887],\n",
       "       [0.8567217 ],\n",
       "       [0.89475236],\n",
       "       [0.76149764],\n",
       "       [0.73024764],\n",
       "       [0.75442217],\n",
       "       [0.7915684 ],\n",
       "       [0.7942217 ],\n",
       "       [0.74941038],\n",
       "       [0.70548349],\n",
       "       [0.69545991],\n",
       "       [0.80837264],\n",
       "       [0.83579009],\n",
       "       [0.77623821],\n",
       "       [0.77004717],\n",
       "       [0.68071934],\n",
       "       [0.67305425],\n",
       "       [0.6875    ],\n",
       "       [0.68897406],\n",
       "       [0.7160967 ],\n",
       "       [0.71285377],\n",
       "       [0.72494104],\n",
       "       [0.67069575],\n",
       "       [0.68071934],\n",
       "       [0.67423349],\n",
       "       [0.65477594],\n",
       "       [0.70754717],\n",
       "       [0.77299528],\n",
       "       [0.7603184 ],\n",
       "       [0.7084316 ],\n",
       "       [0.66715802],\n",
       "       [0.68926887],\n",
       "       [0.58018868],\n",
       "       [0.69634434],\n",
       "       [0.75795991],\n",
       "       [0.77771226],\n",
       "       [0.67423349],\n",
       "       [0.640625  ],\n",
       "       [0.65860849],\n",
       "       [0.60347877],\n",
       "       [0.64268868],\n",
       "       [0.56751179],\n",
       "       [0.50678066],\n",
       "       [0.42747642],\n",
       "       [0.41833726],\n",
       "       [0.39976415],\n",
       "       [0.3540684 ],\n",
       "       [0.30483491],\n",
       "       [0.31367925],\n",
       "       [0.32222877],\n",
       "       [0.33048349],\n",
       "       [0.28095519],\n",
       "       [0.22670991],\n",
       "       [0.26591981],\n",
       "       [0.21757075],\n",
       "       [0.20253538],\n",
       "       [0.22729953],\n",
       "       [0.13502358],\n",
       "       [0.09846698],\n",
       "       [0.12853774],\n",
       "       [0.11704009],\n",
       "       [0.09227594],\n",
       "       [0.09198113],\n",
       "       [0.02270047],\n",
       "       [0.06751179],\n",
       "       [0.04451651],\n",
       "       [0.05424528],\n",
       "       [0.07399764],\n",
       "       [0.12028302],\n",
       "       [0.12175708],\n",
       "       [0.1276533 ],\n",
       "       [0.07841981],\n",
       "       [0.13384434],\n",
       "       [0.05660377],\n",
       "       [0.06132075],\n",
       "       [0.10318396],\n",
       "       [0.1379717 ],\n",
       "       [0.06485849],\n",
       "       [0.        ],\n",
       "       [0.09257075],\n",
       "       [0.12028302],\n",
       "       [0.21933962],\n",
       "       [0.20548349],\n",
       "       [0.15713443]])"
      ]
     },
     "execution_count": 43,
     "metadata": {},
     "output_type": "execute_result"
    }
   ],
   "source": [
    "scaled_train"
   ]
  },
  {
   "cell_type": "code",
   "execution_count": 44,
   "id": "4a182715",
   "metadata": {},
   "outputs": [
    {
     "data": {
      "text/plain": [
       "array([[ 0.14976415],\n",
       "       [ 0.28803066],\n",
       "       [ 0.25619104],\n",
       "       [ 0.31574292],\n",
       "       [ 0.31869104],\n",
       "       [ 0.34257075],\n",
       "       [ 0.35229953],\n",
       "       [ 0.34050708],\n",
       "       [ 0.27034198],\n",
       "       [ 0.31633255],\n",
       "       [ 0.30483491],\n",
       "       [ 0.35583726],\n",
       "       [ 0.33579009],\n",
       "       [ 0.34581368],\n",
       "       [ 0.27299528],\n",
       "       [ 0.34375   ],\n",
       "       [ 0.24970519],\n",
       "       [ 0.30144458],\n",
       "       [ 0.22376179],\n",
       "       [ 0.15123821],\n",
       "       [ 0.10141509],\n",
       "       [ 0.09227594],\n",
       "       [ 0.00678066],\n",
       "       [-0.0182783 ],\n",
       "       [-0.08461085],\n",
       "       [-0.04068396]])"
      ]
     },
     "execution_count": 44,
     "metadata": {},
     "output_type": "execute_result"
    }
   ],
   "source": [
    "scaled_test"
   ]
  },
  {
   "cell_type": "code",
   "execution_count": null,
   "id": "8207c1bf",
   "metadata": {},
   "outputs": [],
   "source": []
  }
 ],
 "metadata": {
  "kernelspec": {
   "display_name": "Python 3 (ipykernel)",
   "language": "python",
   "name": "python3"
  },
  "language_info": {
   "codemirror_mode": {
    "name": "ipython",
    "version": 3
   },
   "file_extension": ".py",
   "mimetype": "text/x-python",
   "name": "python",
   "nbconvert_exporter": "python",
   "pygments_lexer": "ipython3",
   "version": "3.7.10"
  }
 },
 "nbformat": 4,
 "nbformat_minor": 5
}
